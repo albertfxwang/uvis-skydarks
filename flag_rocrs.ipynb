{
 "cells": [
  {
   "cell_type": "code",
   "execution_count": null,
   "metadata": {
    "collapsed": true
   },
   "outputs": [],
   "source": [
    "# The next cell relies on flcs having CR flags (dq value 4096), so run them through drizzle to get\n",
    "# them if they dont already exist.\n",
    "\n",
    "from drizzlepac import astrodrizzle as ad\n",
    "import glob\n",
    "from stsci.tools import teal\n",
    "\n",
    "teal.unlearn('astrodrizzle')\n",
    "    \n",
    "files = glob.glob('*_flc.fits')\n",
    "ad.AstroDrizzle(files, driz_cr_corr=True, driz_combine=True, clean=True, build=True, \n",
    "                driz_cr_snr='3.5 3.0')\n"
   ]
  },
  {
   "cell_type": "code",
   "execution_count": null,
   "metadata": {
    "collapsed": true
   },
   "outputs": [],
   "source": []
  },
  {
   "cell_type": "code",
   "execution_count": 23,
   "metadata": {},
   "outputs": [
    {
     "name": "stdout",
     "output_type": "stream",
     "text": [
      "Flagging ROCRs in ie8u01ezq_flc.fits ...\n",
      "\t Threshold Ext 1 = 0.061 - 3.0*5.533 = -16.537\n",
      "\t # of ROCR flags in Ext 1: 30449\n",
      "\t Threshold Ext 4 = 0.084 - 3.0*5.982 = -17.861\n",
      "\t # of ROCR flags in Ext 4: 34854\n",
      "\t ROCR-flagged image saved to ie8u01ezq_rocr_flagged_flc.fits\n",
      "Flagging ROCRs in jdxfa9i7q_flc.fits ...\n",
      "\t Threshold Ext 1 = 35.339 - 3.0*10.266 = 4.542\n",
      "\t # of ROCR flags in Ext 1: 16428\n",
      "\t Threshold Ext 4 = 34.828 - 3.0*9.967 = 4.928\n",
      "\t # of ROCR flags in Ext 4: 19590\n",
      "\t ROCR-flagged image saved to jdxfa9i7q_rocr_flagged_flc.fits\n"
     ]
    }
   ],
   "source": [
    "# Flag pixels as \"bad detector pixel\" (dq value 4) that are within 5 pixels of a CR hit (away from the\n",
    "# readout direction) AND X sigma below the image mean (where the sigma and mean here are from a Gaussian \n",
    "# fit to the sigma-clipped image data).\n",
    "#\n",
    "# These pixels are read out cosmic rays (ROCRs), i.e. pixels that fall during readout and therefore \n",
    "# trick the CTE correction into overcorrecting them since it thinks they fell farther from the amp\n",
    "# than they actually did.\n",
    "\n",
    "import glob\n",
    "import os\n",
    "from astropy.io import fits\n",
    "from astropy.stats import sigma_clip\n",
    "from astropy.modeling import models, fitting\n",
    "import numpy as np\n",
    "\n",
    "########################################## USER INPUTS ####################################################\n",
    "\n",
    "# the files to use to find the ROCRs (i.e. drizzling has been done on these files so they have CR flags)\n",
    "files = sorted(glob.glob('../test_data/*flc.fits'))\n",
    "\n",
    "# the directory containing the files to add the ROCR flags to (no drizzling has been done on these files)\n",
    "untouched_files_dir = '../test_data_untouched/'\n",
    "\n",
    "# the sigma to use when determining the threshold for flagging ROCRs\n",
    "sigma = 3.0\n",
    "\n",
    "###########################################################################################################\n",
    "\n",
    "for f in files:\n",
    "    basename = os.path.basename(f)\n",
    "    print('Flagging ROCRs in {} ...'.format(basename))\n",
    "    untouched_file = os.path.join(untouched_files_dir, basename)\n",
    "    h = fits.open(f)\n",
    "    h_untouched = fits.open(untouched_file)\n",
    "    \n",
    "    for ext in [1,4]:\n",
    "        data = h[ext].data\n",
    "        dq = h[ext+2].data\n",
    "        dq_untouched = h_untouched[ext+2].data\n",
    "        n_y, n_x = data.shape\n",
    "        \n",
    "        # Find lower limit for flaggincg ROCRs\n",
    "        clipped = sigma_clip(data, sigma=3, iters=5)\n",
    "        d = clipped[clipped.mask==False].data\n",
    "        n, bins = np.histogram(d, bins=70)\n",
    "        bin_centers = (bins[:-1] + bins[1:]) / 2\n",
    "        g_init = models.Gaussian1D(amplitude=n[n==max(n)], mean=bin_centers[n==max(n)], stddev=np.std(d))\n",
    "        fit_g = fitting.LevMarLSQFitter()\n",
    "        g = fit_g(g_init, bin_centers, n)\n",
    "        thresh = g.mean.value[0] - sigma*g.stddev.value\n",
    "        print('\\t Threshold Ext {} = {:.3f} - {}*{:.3f} = {:.3f}'.format(ext, g.mean.value[0], sigma, \n",
    "                                                                      g.stddev.value, thresh))\n",
    "    \n",
    "        # Make mask of all CR hits\n",
    "        cr_mask = np.zeros(dq.shape, dtype=int)\n",
    "        cr_mask[dq&4096!=0] = 1\n",
    "\n",
    "        # Flag pixels within 5 pixels of a CR hit (away from readout) that are below the threshold \n",
    "        coords = np.where(cr_mask==1)\n",
    "        cr_mask_new = np.zeros(cr_mask.shape)\n",
    "        for i in np.arange(len(coords[0])):\n",
    "            x,y = coords[1][i], coords[0][i]\n",
    "\n",
    "            # Get the first y-coordinate to check\n",
    "            if ext==1:\n",
    "                running_y = y + 1\n",
    "            elif ext==4:\n",
    "                running_y = y - 1\n",
    "            else:\n",
    "                print('extension {} not expected'.format(ext))\n",
    "\n",
    "            # See if this coordinate has a value below the threshold\n",
    "            count = 0\n",
    "            while count < 5:  # stay within 5 pixels of cr hit\n",
    "                if (running_y <= n_y-1) & (running_y >= 0):  # avoid going off the image y-dimension          \n",
    "                    val = data[running_y, x]\n",
    "                    if val < thresh:\n",
    "                        cr_mask_new[running_y, x] = 1\n",
    "                    if ext==1:\n",
    "                        running_y += 1\n",
    "                    elif ext==4:\n",
    "                        running_y -= 1\n",
    "                    else:\n",
    "                        print('extension {} not expected'.format(ext))\n",
    "                else:\n",
    "                    pass\n",
    "\n",
    "                count += 1\n",
    "    \n",
    "        # Add in new ROCR flags as 4 (bad detector pixel)\n",
    "        dq_untouched[(dq_untouched&4==0) & (cr_mask_new==1)] += 4\n",
    "        h_untouched[ext+2].data = dq_untouched\n",
    "        \n",
    "        # Write out ROCR flag map\n",
    "        fits.writeto(f.replace('_flc.fits','_rocr_map_ext_{}.fits'.format(ext)), cr_mask_new, overwrite=True)\n",
    "        print('\\t # of ROCR flags in Ext {}: {}'.format(ext, len(cr_mask_new[cr_mask_new==1])))\n",
    "        \n",
    "    # Write out the ROCR-flagged flc file\n",
    "    outname = untouched_file.replace('_flc.fits','_rocr_flagged_flc.fits')\n",
    "    h_untouched.writeto(outname, overwrite=True)\n",
    "    h_untouched.close()\n",
    "    print('\\t ROCR-flagged image saved to {}'.format(os.path.basename(outname)))\n"
   ]
  },
  {
   "cell_type": "code",
   "execution_count": null,
   "metadata": {
    "collapsed": true
   },
   "outputs": [],
   "source": [
    "    "
   ]
  }
 ],
 "metadata": {
  "kernelspec": {
   "display_name": "Python 3",
   "language": "python",
   "name": "python3"
  },
  "language_info": {
   "codemirror_mode": {
    "name": "ipython",
    "version": 3
   },
   "file_extension": ".py",
   "mimetype": "text/x-python",
   "name": "python",
   "nbconvert_exporter": "python",
   "pygments_lexer": "ipython3",
   "version": "3.5.4"
  }
 },
 "nbformat": 4,
 "nbformat_minor": 2
}
