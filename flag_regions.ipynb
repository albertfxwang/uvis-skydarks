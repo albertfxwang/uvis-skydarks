{
 "cells": [
  {
   "cell_type": "code",
   "execution_count": 12,
   "metadata": {
    "collapsed": true
   },
   "outputs": [],
   "source": [
    "# Takes any .reg files created in ds9 and flags the region in the corresponding FLC images' DQ arrays.\n",
    "\n",
    "# To create the .reg files, open the FLC image in ds9 and draw a region (Region -> Shape -> Polygon) \n",
    "# around the object you want to flag (e.g. a sattelite trail), and then save this region.\n",
    "# When saving the .reg file in ds9 (Region -> Save Regions), set format=ds9, coord system=image \n",
    "# and call it <dataset>_ext<1/4>.reg depending on what SCI extension the object is in, e.g. 'idj502t0q_ext_1.reg'\n",
    "\n",
    "import glob\n",
    "import os\n",
    "import shutil\n",
    "\n",
    "from astropy.io import fits\n",
    "import numpy as np\n",
    "import pyregion\n",
    "\n",
    "# Make a list of all created .reg files\n",
    "files = glob.glob('../flag_test/*.reg')\n",
    "for f in files:\n",
    "    \n",
    "    # Get basename/flc name and sci extension to flag\n",
    "    basename = os.path.basename(f)\n",
    "    ext = int(basename.split('_')[2].split('.')[0])\n",
    "    flc_filename = f.replace('_ext_{}.reg'.format(ext), '_flc.fits')\n",
    "    \n",
    "    # Open the relevant flc image and corresponding region file\n",
    "    h = fits.open(flc_filename)\n",
    "    r = pyregion.open(f).as_imagecoord(h[ext+2].header)\n",
    "    \n",
    "    # Make a mask using the region file, same dimensions as flc extension\n",
    "    mask = r.get_mask(hdu=h[ext+2])\n",
    "    \n",
    "    # Make a new DQ array for this image, incorporating the region mask\n",
    "    dq = h[ext+2].data\n",
    "    new_dq = np.zeros(mask.shape)\n",
    "    new_dq[mask == True] = 16384 # this bit is currently unused in ACS and UVIS\n",
    "    new_dq += dq\n",
    "    h[ext+2].data = new_dq.astype('int16')\n",
    "    \n",
    "    # Save this image with the updated DQ array\n",
    "    h.writeto(flc_filename, overwrite=True)\n",
    "    h.close()\n"
   ]
  },
  {
   "cell_type": "code",
   "execution_count": null,
   "metadata": {
    "collapsed": true
   },
   "outputs": [],
   "source": []
  }
 ],
 "metadata": {
  "kernelspec": {
   "display_name": "Python 3",
   "language": "python",
   "name": "python3"
  },
  "language_info": {
   "codemirror_mode": {
    "name": "ipython",
    "version": 3
   },
   "file_extension": ".py",
   "mimetype": "text/x-python",
   "name": "python",
   "nbconvert_exporter": "python",
   "pygments_lexer": "ipython3",
   "version": "3.5.4"
  }
 },
 "nbformat": 4,
 "nbformat_minor": 2
}
