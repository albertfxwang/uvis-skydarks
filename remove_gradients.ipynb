{
 "cells": [
  {
   "cell_type": "code",
   "execution_count": 10,
   "metadata": {},
   "outputs": [
    {
     "name": "stdout",
     "output_type": "stream",
     "text": [
      "Working on jdxfa9inq_flc.fits ...\n",
      "\tWorking on extension 1...\n"
     ]
    },
    {
     "name": "stderr",
     "output_type": "stream",
     "text": [
      "/Users/bsunnquist/miniconda3/envs/astroconda/lib/python3.5/site-packages/numpy/core/fromnumeric.py:639: UserWarning: Warning: 'partition' will ignore the 'mask' of the MaskedArray.\n",
      "  a.partition(kth, axis=axis, kind=kind, order=order)\n"
     ]
    },
    {
     "name": "stdout",
     "output_type": "stream",
     "text": [
      "\tFinding the background gradient...\n",
      "\tSubtracting the background gradient\n",
      "\tWorking on extension 4...\n",
      "\tFinding the background gradient...\n",
      "\tSubtracting the background gradient\n",
      "Finished removing background gradient from jdxfa9inq_flc.fits\n",
      "Working on jdxfa9hxq_flc.fits ...\n",
      "\tWorking on extension 1...\n",
      "\tFinding the background gradient...\n",
      "\tSubtracting the background gradient\n",
      "\tWorking on extension 4...\n",
      "\tFinding the background gradient...\n",
      "\tSubtracting the background gradient\n",
      "Finished removing background gradient from jdxfa9hxq_flc.fits\n",
      "Working on jdxfa9ikq_flc.fits ...\n",
      "\tWorking on extension 1...\n",
      "\tFinding the background gradient...\n",
      "\tSubtracting the background gradient\n",
      "\tWorking on extension 4...\n",
      "\tFinding the background gradient...\n",
      "\tSubtracting the background gradient\n",
      "Finished removing background gradient from jdxfa9ikq_flc.fits\n"
     ]
    }
   ],
   "source": [
    "# Removes large-scale background gradients from the input flc files\n",
    "\n",
    "import glob\n",
    "import os\n",
    "\n",
    "from astropy.io import fits\n",
    "from astropy.stats import SigmaClip, sigma_clip\n",
    "import numpy as np\n",
    "from photutils import Background2D, MedianBackground\n",
    "\n",
    "# The files to remove the background gradient from\n",
    "files = glob.glob('*flc.fits')\n",
    "\n",
    "# Subtract the background gradient from each of the above files\n",
    "for f in files:\n",
    "    print('Working on {} ...'.format(os.path.basename(f)))\n",
    "    h = fits.open(f)\n",
    "    for ext in [1,4]:\n",
    "        print('\\tWorking on extension {}...'.format(ext))\n",
    "        data_orig = np.copy(h[ext].data)\n",
    "        data = h[ext].data\n",
    "\n",
    "        # Subtract off median\n",
    "        clipped = sigma_clip(data, sigma=3, iters=5)\n",
    "        data = data - np.nanmedian(clipped)\n",
    "\n",
    "        # Find the background gradient\n",
    "        print('\\tFinding the background gradient...')\n",
    "        s = SigmaClip(sigma=3.)\n",
    "        bkg_estimator = MedianBackground()\n",
    "        bkg = Background2D(data, (150, 150), filter_size=(10, 10), \n",
    "                           sigma_clip=s, bkg_estimator=bkg_estimator)\n",
    "        skydark = bkg.background\n",
    "        fits.writeto('{}_bkg_ext{}.fits'.format(os.path.basename(f).split('_')[0], ext), \n",
    "                     skydark, overwrite=True)\n",
    "\n",
    "        # Subtract the background gradient from the image\n",
    "        print('\\tSubtracting the background gradient')\n",
    "        data_new = data_orig - skydark\n",
    "        h[ext].data = data_new.astype('float32')\n",
    "\n",
    "    h.writeto(f, overwrite=True)\n",
    "    print('Finished removing background gradient from {}'.format(os.path.basename(f)))\n"
   ]
  },
  {
   "cell_type": "code",
   "execution_count": null,
   "metadata": {
    "collapsed": true
   },
   "outputs": [],
   "source": []
  }
 ],
 "metadata": {
  "kernelspec": {
   "display_name": "Python 3",
   "language": "python",
   "name": "python3"
  },
  "language_info": {
   "codemirror_mode": {
    "name": "ipython",
    "version": 3
   },
   "file_extension": ".py",
   "mimetype": "text/x-python",
   "name": "python",
   "nbconvert_exporter": "python",
   "pygments_lexer": "ipython3",
   "version": "3.5.4"
  }
 },
 "nbformat": 4,
 "nbformat_minor": 2
}
