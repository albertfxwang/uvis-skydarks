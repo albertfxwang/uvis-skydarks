{
 "cells": [
  {
   "cell_type": "code",
   "execution_count": 67,
   "metadata": {},
   "outputs": [
    {
     "name": "stdout",
     "output_type": "stream",
     "text": [
      "Working on jdxfa9i0q_flc.fits:\n",
      "\tWorking on extension 1:\n"
     ]
    },
    {
     "name": "stderr",
     "output_type": "stream",
     "text": [
      "/Users/bsunnquist/miniconda3/envs/astroconda2020/lib/python3.6/site-packages/numpy/core/fromnumeric.py:746: UserWarning: Warning: 'partition' will ignore the 'mask' of the MaskedArray.\n",
      "  a.partition(kth, axis=axis, kind=kind, order=order)\n"
     ]
    },
    {
     "name": "stdout",
     "output_type": "stream",
     "text": [
      "\tMaking source segmap...\n",
      "\tFinding the background gradient...\n",
      "\tWorking on extension 4:\n"
     ]
    },
    {
     "name": "stderr",
     "output_type": "stream",
     "text": [
      "/Users/bsunnquist/miniconda3/envs/astroconda2020/lib/python3.6/site-packages/numpy/core/fromnumeric.py:746: UserWarning: Warning: 'partition' will ignore the 'mask' of the MaskedArray.\n",
      "  a.partition(kth, axis=axis, kind=kind, order=order)\n"
     ]
    },
    {
     "name": "stdout",
     "output_type": "stream",
     "text": [
      "\tMaking source segmap...\n",
      "\tFinding the background gradient...\n",
      "Finished removing background gradient from jdxfa9i0q_flc.fits\n",
      "Working on jdxfa9iaq_flc.fits:\n",
      "\tWorking on extension 1:\n"
     ]
    },
    {
     "name": "stderr",
     "output_type": "stream",
     "text": [
      "/Users/bsunnquist/miniconda3/envs/astroconda2020/lib/python3.6/site-packages/numpy/core/fromnumeric.py:746: UserWarning: Warning: 'partition' will ignore the 'mask' of the MaskedArray.\n",
      "  a.partition(kth, axis=axis, kind=kind, order=order)\n"
     ]
    },
    {
     "name": "stdout",
     "output_type": "stream",
     "text": [
      "\tMaking source segmap...\n",
      "\tFinding the background gradient...\n",
      "\tWorking on extension 4:\n"
     ]
    },
    {
     "name": "stderr",
     "output_type": "stream",
     "text": [
      "/Users/bsunnquist/miniconda3/envs/astroconda2020/lib/python3.6/site-packages/numpy/core/fromnumeric.py:746: UserWarning: Warning: 'partition' will ignore the 'mask' of the MaskedArray.\n",
      "  a.partition(kth, axis=axis, kind=kind, order=order)\n"
     ]
    },
    {
     "name": "stdout",
     "output_type": "stream",
     "text": [
      "\tMaking source segmap...\n",
      "\tFinding the background gradient...\n",
      "Finished removing background gradient from jdxfa9iaq_flc.fits\n",
      "Working on jdxfa9hoq_flc.fits:\n",
      "\tWorking on extension 1:\n"
     ]
    },
    {
     "name": "stderr",
     "output_type": "stream",
     "text": [
      "/Users/bsunnquist/miniconda3/envs/astroconda2020/lib/python3.6/site-packages/numpy/core/fromnumeric.py:746: UserWarning: Warning: 'partition' will ignore the 'mask' of the MaskedArray.\n",
      "  a.partition(kth, axis=axis, kind=kind, order=order)\n"
     ]
    },
    {
     "name": "stdout",
     "output_type": "stream",
     "text": [
      "\tMaking source segmap...\n",
      "\tFinding the background gradient...\n",
      "\tWorking on extension 4:\n"
     ]
    },
    {
     "name": "stderr",
     "output_type": "stream",
     "text": [
      "/Users/bsunnquist/miniconda3/envs/astroconda2020/lib/python3.6/site-packages/numpy/core/fromnumeric.py:746: UserWarning: Warning: 'partition' will ignore the 'mask' of the MaskedArray.\n",
      "  a.partition(kth, axis=axis, kind=kind, order=order)\n"
     ]
    },
    {
     "name": "stdout",
     "output_type": "stream",
     "text": [
      "\tMaking source segmap...\n",
      "\tFinding the background gradient...\n",
      "Finished removing background gradient from jdxfa9hoq_flc.fits\n",
      "Working on jdxfa9ikq_flc.fits:\n",
      "\tWorking on extension 1:\n"
     ]
    },
    {
     "name": "stderr",
     "output_type": "stream",
     "text": [
      "/Users/bsunnquist/miniconda3/envs/astroconda2020/lib/python3.6/site-packages/numpy/core/fromnumeric.py:746: UserWarning: Warning: 'partition' will ignore the 'mask' of the MaskedArray.\n",
      "  a.partition(kth, axis=axis, kind=kind, order=order)\n"
     ]
    },
    {
     "name": "stdout",
     "output_type": "stream",
     "text": [
      "\tMaking source segmap...\n",
      "\tFinding the background gradient...\n",
      "\tWorking on extension 4:\n"
     ]
    },
    {
     "name": "stderr",
     "output_type": "stream",
     "text": [
      "/Users/bsunnquist/miniconda3/envs/astroconda2020/lib/python3.6/site-packages/numpy/core/fromnumeric.py:746: UserWarning: Warning: 'partition' will ignore the 'mask' of the MaskedArray.\n",
      "  a.partition(kth, axis=axis, kind=kind, order=order)\n"
     ]
    },
    {
     "name": "stdout",
     "output_type": "stream",
     "text": [
      "\tMaking source segmap...\n",
      "\tFinding the background gradient...\n",
      "Finished removing background gradient from jdxfa9ikq_flc.fits\n",
      "Working on jdxfa9i7q_flc.fits:\n",
      "\tWorking on extension 1:\n"
     ]
    },
    {
     "name": "stderr",
     "output_type": "stream",
     "text": [
      "/Users/bsunnquist/miniconda3/envs/astroconda2020/lib/python3.6/site-packages/numpy/core/fromnumeric.py:746: UserWarning: Warning: 'partition' will ignore the 'mask' of the MaskedArray.\n",
      "  a.partition(kth, axis=axis, kind=kind, order=order)\n"
     ]
    },
    {
     "name": "stdout",
     "output_type": "stream",
     "text": [
      "\tMaking source segmap...\n",
      "\tFinding the background gradient...\n",
      "\tWorking on extension 4:\n"
     ]
    },
    {
     "name": "stderr",
     "output_type": "stream",
     "text": [
      "/Users/bsunnquist/miniconda3/envs/astroconda2020/lib/python3.6/site-packages/numpy/core/fromnumeric.py:746: UserWarning: Warning: 'partition' will ignore the 'mask' of the MaskedArray.\n",
      "  a.partition(kth, axis=axis, kind=kind, order=order)\n"
     ]
    },
    {
     "name": "stdout",
     "output_type": "stream",
     "text": [
      "\tMaking source segmap...\n",
      "\tFinding the background gradient...\n",
      "Finished removing background gradient from jdxfa9i7q_flc.fits\n",
      "Working on jdxfa9isq_flc.fits:\n",
      "\tWorking on extension 1:\n"
     ]
    },
    {
     "name": "stderr",
     "output_type": "stream",
     "text": [
      "/Users/bsunnquist/miniconda3/envs/astroconda2020/lib/python3.6/site-packages/numpy/core/fromnumeric.py:746: UserWarning: Warning: 'partition' will ignore the 'mask' of the MaskedArray.\n",
      "  a.partition(kth, axis=axis, kind=kind, order=order)\n"
     ]
    },
    {
     "name": "stdout",
     "output_type": "stream",
     "text": [
      "\tMaking source segmap...\n",
      "\tFinding the background gradient...\n",
      "\tWorking on extension 4:\n"
     ]
    },
    {
     "name": "stderr",
     "output_type": "stream",
     "text": [
      "/Users/bsunnquist/miniconda3/envs/astroconda2020/lib/python3.6/site-packages/numpy/core/fromnumeric.py:746: UserWarning: Warning: 'partition' will ignore the 'mask' of the MaskedArray.\n",
      "  a.partition(kth, axis=axis, kind=kind, order=order)\n"
     ]
    },
    {
     "name": "stdout",
     "output_type": "stream",
     "text": [
      "\tMaking source segmap...\n",
      "\tFinding the background gradient...\n",
      "Finished removing background gradient from jdxfa9isq_flc.fits\n",
      "Working on jdxfa9ihq_flc.fits:\n",
      "\tWorking on extension 1:\n"
     ]
    },
    {
     "name": "stderr",
     "output_type": "stream",
     "text": [
      "/Users/bsunnquist/miniconda3/envs/astroconda2020/lib/python3.6/site-packages/numpy/core/fromnumeric.py:746: UserWarning: Warning: 'partition' will ignore the 'mask' of the MaskedArray.\n",
      "  a.partition(kth, axis=axis, kind=kind, order=order)\n"
     ]
    },
    {
     "name": "stdout",
     "output_type": "stream",
     "text": [
      "\tMaking source segmap...\n",
      "\tFinding the background gradient...\n",
      "\tWorking on extension 4:\n"
     ]
    },
    {
     "name": "stderr",
     "output_type": "stream",
     "text": [
      "/Users/bsunnquist/miniconda3/envs/astroconda2020/lib/python3.6/site-packages/numpy/core/fromnumeric.py:746: UserWarning: Warning: 'partition' will ignore the 'mask' of the MaskedArray.\n",
      "  a.partition(kth, axis=axis, kind=kind, order=order)\n"
     ]
    },
    {
     "name": "stdout",
     "output_type": "stream",
     "text": [
      "\tMaking source segmap...\n",
      "\tFinding the background gradient...\n",
      "Finished removing background gradient from jdxfa9ihq_flc.fits\n",
      "Working on jdxfa9ieq_flc.fits:\n",
      "\tWorking on extension 1:\n"
     ]
    },
    {
     "name": "stderr",
     "output_type": "stream",
     "text": [
      "/Users/bsunnquist/miniconda3/envs/astroconda2020/lib/python3.6/site-packages/numpy/core/fromnumeric.py:746: UserWarning: Warning: 'partition' will ignore the 'mask' of the MaskedArray.\n",
      "  a.partition(kth, axis=axis, kind=kind, order=order)\n"
     ]
    },
    {
     "name": "stdout",
     "output_type": "stream",
     "text": [
      "\tMaking source segmap...\n",
      "\tFinding the background gradient...\n",
      "\tWorking on extension 4:\n"
     ]
    },
    {
     "name": "stderr",
     "output_type": "stream",
     "text": [
      "/Users/bsunnquist/miniconda3/envs/astroconda2020/lib/python3.6/site-packages/numpy/core/fromnumeric.py:746: UserWarning: Warning: 'partition' will ignore the 'mask' of the MaskedArray.\n",
      "  a.partition(kth, axis=axis, kind=kind, order=order)\n"
     ]
    },
    {
     "name": "stdout",
     "output_type": "stream",
     "text": [
      "\tMaking source segmap...\n",
      "\tFinding the background gradient...\n",
      "Finished removing background gradient from jdxfa9ieq_flc.fits\n",
      "Working on jdxfa9inq_flc.fits:\n",
      "\tWorking on extension 1:\n"
     ]
    },
    {
     "name": "stderr",
     "output_type": "stream",
     "text": [
      "/Users/bsunnquist/miniconda3/envs/astroconda2020/lib/python3.6/site-packages/numpy/core/fromnumeric.py:746: UserWarning: Warning: 'partition' will ignore the 'mask' of the MaskedArray.\n",
      "  a.partition(kth, axis=axis, kind=kind, order=order)\n"
     ]
    },
    {
     "name": "stdout",
     "output_type": "stream",
     "text": [
      "\tMaking source segmap...\n",
      "\tFinding the background gradient...\n",
      "\tWorking on extension 4:\n"
     ]
    },
    {
     "name": "stderr",
     "output_type": "stream",
     "text": [
      "/Users/bsunnquist/miniconda3/envs/astroconda2020/lib/python3.6/site-packages/numpy/core/fromnumeric.py:746: UserWarning: Warning: 'partition' will ignore the 'mask' of the MaskedArray.\n",
      "  a.partition(kth, axis=axis, kind=kind, order=order)\n"
     ]
    },
    {
     "name": "stdout",
     "output_type": "stream",
     "text": [
      "\tMaking source segmap...\n",
      "\tFinding the background gradient...\n",
      "Finished removing background gradient from jdxfa9inq_flc.fits\n",
      "Working on jdxfa9hrq_flc.fits:\n",
      "\tWorking on extension 1:\n"
     ]
    },
    {
     "name": "stderr",
     "output_type": "stream",
     "text": [
      "/Users/bsunnquist/miniconda3/envs/astroconda2020/lib/python3.6/site-packages/numpy/core/fromnumeric.py:746: UserWarning: Warning: 'partition' will ignore the 'mask' of the MaskedArray.\n",
      "  a.partition(kth, axis=axis, kind=kind, order=order)\n"
     ]
    },
    {
     "name": "stdout",
     "output_type": "stream",
     "text": [
      "\tMaking source segmap...\n",
      "\tFinding the background gradient...\n",
      "\tWorking on extension 4:\n"
     ]
    },
    {
     "name": "stderr",
     "output_type": "stream",
     "text": [
      "/Users/bsunnquist/miniconda3/envs/astroconda2020/lib/python3.6/site-packages/numpy/core/fromnumeric.py:746: UserWarning: Warning: 'partition' will ignore the 'mask' of the MaskedArray.\n",
      "  a.partition(kth, axis=axis, kind=kind, order=order)\n"
     ]
    },
    {
     "name": "stdout",
     "output_type": "stream",
     "text": [
      "\tMaking source segmap...\n",
      "\tFinding the background gradient...\n",
      "Finished removing background gradient from jdxfa9hrq_flc.fits\n",
      "Working on jdxfa9hxq_flc.fits:\n",
      "\tWorking on extension 1:\n"
     ]
    },
    {
     "name": "stderr",
     "output_type": "stream",
     "text": [
      "/Users/bsunnquist/miniconda3/envs/astroconda2020/lib/python3.6/site-packages/numpy/core/fromnumeric.py:746: UserWarning: Warning: 'partition' will ignore the 'mask' of the MaskedArray.\n",
      "  a.partition(kth, axis=axis, kind=kind, order=order)\n"
     ]
    },
    {
     "name": "stdout",
     "output_type": "stream",
     "text": [
      "\tMaking source segmap...\n",
      "\tFinding the background gradient...\n",
      "\tWorking on extension 4:\n"
     ]
    },
    {
     "name": "stderr",
     "output_type": "stream",
     "text": [
      "/Users/bsunnquist/miniconda3/envs/astroconda2020/lib/python3.6/site-packages/numpy/core/fromnumeric.py:746: UserWarning: Warning: 'partition' will ignore the 'mask' of the MaskedArray.\n",
      "  a.partition(kth, axis=axis, kind=kind, order=order)\n"
     ]
    },
    {
     "name": "stdout",
     "output_type": "stream",
     "text": [
      "\tMaking source segmap...\n",
      "\tFinding the background gradient...\n",
      "Finished removing background gradient from jdxfa9hxq_flc.fits\n",
      "Working on jdxfa9iqq_flc.fits:\n",
      "\tWorking on extension 1:\n"
     ]
    },
    {
     "name": "stderr",
     "output_type": "stream",
     "text": [
      "/Users/bsunnquist/miniconda3/envs/astroconda2020/lib/python3.6/site-packages/numpy/core/fromnumeric.py:746: UserWarning: Warning: 'partition' will ignore the 'mask' of the MaskedArray.\n",
      "  a.partition(kth, axis=axis, kind=kind, order=order)\n"
     ]
    },
    {
     "name": "stdout",
     "output_type": "stream",
     "text": [
      "\tMaking source segmap...\n",
      "\tFinding the background gradient...\n",
      "\tWorking on extension 4:\n"
     ]
    },
    {
     "name": "stderr",
     "output_type": "stream",
     "text": [
      "/Users/bsunnquist/miniconda3/envs/astroconda2020/lib/python3.6/site-packages/numpy/core/fromnumeric.py:746: UserWarning: Warning: 'partition' will ignore the 'mask' of the MaskedArray.\n",
      "  a.partition(kth, axis=axis, kind=kind, order=order)\n"
     ]
    },
    {
     "name": "stdout",
     "output_type": "stream",
     "text": [
      "\tMaking source segmap...\n",
      "\tFinding the background gradient...\n",
      "Finished removing background gradient from jdxfa9iqq_flc.fits\n"
     ]
    }
   ],
   "source": [
    "# Removes large-scale background gradients from the input flc files\n",
    "\n",
    "from astropy.convolution import Gaussian2DKernel\n",
    "from astropy.io import fits\n",
    "from astropy.stats import gaussian_fwhm_to_sigma, SigmaClip, sigma_clip\n",
    "import glob\n",
    "import numpy as np\n",
    "from photutils import Background2D, detect_sources, detect_threshold, MedianBackground\n",
    "\n",
    "################################# USER INPUTS #################################\n",
    "\n",
    "# The files to remove the background gradient from\n",
    "files = glob.glob('./test_feb2021_orig_code/*flc.fits')\n",
    "\n",
    "# The box size to use when creating the 2D background image\n",
    "box_size = (128, 128)\n",
    "\n",
    "# Option to mask sources when finding the background gradient\n",
    "mask_sources = True\n",
    "\n",
    "###############################################################################\n",
    "\n",
    "for f in files:\n",
    "    basename = os.path.basename(f)\n",
    "    print('Working on {}:'.format(basename))\n",
    "    h = fits.open(f)\n",
    "    for ext in [1,4]:\n",
    "        print('\\tWorking on extension {}:'.format(ext))\n",
    "        data_orig = np.copy(h[ext].data)\n",
    "        data = h[ext].data\n",
    "\n",
    "        # Subtract off median\n",
    "        clipped = sigma_clip(data, sigma=3, maxiters=5)\n",
    "        data = data - np.nanmedian(clipped)\n",
    "\n",
    "        # Find sources in the gradient-removed image\n",
    "        if mask_sources:\n",
    "            print('\\tMaking source segmap...')\n",
    "            s = SigmaClip(sigma=3.)\n",
    "            bkg_estimator = MedianBackground()\n",
    "            bkg = Background2D(data, box_size=box_size, filter_size=(10, 10), \n",
    "                               sigma_clip=s, bkg_estimator=bkg_estimator)\n",
    "            skydark = bkg.background\n",
    "            data_flat = data_orig - skydark\n",
    "            threshold = detect_threshold(data_flat, nsigma=1.0)\n",
    "            sigma = 3.0 * gaussian_fwhm_to_sigma\n",
    "            kernel = Gaussian2DKernel(sigma, x_size=3, y_size=3)\n",
    "            kernel.normalize()\n",
    "            segm = detect_sources(data_flat, threshold, npixels=5, filter_kernel=kernel)\n",
    "            segmap = segm.data\n",
    "            fits.writeto(f.replace('_flc.fits', '_segmap_ext{}.fits'.format(ext)), \n",
    "                         segmap, overwrite=True)\n",
    "        else:\n",
    "            segmap = np.zeros(data.shape).astype(int)\n",
    "        \n",
    "        # Find the background gradient, incorporating the source mask\n",
    "        print('\\tFinding the background gradient...')\n",
    "        s = SigmaClip(sigma=3.)\n",
    "        bkg_estimator = MedianBackground()\n",
    "        mask = (segmap > 0)\n",
    "        bkg = Background2D(data, box_size=box_size, filter_size=(10, 10), \n",
    "                           sigma_clip=s, bkg_estimator=bkg_estimator, mask=mask)\n",
    "        skydark = bkg.background\n",
    "        fits.writeto(f.replace('_flc.fits', '_bkg_ext{}.fits'.format(ext)), \n",
    "                     skydark, overwrite=True)\n",
    "\n",
    "        # Subtract the background gradient from the original image\n",
    "        data_new = data_orig - skydark\n",
    "        h[ext].data = data_new.astype('float32')\n",
    "\n",
    "    h.writeto(f, overwrite=True)\n",
    "    h.close()\n",
    "    print('Finished removing background gradient from {}'.format(basename))\n"
   ]
  },
  {
   "cell_type": "code",
   "execution_count": null,
   "metadata": {},
   "outputs": [],
   "source": []
  },
  {
   "cell_type": "code",
   "execution_count": 144,
   "metadata": {},
   "outputs": [
    {
     "name": "stdout",
     "output_type": "stream",
     "text": [
      "STEP 1: Removing 2D gradients from input FLCs...\n",
      "Working on jdxfa9i0q_flc.fits:\n",
      "\tWorking on extension 1:\n",
      "\tMaking source segmap...\n",
      "\tFinding the background gradient...\n",
      "6.640625\n",
      "\tWorking on extension 4:\n",
      "\tMaking source segmap...\n",
      "\tFinding the background gradient...\n",
      "10.7421875\n",
      "Finished removing background gradient from jdxfa9i0q_flc.fits\n",
      "Working on jdxfa9iaq_flc.fits:\n",
      "\tWorking on extension 1:\n",
      "\tMaking source segmap...\n",
      "\tFinding the background gradient...\n",
      "11.9140625\n",
      "\tWorking on extension 4:\n",
      "\tMaking source segmap...\n",
      "\tFinding the background gradient...\n",
      "12.109375\n",
      "Finished removing background gradient from jdxfa9iaq_flc.fits\n",
      "Working on jdxfa9hoq_flc.fits:\n",
      "\tWorking on extension 1:\n",
      "\tMaking source segmap...\n",
      "\tFinding the background gradient...\n",
      "15.0390625\n",
      "\tWorking on extension 4:\n",
      "\tMaking source segmap...\n",
      "\tFinding the background gradient...\n",
      "12.109375\n",
      "Finished removing background gradient from jdxfa9hoq_flc.fits\n",
      "Working on jdxfa9ikq_flc.fits:\n",
      "\tWorking on extension 1:\n",
      "\tMaking source segmap...\n",
      "\tFinding the background gradient...\n",
      "0.5859375\n",
      "\tWorking on extension 4:\n",
      "\tMaking source segmap...\n",
      "\tFinding the background gradient...\n",
      "0.1953125\n",
      "Finished removing background gradient from jdxfa9ikq_flc.fits\n",
      "Working on jdxfa9i7q_flc.fits:\n",
      "\tWorking on extension 1:\n",
      "\tMaking source segmap...\n",
      "\tFinding the background gradient...\n",
      "1.3671875\n",
      "\tWorking on extension 4:\n",
      "\tMaking source segmap...\n",
      "\tFinding the background gradient...\n",
      "2.5390625\n",
      "Finished removing background gradient from jdxfa9i7q_flc.fits\n",
      "Working on jdxfa9isq_flc.fits:\n",
      "\tWorking on extension 1:\n",
      "\tMaking source segmap...\n",
      "\tFinding the background gradient...\n",
      "1.171875\n",
      "\tWorking on extension 4:\n",
      "\tMaking source segmap...\n",
      "\tFinding the background gradient...\n",
      "1.171875\n",
      "Finished removing background gradient from jdxfa9isq_flc.fits\n",
      "Working on jdxfa9ihq_flc.fits:\n",
      "\tWorking on extension 1:\n",
      "\tMaking source segmap...\n",
      "\tFinding the background gradient...\n",
      "14.2578125\n",
      "\tWorking on extension 4:\n",
      "\tMaking source segmap...\n",
      "\tFinding the background gradient...\n",
      "14.84375\n",
      "Finished removing background gradient from jdxfa9ihq_flc.fits\n",
      "Working on jdxfa9ieq_flc.fits:\n",
      "\tWorking on extension 1:\n",
      "\tMaking source segmap...\n",
      "\tFinding the background gradient...\n",
      "23.6328125\n",
      "\tWorking on extension 4:\n",
      "\tMaking source segmap...\n",
      "\tFinding the background gradient...\n",
      "25.390625\n",
      "Finished removing background gradient from jdxfa9ieq_flc.fits\n",
      "Working on jdxfa9inq_flc.fits:\n",
      "\tWorking on extension 1:\n",
      "\tMaking source segmap...\n",
      "\tFinding the background gradient...\n",
      "0.9765625\n",
      "\tWorking on extension 4:\n",
      "\tMaking source segmap...\n",
      "\tFinding the background gradient...\n",
      "0.1953125\n",
      "Finished removing background gradient from jdxfa9inq_flc.fits\n",
      "Working on jdxfa9hrq_flc.fits:\n",
      "\tWorking on extension 1:\n",
      "\tMaking source segmap...\n",
      "\tFinding the background gradient...\n",
      "11.328125\n",
      "\tWorking on extension 4:\n",
      "\tMaking source segmap...\n",
      "\tFinding the background gradient...\n",
      "15.4296875\n",
      "Finished removing background gradient from jdxfa9hrq_flc.fits\n",
      "Working on jdxfa9hxq_flc.fits:\n",
      "\tWorking on extension 1:\n",
      "\tMaking source segmap...\n",
      "\tFinding the background gradient...\n",
      "0.78125\n",
      "\tWorking on extension 4:\n",
      "\tMaking source segmap...\n",
      "\tFinding the background gradient...\n",
      "0.390625\n",
      "Finished removing background gradient from jdxfa9hxq_flc.fits\n",
      "Working on jdxfa9iqq_flc.fits:\n",
      "\tWorking on extension 1:\n",
      "\tMaking source segmap...\n",
      "\tFinding the background gradient...\n",
      "8.203125\n",
      "\tWorking on extension 4:\n",
      "\tMaking source segmap...\n",
      "\tFinding the background gradient...\n",
      "12.6953125\n",
      "Finished removing background gradient from jdxfa9iqq_flc.fits\n",
      "\n",
      "STEP 2: Equalizing overall backgroud levels in the input FLCs...\n",
      "Working on jdxfa9i0q_flc.fits:\n"
     ]
    },
    {
     "name": "stderr",
     "output_type": "stream",
     "text": [
      "WARNING: Input data contains invalid values (NaNs or infs), which were automatically clipped. [astropy.stats.sigma_clipping]\n"
     ]
    },
    {
     "name": "stdout",
     "output_type": "stream",
     "text": [
      "\tBackground in ext 1 = 71.18621826171875\n"
     ]
    },
    {
     "name": "stderr",
     "output_type": "stream",
     "text": [
      "WARNING: Input data contains invalid values (NaNs or infs), which were automatically clipped. [astropy.stats.sigma_clipping]\n"
     ]
    },
    {
     "name": "stdout",
     "output_type": "stream",
     "text": [
      "\tBackground in ext 4 = 70.67459869384766\n",
      "Finished equalizing background levels between chips in jdxfa9i0q_flc.fits\n",
      "Working on jdxfa9iaq_flc.fits:\n"
     ]
    },
    {
     "name": "stderr",
     "output_type": "stream",
     "text": [
      "WARNING: Input data contains invalid values (NaNs or infs), which were automatically clipped. [astropy.stats.sigma_clipping]\n"
     ]
    },
    {
     "name": "stdout",
     "output_type": "stream",
     "text": [
      "\tBackground in ext 1 = 17.140623092651367\n"
     ]
    },
    {
     "name": "stderr",
     "output_type": "stream",
     "text": [
      "WARNING: Input data contains invalid values (NaNs or infs), which were automatically clipped. [astropy.stats.sigma_clipping]\n"
     ]
    },
    {
     "name": "stdout",
     "output_type": "stream",
     "text": [
      "\tBackground in ext 4 = 16.849233627319336\n",
      "Finished equalizing background levels between chips in jdxfa9iaq_flc.fits\n",
      "Working on jdxfa9hoq_flc.fits:\n"
     ]
    },
    {
     "name": "stderr",
     "output_type": "stream",
     "text": [
      "WARNING: Input data contains invalid values (NaNs or infs), which were automatically clipped. [astropy.stats.sigma_clipping]\n"
     ]
    },
    {
     "name": "stdout",
     "output_type": "stream",
     "text": [
      "\tBackground in ext 1 = 13.538457870483398\n"
     ]
    },
    {
     "name": "stderr",
     "output_type": "stream",
     "text": [
      "WARNING: Input data contains invalid values (NaNs or infs), which were automatically clipped. [astropy.stats.sigma_clipping]\n"
     ]
    },
    {
     "name": "stdout",
     "output_type": "stream",
     "text": [
      "\tBackground in ext 4 = 13.334980010986328\n",
      "Finished equalizing background levels between chips in jdxfa9hoq_flc.fits\n",
      "Working on jdxfa9ikq_flc.fits:\n"
     ]
    },
    {
     "name": "stderr",
     "output_type": "stream",
     "text": [
      "WARNING: Input data contains invalid values (NaNs or infs), which were automatically clipped. [astropy.stats.sigma_clipping]\n"
     ]
    },
    {
     "name": "stdout",
     "output_type": "stream",
     "text": [
      "\tBackground in ext 1 = 62.536705017089844\n"
     ]
    },
    {
     "name": "stderr",
     "output_type": "stream",
     "text": [
      "WARNING: Input data contains invalid values (NaNs or infs), which were automatically clipped. [astropy.stats.sigma_clipping]\n"
     ]
    },
    {
     "name": "stdout",
     "output_type": "stream",
     "text": [
      "\tBackground in ext 4 = 61.62502670288086\n",
      "Finished equalizing background levels between chips in jdxfa9ikq_flc.fits\n",
      "Working on jdxfa9i7q_flc.fits:\n"
     ]
    },
    {
     "name": "stderr",
     "output_type": "stream",
     "text": [
      "WARNING: Input data contains invalid values (NaNs or infs), which were automatically clipped. [astropy.stats.sigma_clipping]\n"
     ]
    },
    {
     "name": "stdout",
     "output_type": "stream",
     "text": [
      "\tBackground in ext 1 = 35.406715393066406\n"
     ]
    },
    {
     "name": "stderr",
     "output_type": "stream",
     "text": [
      "WARNING: Input data contains invalid values (NaNs or infs), which were automatically clipped. [astropy.stats.sigma_clipping]\n"
     ]
    },
    {
     "name": "stdout",
     "output_type": "stream",
     "text": [
      "\tBackground in ext 4 = 34.96311950683594\n",
      "Finished equalizing background levels between chips in jdxfa9i7q_flc.fits\n",
      "Working on jdxfa9isq_flc.fits:\n"
     ]
    },
    {
     "name": "stderr",
     "output_type": "stream",
     "text": [
      "WARNING: Input data contains invalid values (NaNs or infs), which were automatically clipped. [astropy.stats.sigma_clipping]\n"
     ]
    },
    {
     "name": "stdout",
     "output_type": "stream",
     "text": [
      "\tBackground in ext 1 = 30.7147216796875\n"
     ]
    },
    {
     "name": "stderr",
     "output_type": "stream",
     "text": [
      "WARNING: Input data contains invalid values (NaNs or infs), which were automatically clipped. [astropy.stats.sigma_clipping]\n"
     ]
    },
    {
     "name": "stdout",
     "output_type": "stream",
     "text": [
      "\tBackground in ext 4 = 30.376317977905273\n",
      "Finished equalizing background levels between chips in jdxfa9isq_flc.fits\n",
      "Working on jdxfa9ihq_flc.fits:\n"
     ]
    },
    {
     "name": "stderr",
     "output_type": "stream",
     "text": [
      "WARNING: Input data contains invalid values (NaNs or infs), which were automatically clipped. [astropy.stats.sigma_clipping]\n"
     ]
    },
    {
     "name": "stdout",
     "output_type": "stream",
     "text": [
      "\tBackground in ext 1 = 9.686750411987305\n"
     ]
    },
    {
     "name": "stderr",
     "output_type": "stream",
     "text": [
      "WARNING: Input data contains invalid values (NaNs or infs), which were automatically clipped. [astropy.stats.sigma_clipping]\n"
     ]
    },
    {
     "name": "stdout",
     "output_type": "stream",
     "text": [
      "\tBackground in ext 4 = 9.644527435302734\n",
      "Finished equalizing background levels between chips in jdxfa9ihq_flc.fits\n",
      "Working on jdxfa9ieq_flc.fits:\n"
     ]
    },
    {
     "name": "stderr",
     "output_type": "stream",
     "text": [
      "WARNING: Input data contains invalid values (NaNs or infs), which were automatically clipped. [astropy.stats.sigma_clipping]\n"
     ]
    },
    {
     "name": "stdout",
     "output_type": "stream",
     "text": [
      "\tBackground in ext 1 = 9.95506477355957\n"
     ]
    },
    {
     "name": "stderr",
     "output_type": "stream",
     "text": [
      "WARNING: Input data contains invalid values (NaNs or infs), which were automatically clipped. [astropy.stats.sigma_clipping]\n"
     ]
    },
    {
     "name": "stdout",
     "output_type": "stream",
     "text": [
      "\tBackground in ext 4 = 9.83364486694336\n",
      "Finished equalizing background levels between chips in jdxfa9ieq_flc.fits\n",
      "Working on jdxfa9inq_flc.fits:\n"
     ]
    },
    {
     "name": "stderr",
     "output_type": "stream",
     "text": [
      "WARNING: Input data contains invalid values (NaNs or infs), which were automatically clipped. [astropy.stats.sigma_clipping]\n"
     ]
    },
    {
     "name": "stdout",
     "output_type": "stream",
     "text": [
      "\tBackground in ext 1 = 227.0721435546875\n"
     ]
    },
    {
     "name": "stderr",
     "output_type": "stream",
     "text": [
      "WARNING: Input data contains invalid values (NaNs or infs), which were automatically clipped. [astropy.stats.sigma_clipping]\n"
     ]
    },
    {
     "name": "stdout",
     "output_type": "stream",
     "text": [
      "\tBackground in ext 4 = 217.93313598632812\n",
      "Finished equalizing background levels between chips in jdxfa9inq_flc.fits\n",
      "Working on jdxfa9hrq_flc.fits:\n"
     ]
    },
    {
     "name": "stderr",
     "output_type": "stream",
     "text": [
      "WARNING: Input data contains invalid values (NaNs or infs), which were automatically clipped. [astropy.stats.sigma_clipping]\n"
     ]
    },
    {
     "name": "stdout",
     "output_type": "stream",
     "text": [
      "\tBackground in ext 1 = 12.116034507751465\n"
     ]
    },
    {
     "name": "stderr",
     "output_type": "stream",
     "text": [
      "WARNING: Input data contains invalid values (NaNs or infs), which were automatically clipped. [astropy.stats.sigma_clipping]\n"
     ]
    },
    {
     "name": "stdout",
     "output_type": "stream",
     "text": [
      "\tBackground in ext 4 = 11.948600769042969\n",
      "Finished equalizing background levels between chips in jdxfa9hrq_flc.fits\n",
      "Working on jdxfa9hxq_flc.fits:\n"
     ]
    },
    {
     "name": "stderr",
     "output_type": "stream",
     "text": [
      "WARNING: Input data contains invalid values (NaNs or infs), which were automatically clipped. [astropy.stats.sigma_clipping]\n"
     ]
    },
    {
     "name": "stdout",
     "output_type": "stream",
     "text": [
      "\tBackground in ext 1 = 260.81134033203125\n"
     ]
    },
    {
     "name": "stderr",
     "output_type": "stream",
     "text": [
      "WARNING: Input data contains invalid values (NaNs or infs), which were automatically clipped. [astropy.stats.sigma_clipping]\n"
     ]
    },
    {
     "name": "stdout",
     "output_type": "stream",
     "text": [
      "\tBackground in ext 4 = 252.19610595703125\n",
      "Finished equalizing background levels between chips in jdxfa9hxq_flc.fits\n",
      "Working on jdxfa9iqq_flc.fits:\n"
     ]
    },
    {
     "name": "stderr",
     "output_type": "stream",
     "text": [
      "WARNING: Input data contains invalid values (NaNs or infs), which were automatically clipped. [astropy.stats.sigma_clipping]\n"
     ]
    },
    {
     "name": "stdout",
     "output_type": "stream",
     "text": [
      "\tBackground in ext 1 = 43.47593688964844\n"
     ]
    },
    {
     "name": "stderr",
     "output_type": "stream",
     "text": [
      "WARNING: Input data contains invalid values (NaNs or infs), which were automatically clipped. [astropy.stats.sigma_clipping]\n"
     ]
    },
    {
     "name": "stdout",
     "output_type": "stream",
     "text": [
      "\tBackground in ext 4 = 42.94551086425781\n",
      "Finished equalizing background levels between chips in jdxfa9iqq_flc.fits\n"
     ]
    }
   ],
   "source": [
    "# Removes large-scale background gradients from the input flc files, and equalizes the overall\n",
    "# background levels between chips\n",
    "\n",
    "from astropy.convolution import Gaussian2DKernel\n",
    "from astropy.io import fits\n",
    "from astropy.stats import gaussian_fwhm_to_sigma, SigmaClip, sigma_clip\n",
    "import glob\n",
    "import numpy as np\n",
    "from photutils import Background2D, detect_sources, detect_threshold, MedianBackground\n",
    "\n",
    "\n",
    "################################# USER INPUTS #################################\n",
    "\n",
    "# The files to correct\n",
    "files = glob.glob('./test_feb2021_new_code/*flc.fits')\n",
    "\n",
    "# The box size to use when creating the 2D background image\n",
    "box_size = (128, 128)\n",
    "\n",
    "# Option to mask sources when finding the background gradient/pedestal level\n",
    "mask_sources = True\n",
    "\n",
    "###############################################################################\n",
    "\n",
    "\n",
    "# STEP 1: Remove the large-scale 2D background gradient from each chip\n",
    "print('STEP 1: Removing 2D gradients from input FLCs...')\n",
    "for f in files:\n",
    "    basename = os.path.basename(f)\n",
    "    print('Working on {}:'.format(basename))\n",
    "    h = fits.open(f)\n",
    "    for ext in [1,4]:\n",
    "        print('\\tWorking on extension {}:'.format(ext))\n",
    "        data_orig = np.copy(h[ext].data)\n",
    "        data = h[ext].data\n",
    "\n",
    "        # Subtract off median\n",
    "        clipped = sigma_clip(data, sigma=3, maxiters=5)\n",
    "        data = data - np.nanmedian(clipped.data[clipped.mask==False])\n",
    "\n",
    "        # Find sources in the gradient-removed image\n",
    "        if mask_sources:\n",
    "            print('\\tMaking source segmap...')\n",
    "            s = SigmaClip(sigma=3.)\n",
    "            bkg_estimator = MedianBackground()\n",
    "            bkg = Background2D(data, box_size=box_size, filter_size=(10, 10), \n",
    "                               sigma_clip=s, bkg_estimator=bkg_estimator)\n",
    "            skydark = bkg.background          \n",
    "            data_flat = data_orig - skydark\n",
    "            threshold = detect_threshold(data_flat, nsigma=1.0)\n",
    "            sigma = 3.0 * gaussian_fwhm_to_sigma\n",
    "            kernel = Gaussian2DKernel(sigma, x_size=3, y_size=3)\n",
    "            kernel.normalize()\n",
    "            segm = detect_sources(data_flat, threshold, npixels=5, filter_kernel=kernel)\n",
    "            segmap = segm.data\n",
    "            fits.writeto(f.replace('_flc.fits', '_segmap_ext{}.fits'.format(ext)), \n",
    "                         segmap, overwrite=True)\n",
    "        else:\n",
    "            segmap = np.zeros(data.shape).astype(int)\n",
    "        \n",
    "        # Find the background gradient, incorporating the source mask\n",
    "        print('\\tFinding the background gradient...')\n",
    "        s = SigmaClip(sigma=3.)\n",
    "        bkg_estimator = MedianBackground()\n",
    "        mask = (segmap > 0)\n",
    "        bkg = Background2D(data, box_size=box_size, filter_size=(10, 10), \n",
    "                           sigma_clip=s, bkg_estimator=bkg_estimator, mask=mask)\n",
    "        skydark = bkg.background\n",
    "        fits.writeto(f.replace('_flc.fits', '_bkg_ext{}.fits'.format(ext)), \n",
    "                     skydark, overwrite=True)\n",
    "\n",
    "        # Subtract the background gradient from the original image\n",
    "        data_new = data_orig - skydark\n",
    "        h[ext].data = data_new.astype('float32')\n",
    "\n",
    "    h.writeto(f, overwrite=True)\n",
    "    h.close()\n",
    "    print('Finished removing background gradient from {}'.format(basename))\n",
    "\n",
    "\n",
    "# STEP 2: equalize the overall background/pedestal level between chips to the average of the two chips\n",
    "print('\\nSTEP 2: Equalizing overall backgroud levels in the input FLCs...')\n",
    "for f in files:\n",
    "    basename = os.path.basename(f)\n",
    "    print('Working on {}:'.format(basename))\n",
    "    h = fits.open(f)\n",
    "    \n",
    "    # Find the overall background levels in each chip\n",
    "    background_levels = []\n",
    "    for ext in [1,4]:\n",
    "        data = np.copy(h[ext].data)\n",
    "        \n",
    "        # Mask sources using the previous segmap\n",
    "        if mask_sources:\n",
    "            segmap = fits.getdata(f.replace('_flc.fits', '_segmap_ext{}.fits'.format(ext)))\n",
    "        else:\n",
    "            segmap = np.zeros(data.shape).astype(int)\n",
    "        data[segmap > 0] = np.nan\n",
    "        \n",
    "        # Calculate the background level in the chip\n",
    "        clipped = sigma_clip(data, sigma=3, maxiters=5)\n",
    "        background_levels.append(np.nanmedian(clipped.data[clipped.mask==False]))\n",
    "        print('\\tBackground in ext {} = {}'.format(ext, np.nanmedian(clipped.data[clipped.mask==False])))\n",
    "    \n",
    "    # Equalize the background levels of the two chips to the average of the two\n",
    "    avg_bkg = np.mean(background_levels)\n",
    "    \n",
    "    ext1_orig = np.copy(h[1].data)\n",
    "    ext1_diff = background_levels[0] - avg_bkg\n",
    "    ext1_new = ext1_orig - ext1_diff\n",
    "    h[1].data = ext1_new.astype('float32')\n",
    "    \n",
    "    ext4_orig = np.copy(h[4].data)\n",
    "    ext4_diff = background_levels[1] - avg_bkg\n",
    "    ext4_new = ext4_orig - ext4_diff\n",
    "    h[4].data = ext4_new.astype('float32')\n",
    "    \n",
    "    # Write out the final calibrated file\n",
    "    h.writeto(f, overwrite=True)\n",
    "    h.close()\n",
    "    print('Finished equalizing background levels between chips in {}'.format(basename))\n"
   ]
  },
  {
   "cell_type": "code",
   "execution_count": null,
   "metadata": {},
   "outputs": [],
   "source": []
  },
  {
   "cell_type": "code",
   "execution_count": 135,
   "metadata": {},
   "outputs": [
    {
     "data": {
      "text/plain": [
       "13.671875"
      ]
     },
     "execution_count": 135,
     "metadata": {},
     "output_type": "execute_result"
    }
   ],
   "source": [
    "mesh = bkg.mesh_nmasked\n",
    "len(mesh[mesh.mask==True]) / 512 * 100"
   ]
  },
  {
   "cell_type": "code",
   "execution_count": 126,
   "metadata": {},
   "outputs": [
    {
     "name": "stdout",
     "output_type": "stream",
     "text": [
      "./jdxfa9i0q_flc.fits\n",
      "71.613525\n",
      "./jdxfa9iaq_flc.fits\n",
      "17.363825\n",
      "./jdxfa9hoq_flc.fits\n",
      "13.707466\n",
      "./jdxfa9ikq_flc.fits\n",
      "63.209267\n",
      "./jdxfa9i7q_flc.fits\n",
      "35.688866\n",
      "./jdxfa9isq_flc.fits\n",
      "30.954384\n",
      "./jdxfa9ihq_flc.fits\n",
      "9.823201\n",
      "./jdxfa9ieq_flc.fits\n",
      "10.132814\n",
      "./jdxfa9inq_flc.fits\n",
      "228.12245\n",
      "./jdxfa9hrq_flc.fits\n",
      "12.226781\n",
      "./jdxfa9hxq_flc.fits\n",
      "261.86084\n",
      "./jdxfa9iqq_flc.fits\n",
      "43.820576\n"
     ]
    }
   ],
   "source": [
    "for f in glob.glob('./*a9*flc.fits'):\n",
    "    print(f)\n",
    "    print(np.median(fits.getdata(f,1)))"
   ]
  },
  {
   "cell_type": "code",
   "execution_count": 147,
   "metadata": {},
   "outputs": [
    {
     "data": {
      "text/plain": [
       "<matplotlib.image.AxesImage at 0x7fd0e09552b0>"
      ]
     },
     "execution_count": 147,
     "metadata": {},
     "output_type": "execute_result"
    },
    {
     "data": {
      "image/png": "[encoded data removed]",
      "text/plain": [
       "<Figure size 432x288 with 1 Axes>"
      ]
     },
     "metadata": {
      "needs_background": "light"
     },
     "output_type": "display_data"
    }
   ],
   "source": [
    "plt.imshow(mesh.mask, origin='lower', cmap='gray')"
   ]
  },
  {
   "cell_type": "code",
   "execution_count": 122,
   "metadata": {},
   "outputs": [
    {
     "data": {
      "text/plain": [
       "43.820576"
      ]
     },
     "execution_count": 122,
     "metadata": {},
     "output_type": "execute_result"
    }
   ],
   "source": [
    "d = fits.getdata('./jdxfa9iqq_flc.fits',1)\n",
    "np.nanmedian(d)"
   ]
  },
  {
   "cell_type": "code",
   "execution_count": 146,
   "metadata": {},
   "outputs": [
    {
     "data": {
      "text/plain": [
       "'./test_feb2021_new_code/jdxfa9iqq_flc.fits'"
      ]
     },
     "execution_count": 146,
     "metadata": {},
     "output_type": "execute_result"
    }
   ],
   "source": [
    "f"
   ]
  },
  {
   "cell_type": "code",
   "execution_count": null,
   "metadata": {},
   "outputs": [],
   "source": []
  },
  {
   "cell_type": "code",
   "execution_count": 117,
   "metadata": {},
   "outputs": [
    {
     "data": {
      "text/plain": [
       "(16, 32)"
      ]
     },
     "execution_count": 117,
     "metadata": {},
     "output_type": "execute_result"
    }
   ],
   "source": [
    "mesh.shape"
   ]
  },
  {
   "cell_type": "code",
   "execution_count": 118,
   "metadata": {},
   "outputs": [
    {
     "data": {
      "text/plain": [
       "512"
      ]
     },
     "execution_count": 118,
     "metadata": {},
     "output_type": "execute_result"
    }
   ],
   "source": [
    "16*32"
   ]
  },
  {
   "cell_type": "code",
   "execution_count": 88,
   "metadata": {},
   "outputs": [
    {
     "data": {
      "text/plain": [
       "-4.3076171875"
      ]
     },
     "execution_count": 88,
     "metadata": {},
     "output_type": "execute_result"
    }
   ],
   "source": [
    "252.19610595703125 - ((260.81134033203125+252.19610595703125)/2)"
   ]
  },
  {
   "cell_type": "code",
   "execution_count": 89,
   "metadata": {},
   "outputs": [],
   "source": [
    "d = fits.getdata('./test_feb2021_new_code/jdxfa9hxq_flc.fits', 4)\n",
    "dd = fits.getdata('./MAST_flcs/jdxfa9hxq_flc.fits', 4)\n",
    "bkg = fits.getdata('./test_feb2021_new_code/jdxfa9hxq_bkg_ext4.fits')\n",
    "ddd = dd - bkg\n",
    "ddd = ddd + 4.3076171875\n",
    "\n",
    "diff = d-ddd"
   ]
  },
  {
   "cell_type": "code",
   "execution_count": 80,
   "metadata": {},
   "outputs": [
    {
     "data": {
      "text/plain": [
       "260.81134"
      ]
     },
     "execution_count": 80,
     "metadata": {},
     "output_type": "execute_result"
    }
   ],
   "source": [
    "a = np.array([260.81134033203125, 260.81134033203125])\n",
    "a = a.astype('float32')\n",
    "a[1]"
   ]
  },
  {
   "cell_type": "code",
   "execution_count": 90,
   "metadata": {},
   "outputs": [
    {
     "data": {
      "image/png": "[encoded data removed]",
      "text/plain": [
       "<Figure size 432x288 with 1 Axes>"
      ]
     },
     "metadata": {
      "needs_background": "light"
     },
     "output_type": "display_data"
    }
   ],
   "source": [
    "bb = plt.hist(diff.flatten(), range=(-.00005,.00005), bins=100)"
   ]
  },
  {
   "cell_type": "code",
   "execution_count": 98,
   "metadata": {},
   "outputs": [],
   "source": [
    "data = fits.getdata('./MAST_flcs/jdxf09gqq_flc.fits', 1)\n",
    "s = SigmaClip(sigma=3.)\n",
    "bkg_estimator = MedianBackground()\n",
    "mask = (segmap > 0)\n",
    "bkg = Background2D(data, box_size=box_size, filter_size=(10, 10), \n",
    "                   sigma_clip=s, bkg_estimator=bkg_estimator)\n"
   ]
  },
  {
   "cell_type": "code",
   "execution_count": 109,
   "metadata": {},
   "outputs": [
    {
     "data": {
      "text/plain": [
       "3.4423828125"
      ]
     },
     "execution_count": 109,
     "metadata": {},
     "output_type": "execute_result"
    }
   ],
   "source": [
    "np.median(bkg.mesh_nmasked / (128*128) * 100)"
   ]
  },
  {
   "cell_type": "code",
   "execution_count": 103,
   "metadata": {},
   "outputs": [
    {
     "data": {
      "text/plain": [
       "512.0"
      ]
     },
     "execution_count": 103,
     "metadata": {},
     "output_type": "execute_result"
    }
   ],
   "source": [
    "(4096*2048) / (128*128)"
   ]
  },
  {
   "cell_type": "code",
   "execution_count": 105,
   "metadata": {},
   "outputs": [
    {
     "data": {
      "text/plain": [
       "512"
      ]
     },
     "execution_count": 105,
     "metadata": {},
     "output_type": "execute_result"
    }
   ],
   "source": [
    "bkg.mesh_nmasked.shape[0] * bkg.mesh_nmasked.shape[1]"
   ]
  },
  {
   "cell_type": "code",
   "execution_count": null,
   "metadata": {},
   "outputs": [],
   "source": []
  },
  {
   "cell_type": "code",
   "execution_count": 102,
   "metadata": {},
   "outputs": [
    {
     "data": {
      "text/plain": [
       "array([[ 496,  545,  598,  484,  485,  416,  527,  457,  404,  303,  437,\n",
       "         397,  377,  480,  449,  462,  432,  351,  787,  360,  455,  416,\n",
       "         494,  466,  361,  371,  421,  443,  419,  524,  439,  363],\n",
       "       [ 549,  370,  476,  489,  540,  449,  365,  384,  351,  419,  423,\n",
       "         420,  524,  418,  346,  382,  344,  412,  371,  554,  464,  437,\n",
       "         453,  513,  332,  449,  381,  482,  562,  419,  412,  428],\n",
       "       [ 518,  620,  322,  535,  470,  563,  460,  383,  484,  475,  383,\n",
       "         491,  457,  369,  473,  557,  412,  404,  459,  391,  487,  586,\n",
       "         397,  447,  353,  370,  375,  403,  498,  483,  559,  352],\n",
       "       [ 405,  552,  503,  415,  513,  427,  505,  514,  473,  421,  453,\n",
       "         395,  384,  520,  443,  495,  484,  414,  386,  394,  397,  444,\n",
       "         426,  551,  344,  465,  390,  421,  506,  442,  500,  653],\n",
       "       [ 516,  587,  540,  487,  468,  467,  485,  517,  674,  450,  519,\n",
       "         544,  412,  486,  464,  493,  442,  420,  442,  492,  425,  447,\n",
       "         386,  551,  500,  396,  512,  501,  540,  460,  493,  521],\n",
       "       [ 535,  520,  515,  486,  467,  423,  443,  366,  495,  488,  451,\n",
       "         450,  467,  503,  353,  411,  482,  510,  486,  415,  438,  453,\n",
       "         477,  495,  490,  520,  427,  527,  499,  509,  488,  481],\n",
       "       [ 565,  552,  492,  582,  496,  524,  437,  565,  538,  529,  509,\n",
       "         508,  506,  469,  457,  570,  508,  565,  469,  493,  459,  487,\n",
       "         545,  556,  462,  479,  486,  530,  515,  496,  527,  487],\n",
       "       [ 784,  514,  555,  558,  412,  533,  578,  565,  530,  520,  498,\n",
       "         531,  534,  444,  646,  510,  560,  524,  477,  600,  478,  511,\n",
       "         572,  456,  502,  464,  557,  554,  489,  634,  573,  591],\n",
       "       [ 643,  692,  600,  510,  460,  514,  561,  587,  520,  616,  574,\n",
       "         490,  522,  503,  582,  546,  571,  549,  566,  704,  591,  551,\n",
       "         538,  565,  523,  483,  574,  602,  627,  588,  708,  523],\n",
       "       [ 599,  597,  606,  631,  575,  570,  528,  537,  644,  602,  555,\n",
       "         660,  580,  598,  625,  638,  650,  672,  633,  667,  586,  610,\n",
       "         570,  627,  660,  613,  596,  588,  551,  530,  577,  620],\n",
       "       [ 635,  740,  704,  602,  676,  600,  604,  610,  637,  763,  648,\n",
       "         633,  651,  593,  622,  626,  656,  576,  624,  792,  703,  656,\n",
       "         562,  589,  659,  566,  595,  566,  643,  605,  679,  727],\n",
       "       [ 737,  660,  728,  624,  723,  631,  669,  599,  656,  722,  756,\n",
       "         733,  764,  762,  664,  638,  689,  619,  658,  683,  628,  645,\n",
       "         728,  656,  766,  620,  604,  704,  643,  643,  634,  642],\n",
       "       [ 826,  729,  761,  791,  753,  785,  703,  730,  755,  706,  755,\n",
       "         722,  740,  748,  736,  757,  868,  726,  685,  621,  818,  762,\n",
       "         779,  684,  683,  667,  733,  698,  686,  713,  687,  704],\n",
       "       [ 822,  711,  786,  803,  781,  762,  836,  742,  810,  829,  811,\n",
       "         796,  761,  749,  748,  760,  743,  726,  895,  794,  727,  801,\n",
       "         760,  847,  648,  654,  791,  762,  702,  876,  776,  744],\n",
       "       [ 858,  866,  845,  902,  777,  761,  833,  812,  820,  890,  931,\n",
       "         896,  882, 1030,  977,  781,  815,  829,  819,  800,  751,  851,\n",
       "         846,  841,  798,  865,  720,  823,  813,  830,  841,  826],\n",
       "       [ 912,  832, 1030,  874,  848,  947,  920,  938, 1056,  943,  845,\n",
       "         877,  907,  964,  982,  919,  936,  845,  900,  878,  794,  822,\n",
       "         923,  883,  819,  873,  894,  912,  823,  889,  793,  869]])"
      ]
     },
     "execution_count": 102,
     "metadata": {},
     "output_type": "execute_result"
    }
   ],
   "source": [
    "bkg.mesh_nmasked"
   ]
  },
  {
   "cell_type": "code",
   "execution_count": 94,
   "metadata": {},
   "outputs": [
    {
     "data": {
      "text/plain": [
       "0.0029184171944507398"
      ]
     },
     "execution_count": 94,
     "metadata": {},
     "output_type": "execute_result"
    }
   ],
   "source": [
    "np.max(diff)"
   ]
  },
  {
   "cell_type": "code",
   "execution_count": 93,
   "metadata": {},
   "outputs": [
    {
     "data": {
      "text/plain": [
       "-1.842096253312775e-09"
      ]
     },
     "execution_count": 93,
     "metadata": {},
     "output_type": "execute_result"
    }
   ],
   "source": [
    "np.nanmedian(diff)"
   ]
  },
  {
   "cell_type": "code",
   "execution_count": null,
   "metadata": {},
   "outputs": [],
   "source": []
  },
  {
   "cell_type": "code",
   "execution_count": 27,
   "metadata": {},
   "outputs": [
    {
     "name": "stdout",
     "output_type": "stream",
     "text": [
      "The following task in the stsci.skypac package can be run with TEAL:\n",
      "                                    skymatch                                    \n",
      "The following tasks in the drizzlepac package can be run with TEAL:\n",
      "    astrodrizzle       config_testbed      imagefindpars           mapreg       \n",
      "       photeq            pixreplace           pixtopix            pixtosky      \n",
      "  refimagefindpars       resetbits          runastrodriz          skytopix      \n",
      "     tweakback            tweakreg           updatenpol\n",
      "Setting up logfile :  astrodrizzle.log\n",
      "AstroDrizzle Version 3.1.6 (2020-02-19 16:16:30 -0500) started at: 10:42:52.918 (03/02/2021)\n",
      "\n",
      "==== Processing Step  Initialization  started at  10:42:52.921 (03/02/2021)\n",
      "\n",
      "Preserving original of:  jdxfa9i0q_flc.fits as  OrIg_files/jdxfa9i0q_flc.fits\n",
      "Preserving original of:  jdxfa9iaq_flc.fits as  OrIg_files/jdxfa9iaq_flc.fits\n",
      "Preserving original of:  jdxfa9hoq_flc.fits as  OrIg_files/jdxfa9hoq_flc.fits\n",
      "Preserving original of:  jdxfa9ikq_flc.fits as  OrIg_files/jdxfa9ikq_flc.fits\n",
      "Preserving original of:  jdxfa9i7q_flc.fits as  OrIg_files/jdxfa9i7q_flc.fits\n",
      "Preserving original of:  jdxfa9isq_flc.fits as  OrIg_files/jdxfa9isq_flc.fits\n",
      "Preserving original of:  jdxfa9ihq_flc.fits as  OrIg_files/jdxfa9ihq_flc.fits\n",
      "Preserving original of:  jdxfa9ieq_flc.fits as  OrIg_files/jdxfa9ieq_flc.fits\n",
      "Preserving original of:  jdxfa9inq_flc.fits as  OrIg_files/jdxfa9inq_flc.fits\n",
      "Preserving original of:  jdxfa9hrq_flc.fits as  OrIg_files/jdxfa9hrq_flc.fits\n",
      "Preserving original of:  jdxfa9hxq_flc.fits as  OrIg_files/jdxfa9hxq_flc.fits\n",
      "Preserving original of:  jdxfa9iqq_flc.fits as  OrIg_files/jdxfa9iqq_flc.fits\n",
      "##############################################################################\n",
      "#                                                                            #\n",
      "# “minmed” is highly recommended for three images,                           #\n",
      "#  and is good for four to six images,                                       #\n",
      "#  but should be avoided for ten or more images.                             #\n",
      "#                                                                            #\n",
      "##############################################################################\n",
      "WCS Keywords\n",
      "\n",
      "Number of WCS axes: 2\n",
      "CTYPE : 'RA---TAN'  'DEC--TAN'  \n",
      "CRVAL : 189.1469847562453  62.293978429327  \n",
      "CRPIX : 2108.0  2122.5  \n",
      "CD1_1 CD1_2  : -1.3881105408369651e-05  4.649163469184382e-07  \n",
      "CD2_1 CD2_2  : 4.649163469184382e-07  1.3881105408369651e-05  \n",
      "NAXIS : 4216  4245\n",
      "********************************************************************************\n",
      "*\n",
      "*  Estimated memory usage:  up to 4301 Mb.\n",
      "*  Output image size:       4216 X 4245 pixels. \n",
      "*  Output image file:       ~ 204 Mb. \n",
      "*  Cores available:         16\n",
      "*\n",
      "********************************************************************************\n",
      "==== Processing Step Initialization finished at 10:42:59.070 (03/02/2021)\n",
      "==== Processing Step  Static Mask  started at  10:42:59.073 (03/02/2021)\n",
      "\n",
      "==== Processing Step Static Mask finished at 10:43:03.41 (03/02/2021)\n",
      "==== Processing Step  Subtract Sky  started at  10:43:03.416 (03/02/2021)\n",
      "\n",
      "***** skymatch started on 2021-02-03 10:43:04.614067\n",
      "      Version 1.0.5\n",
      "\n",
      "'skymatch' task will apply computed sky differences to input image file(s).\n",
      "\n",
      "NOTE: Computed sky values WILL NOT be subtracted from image data ('subtractsky'=False).\n",
      "'MDRIZSKY' header keyword will represent sky value *computed* from data.\n",
      "\n",
      "-----  User specified keywords:  -----\n",
      "       Sky Value Keyword:  'MDRIZSKY'\n",
      "       Data Units Keyword: 'BUNIT'\n",
      "\n",
      "\n",
      "-----  Input file list:  -----\n",
      "\n",
      "   **  Input image: 'jdxfa9i0q_flc.fits'\n",
      "       EXT: 'SCI',1;\tMASK: jdxfa9i0q_skymatch_mask_sci1.fits[0]\n",
      "       EXT: 'SCI',2;\tMASK: jdxfa9i0q_skymatch_mask_sci2.fits[0]\n",
      "\n",
      "   **  Input image: 'jdxfa9iaq_flc.fits'\n",
      "       EXT: 'SCI',1;\tMASK: jdxfa9iaq_skymatch_mask_sci1.fits[0]\n",
      "       EXT: 'SCI',2;\tMASK: jdxfa9iaq_skymatch_mask_sci2.fits[0]\n",
      "\n",
      "   **  Input image: 'jdxfa9hoq_flc.fits'\n",
      "       EXT: 'SCI',1;\tMASK: jdxfa9hoq_skymatch_mask_sci1.fits[0]\n",
      "       EXT: 'SCI',2;\tMASK: jdxfa9hoq_skymatch_mask_sci2.fits[0]\n",
      "\n",
      "   **  Input image: 'jdxfa9ikq_flc.fits'\n",
      "       EXT: 'SCI',1;\tMASK: jdxfa9ikq_skymatch_mask_sci1.fits[0]\n",
      "       EXT: 'SCI',2;\tMASK: jdxfa9ikq_skymatch_mask_sci2.fits[0]\n",
      "\n",
      "   **  Input image: 'jdxfa9i7q_flc.fits'\n",
      "       EXT: 'SCI',1;\tMASK: jdxfa9i7q_skymatch_mask_sci1.fits[0]\n",
      "       EXT: 'SCI',2;\tMASK: jdxfa9i7q_skymatch_mask_sci2.fits[0]\n",
      "\n",
      "   **  Input image: 'jdxfa9isq_flc.fits'\n",
      "       EXT: 'SCI',1;\tMASK: jdxfa9isq_skymatch_mask_sci1.fits[0]\n",
      "       EXT: 'SCI',2;\tMASK: jdxfa9isq_skymatch_mask_sci2.fits[0]\n",
      "\n",
      "   **  Input image: 'jdxfa9ihq_flc.fits'\n",
      "       EXT: 'SCI',1;\tMASK: jdxfa9ihq_skymatch_mask_sci1.fits[0]\n",
      "       EXT: 'SCI',2;\tMASK: jdxfa9ihq_skymatch_mask_sci2.fits[0]\n",
      "\n",
      "   **  Input image: 'jdxfa9ieq_flc.fits'\n",
      "       EXT: 'SCI',1;\tMASK: jdxfa9ieq_skymatch_mask_sci1.fits[0]\n",
      "       EXT: 'SCI',2;\tMASK: jdxfa9ieq_skymatch_mask_sci2.fits[0]\n",
      "\n",
      "   **  Input image: 'jdxfa9inq_flc.fits'\n",
      "       EXT: 'SCI',1;\tMASK: jdxfa9inq_skymatch_mask_sci1.fits[0]\n",
      "       EXT: 'SCI',2;\tMASK: jdxfa9inq_skymatch_mask_sci2.fits[0]\n",
      "\n",
      "   **  Input image: 'jdxfa9hrq_flc.fits'\n",
      "       EXT: 'SCI',1;\tMASK: jdxfa9hrq_skymatch_mask_sci1.fits[0]\n",
      "       EXT: 'SCI',2;\tMASK: jdxfa9hrq_skymatch_mask_sci2.fits[0]\n",
      "\n",
      "   **  Input image: 'jdxfa9hxq_flc.fits'\n",
      "       EXT: 'SCI',1;\tMASK: jdxfa9hxq_skymatch_mask_sci1.fits[0]\n",
      "       EXT: 'SCI',2;\tMASK: jdxfa9hxq_skymatch_mask_sci2.fits[0]\n",
      "\n",
      "   **  Input image: 'jdxfa9iqq_flc.fits'\n",
      "       EXT: 'SCI',1;\tMASK: jdxfa9iqq_skymatch_mask_sci1.fits[0]\n",
      "       EXT: 'SCI',2;\tMASK: jdxfa9iqq_skymatch_mask_sci2.fits[0]\n",
      "\n",
      "-----  Sky statistics parameters:  -----\n",
      "       statistics function: 'median'\n",
      "       lower = None\n",
      "       upper = None\n",
      "       nclip = 5\n",
      "       lsigma = 4.0\n",
      "       usigma = 4.0\n",
      "       binwidth = 0.1\n",
      "\n",
      "-----  Data->Brightness conversion parameters for input files:  -----\n",
      "\n",
      "   *   Image: jdxfa9i0q_flc.fits\n",
      "       EXT = 'SCI',1\n",
      "             Data units type: COUNTS\n",
      "             EXPTIME: 800.0 [s]\n",
      "             Conversion factor (data->brightness):  0.49999999999999994\n",
      "       EXT = 'SCI',2\n",
      "             Data units type: COUNTS\n",
      "             EXPTIME: 800.0 [s]\n",
      "             Conversion factor (data->brightness):  0.49999999999999994\n",
      "\n",
      "   *   Image: jdxfa9iaq_flc.fits\n",
      "       EXT = 'SCI',1\n",
      "             Data units type: COUNTS\n",
      "             EXPTIME: 799.0 [s]\n",
      "             Conversion factor (data->brightness):  0.5006257822277846\n",
      "       EXT = 'SCI',2\n",
      "             Data units type: COUNTS\n",
      "             EXPTIME: 799.0 [s]\n",
      "             Conversion factor (data->brightness):  0.5006257822277846\n",
      "\n",
      "   *   Image: jdxfa9hoq_flc.fits\n",
      "       EXT = 'SCI',1\n",
      "             Data units type: COUNTS\n",
      "             EXPTIME: 773.0 [s]\n",
      "             Conversion factor (data->brightness):  0.5174644243208278\n",
      "       EXT = 'SCI',2\n",
      "             Data units type: COUNTS\n",
      "             EXPTIME: 773.0 [s]\n",
      "             Conversion factor (data->brightness):  0.5174644243208278\n",
      "\n",
      "   *   Image: jdxfa9ikq_flc.fits\n",
      "       EXT = 'SCI',1\n",
      "             Data units type: COUNTS\n",
      "             EXPTIME: 635.0 [s]\n",
      "             Conversion factor (data->brightness):  0.6299212598425196\n",
      "       EXT = 'SCI',2\n",
      "             Data units type: COUNTS\n",
      "             EXPTIME: 635.0 [s]\n",
      "             Conversion factor (data->brightness):  0.6299212598425196\n",
      "\n",
      "   *   Image: jdxfa9i7q_flc.fits\n",
      "       EXT = 'SCI',1\n",
      "             Data units type: COUNTS\n",
      "             EXPTIME: 799.0 [s]\n",
      "             Conversion factor (data->brightness):  0.5006257822277846\n",
      "       EXT = 'SCI',2\n",
      "             Data units type: COUNTS\n",
      "             EXPTIME: 799.0 [s]\n",
      "             Conversion factor (data->brightness):  0.5006257822277846\n",
      "\n",
      "   *   Image: jdxfa9isq_flc.fits\n",
      "       EXT = 'SCI',1\n",
      "             Data units type: COUNTS\n",
      "             EXPTIME: 645.0 [s]\n",
      "             Conversion factor (data->brightness):  0.6201550387596898\n",
      "       EXT = 'SCI',2\n",
      "             Data units type: COUNTS\n",
      "             EXPTIME: 645.0 [s]\n",
      "             Conversion factor (data->brightness):  0.6201550387596898\n",
      "\n",
      "   *   Image: jdxfa9ihq_flc.fits\n",
      "       EXT = 'SCI',1\n",
      "             Data units type: COUNTS\n",
      "             EXPTIME: 635.0 [s]\n",
      "             Conversion factor (data->brightness):  0.6299212598425196\n"
     ]
    },
    {
     "name": "stdout",
     "output_type": "stream",
     "text": [
      "       EXT = 'SCI',2\n",
      "             Data units type: COUNTS\n",
      "             EXPTIME: 635.0 [s]\n",
      "             Conversion factor (data->brightness):  0.6299212598425196\n",
      "\n",
      "   *   Image: jdxfa9ieq_flc.fits\n",
      "       EXT = 'SCI',1\n",
      "             Data units type: COUNTS\n",
      "             EXPTIME: 635.0 [s]\n",
      "             Conversion factor (data->brightness):  0.6299212598425196\n",
      "       EXT = 'SCI',2\n",
      "             Data units type: COUNTS\n",
      "             EXPTIME: 635.0 [s]\n",
      "             Conversion factor (data->brightness):  0.6299212598425196\n",
      "\n",
      "   *   Image: jdxfa9inq_flc.fits\n",
      "       EXT = 'SCI',1\n",
      "             Data units type: COUNTS\n",
      "             EXPTIME: 635.0 [s]\n",
      "             Conversion factor (data->brightness):  0.6299212598425196\n",
      "       EXT = 'SCI',2\n",
      "             Data units type: COUNTS\n",
      "             EXPTIME: 635.0 [s]\n",
      "             Conversion factor (data->brightness):  0.6299212598425196\n",
      "\n",
      "   *   Image: jdxfa9hrq_flc.fits\n",
      "       EXT = 'SCI',1\n",
      "             Data units type: COUNTS\n",
      "             EXPTIME: 773.0 [s]\n",
      "             Conversion factor (data->brightness):  0.5174644243208278\n",
      "       EXT = 'SCI',2\n",
      "             Data units type: COUNTS\n",
      "             EXPTIME: 773.0 [s]\n",
      "             Conversion factor (data->brightness):  0.5174644243208278\n",
      "\n",
      "   *   Image: jdxfa9hxq_flc.fits\n",
      "       EXT = 'SCI',1\n",
      "             Data units type: COUNTS\n",
      "             EXPTIME: 800.0 [s]\n",
      "             Conversion factor (data->brightness):  0.49999999999999994\n",
      "       EXT = 'SCI',2\n",
      "             Data units type: COUNTS\n",
      "             EXPTIME: 800.0 [s]\n",
      "             Conversion factor (data->brightness):  0.49999999999999994\n",
      "\n",
      "   *   Image: jdxfa9iqq_flc.fits\n",
      "       EXT = 'SCI',1\n",
      "             Data units type: COUNTS\n",
      "             EXPTIME: 645.0 [s]\n",
      "             Conversion factor (data->brightness):  0.6201550387596898\n",
      "       EXT = 'SCI',2\n",
      "             Data units type: COUNTS\n",
      "             EXPTIME: 645.0 [s]\n",
      "             Conversion factor (data->brightness):  0.6201550387596898\n",
      "\n",
      "\n",
      "-----  Computing sky values requested image extensions (detector chips):  -----\n",
      "\n",
      "   *   Image:   'jdxfa9i0q_flc.fits['SCI',1,2]'  --  SKY = 35.34790420532226 (brightness units)\n",
      "       Sky change (data units):\n",
      "      - EXT = 'SCI',1   delta(MDRIZSKY) = 70.6958   NEW MDRIZSKY = 70.6958\n",
      "      - EXT = 'SCI',2   delta(MDRIZSKY) = 70.6958   NEW MDRIZSKY = 70.6958\n",
      "   *   Image:   'jdxfa9iaq_flc.fits['SCI',1,2]'  --  SKY = 8.653478896961044 (brightness units)\n",
      "       Sky change (data units):\n",
      "      - EXT = 'SCI',1   delta(MDRIZSKY) = 17.2853   NEW MDRIZSKY = 17.2853\n",
      "      - EXT = 'SCI',2   delta(MDRIZSKY) = 17.2853   NEW MDRIZSKY = 17.2853\n",
      "   *   Image:   'jdxfa9hoq_flc.fits['SCI',1,2]'  --  SKY = 7.107510387820382 (brightness units)\n",
      "       Sky change (data units):\n",
      "      - EXT = 'SCI',1   delta(MDRIZSKY) = 13.7353   NEW MDRIZSKY = 13.7353\n",
      "      - EXT = 'SCI',2   delta(MDRIZSKY) = 13.7353   NEW MDRIZSKY = 13.7353\n",
      "   *   Image:   'jdxfa9ikq_flc.fits['SCI',1,2]'  --  SKY = 39.09392589659202 (brightness units)\n",
      "       Sky change (data units):\n",
      "      - EXT = 'SCI',1   delta(MDRIZSKY) = 62.0616   NEW MDRIZSKY = 62.0616\n",
      "      - EXT = 'SCI',2   delta(MDRIZSKY) = 62.0616   NEW MDRIZSKY = 62.0616\n",
      "   *   Image:   'jdxfa9i7q_flc.fits['SCI',1,2]'  --  SKY = 17.75678842327323 (brightness units)\n",
      "       Sky change (data units):\n",
      "      - EXT = 'SCI',1   delta(MDRIZSKY) = 35.4692   NEW MDRIZSKY = 35.4692\n",
      "      - EXT = 'SCI',2   delta(MDRIZSKY) = 35.4692   NEW MDRIZSKY = 35.4692\n",
      "   *   Image:   'jdxfa9isq_flc.fits['SCI',1,2]'  --  SKY = 19.113157996835632 (brightness units)\n",
      "       Sky change (data units):\n",
      "      - EXT = 'SCI',1   delta(MDRIZSKY) = 30.82   NEW MDRIZSKY = 30.82\n",
      "      - EXT = 'SCI',2   delta(MDRIZSKY) = 30.82   NEW MDRIZSKY = 30.82\n",
      "   *   Image:   'jdxfa9ihq_flc.fits['SCI',1,2]'  --  SKY = 6.253944457046628 (brightness units)\n",
      "       Sky change (data units):\n",
      "      - EXT = 'SCI',1   delta(MDRIZSKY) = 9.92814   NEW MDRIZSKY = 9.92814\n",
      "      - EXT = 'SCI',2   delta(MDRIZSKY) = 9.92814   NEW MDRIZSKY = 9.92814\n",
      "   *   Image:   'jdxfa9ieq_flc.fits['SCI',1,2]'  --  SKY = 6.418310450756643 (brightness units)\n",
      "       Sky change (data units):\n",
      "      - EXT = 'SCI',1   delta(MDRIZSKY) = 10.1891   NEW MDRIZSKY = 10.1891\n",
      "      - EXT = 'SCI',2   delta(MDRIZSKY) = 10.1891   NEW MDRIZSKY = 10.1891\n",
      "   *   Image:   'jdxfa9inq_flc.fits['SCI',1,2]'  --  SKY = 140.44240395853836 (brightness units)\n",
      "       Sky change (data units):\n",
      "      - EXT = 'SCI',1   delta(MDRIZSKY) = 222.952   NEW MDRIZSKY = 222.952\n",
      "      - EXT = 'SCI',2   delta(MDRIZSKY) = 222.952   NEW MDRIZSKY = 222.952\n",
      "   *   Image:   'jdxfa9hrq_flc.fits['SCI',1,2]'  --  SKY = 6.371999743068048 (brightness units)\n",
      "       Sky change (data units):\n",
      "      - EXT = 'SCI',1   delta(MDRIZSKY) = 12.3139   NEW MDRIZSKY = 12.3139\n",
      "      - EXT = 'SCI',2   delta(MDRIZSKY) = 12.3139   NEW MDRIZSKY = 12.3139\n",
      "   *   Image:   'jdxfa9hxq_flc.fits['SCI',1,2]'  --  SKY = 128.49334716796872 (brightness units)\n",
      "       Sky change (data units):\n",
      "      - EXT = 'SCI',1   delta(MDRIZSKY) = 256.987   NEW MDRIZSKY = 256.987\n",
      "      - EXT = 'SCI',2   delta(MDRIZSKY) = 256.987   NEW MDRIZSKY = 256.987\n",
      "   *   Image:   'jdxfa9iqq_flc.fits['SCI',1,2]'  --  SKY = 27.007829533066854 (brightness units)\n",
      "       Sky change (data units):\n",
      "      - EXT = 'SCI',1   delta(MDRIZSKY) = 43.5501   NEW MDRIZSKY = 43.5501\n",
      "      - EXT = 'SCI',2   delta(MDRIZSKY) = 43.5501   NEW MDRIZSKY = 43.5501\n",
      "***** skymatch ended on 2021-02-03 10:43:12.893230\n",
      "TOTAL RUN TIME: 0:00:08.279163\n",
      "==== Processing Step Subtract Sky finished at 10:43:13.995 (03/02/2021)\n",
      "==== Processing Step  Separate Drizzle  started at  10:43:13.996 (03/02/2021)\n",
      "\n",
      "WCS Keywords\n",
      "\n",
      "Number of WCS axes: 2\n",
      "CTYPE : 'RA---TAN'  'DEC--TAN'  \n",
      "CRVAL : 189.1469847562453  62.293978429327  \n",
      "CRPIX : 2108.0  2122.5  \n",
      "CD1_1 CD1_2  : -1.3881105408369651e-05  4.649163469184382e-07  \n",
      "CD2_1 CD2_2  : 4.649163469184382e-07  1.3881105408369651e-05  \n",
      "NAXIS : 4216  4245\n",
      "-Generating simple FITS output: jdxfa9iaq_single_sci.fits\n",
      "-Generating simple FITS output: jdxfa9isq_single_sci.fits\n",
      "-Generating simple FITS output: jdxfa9hoq_single_sci.fits\n",
      "-Generating simple FITS output: jdxfa9i0q_single_sci.fits\n",
      "Writing out image to disk: jdxfa9iaq_single_sci.fits\n",
      "-Generating simple FITS output: jdxfa9hxq_single_sci.fits\n",
      "-Generating simple FITS output: jdxfa9iqq_single_sci.fits\n",
      "-Generating simple FITS output: jdxfa9ihq_single_sci.fits\n",
      "-Generating simple FITS output: jdxfa9inq_single_sci.fits\n",
      "-Generating simple FITS output: jdxfa9ieq_single_sci.fits\n",
      "-Generating simple FITS output: jdxfa9i7q_single_sci.fits\n",
      "-Generating simple FITS output: jdxfa9ikq_single_sci.fits\n",
      "-Generating simple FITS output: jdxfa9hrq_single_sci.fits\n",
      "Writing out image to disk: jdxfa9hoq_single_sci.fits\n",
      "Writing out image to disk: jdxfa9isq_single_sci.fits\n",
      "Writing out image to disk: jdxfa9i0q_single_sci.fits\n",
      "Writing out image to disk: jdxfa9hxq_single_sci.fits\n",
      "Writing out image to disk: jdxfa9iqq_single_sci.fits\n",
      "Writing out image to disk: jdxfa9inq_single_sci.fits\n",
      "Writing out image to disk: jdxfa9ihq_single_sci.fits\n",
      "Writing out image to disk: jdxfa9ieq_single_sci.fits\n",
      "Writing out image to disk: jdxfa9i7q_single_sci.fits\n",
      "Writing out image to disk: jdxfa9hrq_single_sci.fits\n",
      "Writing out image to disk: jdxfa9ikq_single_sci.fits\n",
      "Writing out image to disk: jdxfa9iaq_single_wht.fits\n",
      "Writing out image to disk: jdxfa9hoq_single_wht.fits\n",
      "Writing out image to disk: jdxfa9iqq_single_wht.fits\n",
      "Writing out image to disk: jdxfa9hxq_single_wht.fits\n",
      "Writing out image to disk: jdxfa9ieq_single_wht.fits\n",
      "Writing out image to disk: jdxfa9isq_single_wht.fits\n",
      "Writing out image to disk: jdxfa9i0q_single_wht.fits\n",
      "Writing out image to disk: jdxfa9inq_single_wht.fits\n",
      "Writing out image to disk: jdxfa9ihq_single_wht.fits\n",
      "Writing out image to disk: jdxfa9ikq_single_wht.fits\n",
      "Writing out image to disk: jdxfa9hrq_single_wht.fits\n",
      "Writing out image to disk: jdxfa9i7q_single_wht.fits\n",
      "==== Processing Step Separate Drizzle finished at 10:43:19.619 (03/02/2021)\n",
      "==== Processing Step  Create Median  started at  10:43:19.622 (03/02/2021)\n",
      "\n",
      "reference sky value for image 'jdxfa9i0q_flc.fits' is 70.69580841064453\n",
      "reference sky value for image 'jdxfa9iaq_flc.fits' is 17.285324096679688\n",
      "reference sky value for image 'jdxfa9hoq_flc.fits' is 13.73526382446289\n"
     ]
    },
    {
     "name": "stdout",
     "output_type": "stream",
     "text": [
      "reference sky value for image 'jdxfa9ikq_flc.fits' is 62.061607360839844\n",
      "reference sky value for image 'jdxfa9i7q_flc.fits' is 35.46918487548828\n",
      "reference sky value for image 'jdxfa9isq_flc.fits' is 30.81996726989746\n",
      "reference sky value for image 'jdxfa9ihq_flc.fits' is 9.928136825561523\n",
      "reference sky value for image 'jdxfa9ieq_flc.fits' is 10.189067840576172\n",
      "reference sky value for image 'jdxfa9inq_flc.fits' is 222.9523162841797\n",
      "reference sky value for image 'jdxfa9hrq_flc.fits' is 12.313889503479004\n",
      "reference sky value for image 'jdxfa9hxq_flc.fits' is 256.9866943359375\n",
      "reference sky value for image 'jdxfa9iqq_flc.fits' is 43.55012512207031\n",
      "Saving output median image to: 'final_med.fits'\n",
      "==== Processing Step Create Median finished at 10:43:40.10 (03/02/2021)\n",
      "==== Processing Step  Blot  started at  10:43:40.102 (03/02/2021)\n",
      "\n",
      "    Blot: creating blotted image:  jdxfa9i0q_flc.fits[sci,1]\n",
      "Using default C-based coordinate transformation...\n",
      "-Generating simple FITS output: jdxfa9i0q_sci1_blt.fits\n",
      "Writing out image to disk: jdxfa9i0q_sci1_blt.fits\n",
      "    Blot: creating blotted image:  jdxfa9i0q_flc.fits[sci,2]\n",
      "Using default C-based coordinate transformation...\n",
      "-Generating simple FITS output: jdxfa9i0q_sci2_blt.fits\n",
      "Writing out image to disk: jdxfa9i0q_sci2_blt.fits\n",
      "    Blot: creating blotted image:  jdxfa9iaq_flc.fits[sci,1]\n",
      "Using default C-based coordinate transformation...\n",
      "-Generating simple FITS output: jdxfa9iaq_sci1_blt.fits\n",
      "Writing out image to disk: jdxfa9iaq_sci1_blt.fits\n",
      "    Blot: creating blotted image:  jdxfa9iaq_flc.fits[sci,2]\n",
      "Using default C-based coordinate transformation...\n",
      "-Generating simple FITS output: jdxfa9iaq_sci2_blt.fits\n",
      "Writing out image to disk: jdxfa9iaq_sci2_blt.fits\n",
      "    Blot: creating blotted image:  jdxfa9hoq_flc.fits[sci,1]\n",
      "Using default C-based coordinate transformation...\n",
      "-Generating simple FITS output: jdxfa9hoq_sci1_blt.fits\n",
      "Writing out image to disk: jdxfa9hoq_sci1_blt.fits\n",
      "    Blot: creating blotted image:  jdxfa9hoq_flc.fits[sci,2]\n",
      "Using default C-based coordinate transformation...\n",
      "-Generating simple FITS output: jdxfa9hoq_sci2_blt.fits\n",
      "Writing out image to disk: jdxfa9hoq_sci2_blt.fits\n",
      "    Blot: creating blotted image:  jdxfa9ikq_flc.fits[sci,1]\n",
      "Using default C-based coordinate transformation...\n",
      "-Generating simple FITS output: jdxfa9ikq_sci1_blt.fits\n",
      "Writing out image to disk: jdxfa9ikq_sci1_blt.fits\n",
      "    Blot: creating blotted image:  jdxfa9ikq_flc.fits[sci,2]\n",
      "Using default C-based coordinate transformation...\n",
      "-Generating simple FITS output: jdxfa9ikq_sci2_blt.fits\n",
      "Writing out image to disk: jdxfa9ikq_sci2_blt.fits\n",
      "    Blot: creating blotted image:  jdxfa9i7q_flc.fits[sci,1]\n",
      "Using default C-based coordinate transformation...\n",
      "-Generating simple FITS output: jdxfa9i7q_sci1_blt.fits\n",
      "Writing out image to disk: jdxfa9i7q_sci1_blt.fits\n",
      "    Blot: creating blotted image:  jdxfa9i7q_flc.fits[sci,2]\n",
      "Using default C-based coordinate transformation...\n",
      "-Generating simple FITS output: jdxfa9i7q_sci2_blt.fits\n",
      "Writing out image to disk: jdxfa9i7q_sci2_blt.fits\n",
      "    Blot: creating blotted image:  jdxfa9isq_flc.fits[sci,1]\n",
      "Using default C-based coordinate transformation...\n",
      "-Generating simple FITS output: jdxfa9isq_sci1_blt.fits\n",
      "Writing out image to disk: jdxfa9isq_sci1_blt.fits\n",
      "    Blot: creating blotted image:  jdxfa9isq_flc.fits[sci,2]\n",
      "Using default C-based coordinate transformation...\n",
      "-Generating simple FITS output: jdxfa9isq_sci2_blt.fits\n",
      "Writing out image to disk: jdxfa9isq_sci2_blt.fits\n",
      "    Blot: creating blotted image:  jdxfa9ihq_flc.fits[sci,1]\n",
      "Using default C-based coordinate transformation...\n",
      "-Generating simple FITS output: jdxfa9ihq_sci1_blt.fits\n",
      "Writing out image to disk: jdxfa9ihq_sci1_blt.fits\n",
      "    Blot: creating blotted image:  jdxfa9ihq_flc.fits[sci,2]\n",
      "Using default C-based coordinate transformation...\n",
      "-Generating simple FITS output: jdxfa9ihq_sci2_blt.fits\n",
      "Writing out image to disk: jdxfa9ihq_sci2_blt.fits\n",
      "    Blot: creating blotted image:  jdxfa9ieq_flc.fits[sci,1]\n",
      "Using default C-based coordinate transformation...\n",
      "-Generating simple FITS output: jdxfa9ieq_sci1_blt.fits\n",
      "Writing out image to disk: jdxfa9ieq_sci1_blt.fits\n",
      "    Blot: creating blotted image:  jdxfa9ieq_flc.fits[sci,2]\n",
      "Using default C-based coordinate transformation...\n",
      "-Generating simple FITS output: jdxfa9ieq_sci2_blt.fits\n",
      "Writing out image to disk: jdxfa9ieq_sci2_blt.fits\n",
      "    Blot: creating blotted image:  jdxfa9inq_flc.fits[sci,1]\n",
      "Using default C-based coordinate transformation...\n",
      "-Generating simple FITS output: jdxfa9inq_sci1_blt.fits\n",
      "Writing out image to disk: jdxfa9inq_sci1_blt.fits\n",
      "    Blot: creating blotted image:  jdxfa9inq_flc.fits[sci,2]\n",
      "Using default C-based coordinate transformation...\n",
      "-Generating simple FITS output: jdxfa9inq_sci2_blt.fits\n",
      "Writing out image to disk: jdxfa9inq_sci2_blt.fits\n",
      "    Blot: creating blotted image:  jdxfa9hrq_flc.fits[sci,1]\n",
      "Using default C-based coordinate transformation...\n",
      "-Generating simple FITS output: jdxfa9hrq_sci1_blt.fits\n",
      "Writing out image to disk: jdxfa9hrq_sci1_blt.fits\n",
      "    Blot: creating blotted image:  jdxfa9hrq_flc.fits[sci,2]\n",
      "Using default C-based coordinate transformation...\n",
      "-Generating simple FITS output: jdxfa9hrq_sci2_blt.fits\n",
      "Writing out image to disk: jdxfa9hrq_sci2_blt.fits\n",
      "    Blot: creating blotted image:  jdxfa9hxq_flc.fits[sci,1]\n",
      "Using default C-based coordinate transformation...\n",
      "-Generating simple FITS output: jdxfa9hxq_sci1_blt.fits\n",
      "Writing out image to disk: jdxfa9hxq_sci1_blt.fits\n",
      "    Blot: creating blotted image:  jdxfa9hxq_flc.fits[sci,2]\n",
      "Using default C-based coordinate transformation...\n",
      "-Generating simple FITS output: jdxfa9hxq_sci2_blt.fits\n",
      "Writing out image to disk: jdxfa9hxq_sci2_blt.fits\n",
      "    Blot: creating blotted image:  jdxfa9iqq_flc.fits[sci,1]\n",
      "Using default C-based coordinate transformation...\n",
      "-Generating simple FITS output: jdxfa9iqq_sci1_blt.fits\n",
      "Writing out image to disk: jdxfa9iqq_sci1_blt.fits\n",
      "    Blot: creating blotted image:  jdxfa9iqq_flc.fits[sci,2]\n",
      "Using default C-based coordinate transformation...\n",
      "-Generating simple FITS output: jdxfa9iqq_sci2_blt.fits\n",
      "Writing out image to disk: jdxfa9iqq_sci2_blt.fits\n",
      "==== Processing Step Blot finished at 10:44:12.671 (03/02/2021)\n",
      "==== Processing Step  Driz_CR  started at  10:44:12.672 (03/02/2021)\n",
      "\n",
      "Creating output: jdxfa9i0q_sci1_crmask.fits\n",
      "Creating output: jdxfa9hoq_sci1_crmask.fits\n",
      "Creating output: jdxfa9ikq_sci1_crmask.fits\n",
      "Creating output: jdxfa9iaq_sci1_crmask.fits\n",
      "Creating output: jdxfa9i7q_sci1_crmask.fits\n",
      "Creating output: jdxfa9isq_sci1_crmask.fits\n",
      "Creating output: jdxfa9ieq_sci1_crmask.fits\n",
      "Creating output: jdxfa9inq_sci1_crmask.fits\n",
      "Creating output: jdxfa9ihq_sci1_crmask.fits\n",
      "Creating output: jdxfa9hrq_sci1_crmask.fits\n",
      "Creating output: jdxfa9iqq_sci1_crmask.fits\n",
      "Creating output: jdxfa9hxq_sci1_crmask.fits\n",
      "Creating output: jdxfa9i0q_sci2_crmask.fits\n",
      "Creating output: jdxfa9ikq_sci2_crmask.fits\n",
      "Creating output: jdxfa9hoq_sci2_crmask.fits\n",
      "Creating output: jdxfa9iaq_sci2_crmask.fits\n",
      "Creating output: jdxfa9isq_sci2_crmask.fits\n",
      "Creating output: jdxfa9i7q_sci2_crmask.fits\n",
      "Creating output: jdxfa9ieq_sci2_crmask.fits\n",
      "Creating output: jdxfa9ihq_sci2_crmask.fits\n",
      "Creating output: jdxfa9inq_sci2_crmask.fits\n",
      "Creating output: jdxfa9iqq_sci2_crmask.fits\n",
      "Created CR corrected file: 'jdxfa9i0q_crclean.fits'\n",
      "Creating output: jdxfa9hrq_sci2_crmask.fits\n",
      "Creating output: jdxfa9hxq_sci2_crmask.fits\n",
      "Created CR corrected file: 'jdxfa9ikq_crclean.fits'\n",
      "Created CR corrected file: 'jdxfa9hoq_crclean.fits'\n",
      "Created CR corrected file: 'jdxfa9iaq_crclean.fits'\n",
      "Created CR corrected file: 'jdxfa9isq_crclean.fits'\n",
      "Created CR corrected file: 'jdxfa9ieq_crclean.fits'\n",
      "Created CR corrected file: 'jdxfa9i7q_crclean.fits'\n",
      "Created CR corrected file: 'jdxfa9hrq_crclean.fits'\n",
      "Created CR corrected file: 'jdxfa9hxq_crclean.fits'\n",
      "Created CR corrected file: 'jdxfa9inq_crclean.fits'\n",
      "Created CR corrected file: 'jdxfa9iqq_crclean.fits'\n",
      "Created CR corrected file: 'jdxfa9ihq_crclean.fits'\n",
      "==== Processing Step Driz_CR finished at 10:44:24.973 (03/02/2021)\n",
      "==== Processing Step  Final Drizzle  started at  10:44:24.989 (03/02/2021)\n",
      "\n",
      "WCS Keywords\n",
      "\n",
      "Number of WCS axes: 2\n",
      "CTYPE : 'RA---TAN'  'DEC--TAN'  \n",
      "CRVAL : 189.1469847562453  62.293978429327  \n",
      "CRPIX : 2108.0  2122.5  \n",
      "CD1_1 CD1_2  : -1.3881105408369651e-05  4.649163469184382e-07  \n"
     ]
    },
    {
     "name": "stdout",
     "output_type": "stream",
     "text": [
      "CD2_1 CD2_2  : 4.649163469184382e-07  1.3881105408369651e-05  \n",
      "NAXIS : 4216  4245\n",
      "-Generating multi-extension output file:  final_drc.fits\n",
      "Deleted all instances of WCS with key A in extensions [1]\n",
      "Writing out to disk: final_drc.fits\n",
      "==== Processing Step Final Drizzle finished at 10:45:21.116 (03/02/2021)\n",
      "\n",
      "AstroDrizzle Version 3.1.6 is finished processing at 10:45:21.119 (03/02/2021).\n",
      "\n",
      "\n",
      "\n",
      "   --------------------          --------------------\n",
      "                   Step          Elapsed time\n",
      "   --------------------          --------------------\n",
      "\n",
      "         Initialization          6.1492 sec.\n",
      "            Static Mask          4.3426 sec.\n",
      "           Subtract Sky          10.5785 sec.\n",
      "       Separate Drizzle          5.6230 sec.\n",
      "          Create Median          20.4778 sec.\n",
      "                   Blot          32.5691 sec.\n",
      "                Driz_CR          12.3009 sec.\n",
      "          Final Drizzle          56.1273 sec.\n",
      "   ====================          ====================\n",
      "                  Total          148.1684 sec.\n",
      "\n",
      "Trailer file written to:  astrodrizzle.log\n"
     ]
    }
   ],
   "source": [
    "# Drizzle check\n",
    "\n",
    "from drizzlepac import astrodrizzle as ad\n",
    "import glob\n",
    "from stsci.tools import teal\n",
    "teal.unlearn('astrodrizzle')\n",
    "import os\n",
    "\n",
    "os.chdir('../test_feb2021_new_code/')\n",
    "\n",
    "files = glob.glob('*_flc.fits')\n",
    "ad.AstroDrizzle(files, driz_cr_corr=True, driz_combine=True, clean=True, build=True, driz_cr_snr='3.5 3.0')\n",
    "\n",
    "os.chdir('../')"
   ]
  },
  {
   "cell_type": "code",
   "execution_count": null,
   "metadata": {},
   "outputs": [],
   "source": []
  },
  {
   "cell_type": "code",
   "execution_count": 97,
   "metadata": {},
   "outputs": [
    {
     "ename": "AttributeError",
     "evalue": "'numpy.ndarray' object has no attribute 'mesh_nmasked'",
     "output_type": "error",
     "traceback": [
      "\u001b[0;31m---------------------------------------------------------------------------\u001b[0m",
      "\u001b[0;31mAttributeError\u001b[0m                            Traceback (most recent call last)",
      "\u001b[0;32m<ipython-input-97-64abf1843c07>\u001b[0m in \u001b[0;36m<module>\u001b[0;34m\u001b[0m\n\u001b[0;32m----> 1\u001b[0;31m \u001b[0mbkg\u001b[0m\u001b[0;34m.\u001b[0m\u001b[0mmesh_nmasked\u001b[0m\u001b[0;34m\u001b[0m\u001b[0;34m\u001b[0m\u001b[0m\n\u001b[0m",
      "\u001b[0;31mAttributeError\u001b[0m: 'numpy.ndarray' object has no attribute 'mesh_nmasked'"
     ]
    }
   ],
   "source": [
    "bkg.mesh_nmasked"
   ]
  },
  {
   "cell_type": "code",
   "execution_count": null,
   "metadata": {},
   "outputs": [],
   "source": []
  },
  {
   "cell_type": "code",
   "execution_count": 68,
   "metadata": {},
   "outputs": [
    {
     "data": {
      "text/plain": [
       "Text(0, 0.5, 'Number of Pixels')"
      ]
     },
     "execution_count": 68,
     "metadata": {},
     "output_type": "execute_result"
    },
    {
     "data": {
      "image/png": "[encoded data removed]",
      "text/plain": [
       "<Figure size 432x288 with 1 Axes>"
      ]
     },
     "metadata": {
      "needs_background": "light"
     },
     "output_type": "display_data"
    }
   ],
   "source": [
    "from astropy.io import fits\n",
    "import matplotlib\n",
    "import matplotlib.pyplot as plt\n",
    "import numpy as np\n",
    "%matplotlib inline\n",
    "\n",
    "\n",
    "d = fits.getdata('./test_feb2021_new_code/final_drc.fits', 'SCI').flatten()\n",
    "n,bins,patches = plt.hist(d, bins=85, range=(-.015,.015))\n",
    "\n",
    "bin_centers = (bins[:-1] + bins[1:]) / 2\n",
    "nmax = bin_centers[n==max(n)]\n",
    "\n",
    "plt.axvline(np.nanmedian(nmax), color='red', ls='--')\n",
    "#plt.yscale('log')\n",
    "plt.xlabel('Signal [e/s]')\n",
    "plt.ylabel('Number of Pixels')\n",
    "#plt.title('New Visit A9 Drizzle')\n"
   ]
  },
  {
   "cell_type": "code",
   "execution_count": 64,
   "metadata": {},
   "outputs": [
    {
     "data": {
      "text/plain": [
       "Text(0, 0.5, 'Number of Pixels')"
      ]
     },
     "execution_count": 64,
     "metadata": {},
     "output_type": "execute_result"
    },
    {
     "data": {
      "image/png": "[encoded data removed]",
      "text/plain": [
       "<Figure size 432x288 with 1 Axes>"
      ]
     },
     "metadata": {
      "needs_background": "light"
     },
     "output_type": "display_data"
    }
   ],
   "source": [
    "d = fits.getdata('./test_feb2021_orig_code/final_drc.fits', 'SCI').flatten()\n",
    "n,bins,patches = plt.hist(d, bins=85, range=(-.015,.015))\n",
    "\n",
    "bin_centers = (bins[:-1] + bins[1:]) / 2\n",
    "nmax = bin_centers[n==max(n)]\n",
    "\n",
    "plt.axvline(np.nanmedian(nmax), color='red', ls='--')\n",
    "#plt.yscale('log')\n",
    "plt.xlabel('Signal [e/s]')\n",
    "plt.ylabel('Number of Pixels')\n",
    "#plt.title('New Visit A9 Drizzle')"
   ]
  },
  {
   "cell_type": "code",
   "execution_count": 66,
   "metadata": {},
   "outputs": [
    {
     "data": {
      "text/plain": [
       "Text(0, 0.5, 'Number of Pixels')"
      ]
     },
     "execution_count": 66,
     "metadata": {},
     "output_type": "execute_result"
    },
    {
     "data": {
      "image/png": "[encoded data removed]",
      "text/plain": [
       "<Figure size 432x288 with 1 Axes>"
      ]
     },
     "metadata": {
      "needs_background": "light"
     },
     "output_type": "display_data"
    }
   ],
   "source": [
    "d = fits.getdata('./test_feb2021/final_drc.fits', 'SCI').flatten()\n",
    "n,bins,patches = plt.hist(d, bins=85, range=(-.015,.015))\n",
    "\n",
    "bin_centers = (bins[:-1] + bins[1:]) / 2\n",
    "nmax = bin_centers[n==max(n)]\n",
    "\n",
    "plt.axvline(np.nanmedian(nmax), color='red', ls='--')\n",
    "#plt.yscale('log')\n",
    "plt.xlabel('Signal [e/s]')\n",
    "plt.ylabel('Number of Pixels')\n",
    "#plt.title('Current Visit A9 Drizzle')"
   ]
  },
  {
   "cell_type": "code",
   "execution_count": 67,
   "metadata": {},
   "outputs": [
    {
     "data": {
      "text/plain": [
       "Text(0, 0.5, 'Number of Pixels')"
      ]
     },
     "execution_count": 67,
     "metadata": {},
     "output_type": "execute_result"
    },
    {
     "data": {
      "image/png": "[encoded data removed]",
      "text/plain": [
       "<Figure size 432x288 with 1 Axes>"
      ]
     },
     "metadata": {
      "needs_background": "light"
     },
     "output_type": "display_data"
    }
   ],
   "source": [
    "d = fits.getdata('./final_drc_old.fits', 'SCI').flatten()\n",
    "n,bins,patches = plt.hist(d, bins=85, range=(-.015,.015))\n",
    "\n",
    "bin_centers = (bins[:-1] + bins[1:]) / 2\n",
    "nmax = bin_centers[n==max(n)]\n",
    "\n",
    "plt.axvline(np.nanmedian(nmax), color='red', ls='--')\n",
    "#plt.yscale('log')\n",
    "plt.xlabel('Signal [e/s]')\n",
    "plt.ylabel('Number of Pixels')\n",
    "#plt.title('New Visit A9 Drizzle')"
   ]
  },
  {
   "cell_type": "code",
   "execution_count": 144,
   "metadata": {},
   "outputs": [
    {
     "data": {
      "text/plain": [
       "Text(0.5, 1.0, 'jdxfa9ihq_flc.fits')"
      ]
     },
     "execution_count": 144,
     "metadata": {},
     "output_type": "execute_result"
    },
    {
     "data": {
      "image/png": "[encoded data removed]",
      "text/plain": [
       "<Figure size 432x288 with 1 Axes>"
      ]
     },
     "metadata": {
      "needs_background": "light"
     },
     "output_type": "display_data"
    }
   ],
   "source": [
    "d = fits.getdata('./test_feb2021/jdxfa9ihq_flc.fits', 1).flatten()\n",
    "t = fits.getheader('./test_feb2021/jdxfa9ihq_flc.fits', 'PRIMARY')['EXPTIME']\n",
    "d = d/t\n",
    "a = plt.hist(d, bins=100, range=(-.03,.03))\n",
    "plt.axvline(np.nanmedian(d), color='red', ls='--')\n",
    "plt.xlabel('Signal [e/s]')\n",
    "plt.ylabel('Number of Pixels')\n",
    "plt.title('jdxfa9ihq_flc.fits')"
   ]
  },
  {
   "cell_type": "code",
   "execution_count": 73,
   "metadata": {},
   "outputs": [
    {
     "name": "stdout",
     "output_type": "stream",
     "text": [
      "jdxfa9i0q_flc.fits\n",
      "NEW 3.728342056274414\n",
      "NEW 3.715646266937256\n",
      "MAST 3.4206271171569824\n",
      "MAST 3.701353073120117\n",
      "-------\n",
      "jdxfa9iaq_flc.fits\n",
      "NEW 10.994625091552734\n",
      "NEW 9.690380096435547\n",
      "MAST 7.924890518188477\n",
      "MAST 10.067999362945557\n",
      "-------\n",
      "jdxfa9hoq_flc.fits\n",
      "NEW 12.279164791107178\n",
      "NEW 10.882794857025146\n",
      "MAST 8.943426609039307\n",
      "MAST 11.329066753387451\n",
      "-------\n",
      "jdxfa9ikq_flc.fits\n",
      "NEW 2.1877050399780273\n",
      "NEW 2.088749408721924\n",
      "MAST 2.096879482269287\n",
      "MAST 2.1112680435180664\n",
      "-------\n",
      "jdxfa9i7q_flc.fits\n",
      "NEW 4.853785037994385\n",
      "NEW 4.5441508293151855\n",
      "MAST 3.9365053176879883\n",
      "MAST 4.640460014343262\n",
      "-------\n",
      "jdxfa9isq_flc.fits\n",
      "NEW 4.141640663146973\n",
      "NEW 3.9692044258117676\n",
      "MAST 3.5384774208068848\n",
      "MAST 4.021060466766357\n",
      "-------\n",
      "jdxfa9ihq_flc.fits\n",
      "NEW 10.978353023529053\n",
      "NEW 9.901797771453857\n",
      "MAST 8.138704299926758\n",
      "MAST 10.20503044128418\n",
      "-------\n",
      "jdxfa9ieq_flc.fits\n",
      "NEW 11.41653060913086\n",
      "NEW 10.38733720779419\n",
      "MAST 8.711099624633789\n",
      "MAST 10.708880424499512\n",
      "-------\n",
      "jdxfa9inq_flc.fits\n",
      "NEW 1.3789057731628418\n",
      "NEW 1.3240814208984375\n",
      "MAST 1.5570521354675293\n",
      "MAST 1.3350605964660645\n",
      "-------\n",
      "jdxfa9hrq_flc.fits\n",
      "NEW 12.934494018554688\n",
      "NEW 11.744236946105957\n",
      "MAST 9.390771389007568\n",
      "MAST 12.15580701828003\n",
      "-------\n",
      "jdxfa9hxq_flc.fits\n",
      "NEW 1.2877821922302246\n",
      "NEW 1.2403488159179688\n",
      "MAST 1.4177441596984863\n",
      "MAST 1.2496471405029297\n",
      "-------\n",
      "jdxfa9iqq_flc.fits\n",
      "NEW 4.021334648132324\n",
      "NEW 4.010426998138428\n",
      "MAST 3.700268268585205\n",
      "MAST 4.05508279800415\n",
      "-------\n"
     ]
    }
   ],
   "source": [
    "for f in glob.glob('./test_feb2021_new_code/*a9*flc.fits'):\n",
    "    ff = f.replace('test_feb2021_new_code', '')\n",
    "    print(os.path.basename(f))\n",
    "    d = fits.getdata(f, 3)\n",
    "    n = (len(d[d&4096!=0]) / (4096*2048)) * 100\n",
    "    print('NEW', n)\n",
    "    d = fits.getdata(f, 6)\n",
    "    n = (len(d[d&4096!=0]) / (4096*2048)) * 100\n",
    "    print('NEW', n)\n",
    "    \n",
    "    d = fits.getdata(ff, 3)\n",
    "    n = (len(d[d&4096!=0]) / (4096*2048)) * 100\n",
    "    print('MAST', n)\n",
    "    d = fits.getdata(ff, 6)\n",
    "    n = (len(d[d&4096!=0]) / (4096*2048)) * 100\n",
    "    print('MAST', n)\n",
    "    \n",
    "    print('-------')"
   ]
  },
  {
   "cell_type": "code",
   "execution_count": 71,
   "metadata": {},
   "outputs": [
    {
     "data": {
      "text/plain": [
       "(2048, 4096)"
      ]
     },
     "execution_count": 71,
     "metadata": {},
     "output_type": "execute_result"
    }
   ],
   "source": [
    "data.shape"
   ]
  },
  {
   "cell_type": "code",
   "execution_count": 161,
   "metadata": {},
   "outputs": [
    {
     "name": "stdout",
     "output_type": "stream",
     "text": [
      "./test_feb2021/jdxfa9i0q_flc.fits\n",
      "22.262871265411377\n",
      "./test_feb2021/jdxfa9iaq_flc.fits\n",
      "14.739930629730225\n",
      "./test_feb2021/jdxfa9hoq_flc.fits\n",
      "13.615155220031738\n",
      "./test_feb2021/jdxfa9ikq_flc.fits\n",
      "17.16151237487793\n",
      "./test_feb2021/jdxfa9i7q_flc.fits\n",
      "16.644775867462158\n",
      "./test_feb2021/jdxfa9isq_flc.fits\n",
      "13.75417709350586\n",
      "./test_feb2021/jdxfa9ihq_flc.fits\n",
      "10.982000827789307\n",
      "./test_feb2021/jdxfa9ieq_flc.fits\n",
      "11.699402332305908\n",
      "./test_feb2021/jdxfa9inq_flc.fits\n",
      "28.15157175064087\n",
      "./test_feb2021/jdxfa9hrq_flc.fits\n",
      "13.078510761260986\n",
      "./test_feb2021/jdxfa9hxq_flc.fits\n",
      "30.581271648406982\n",
      "./test_feb2021/jdxfa9iqq_flc.fits\n",
      "16.42019748687744\n"
     ]
    }
   ],
   "source": [
    "for f in glob.glob('./test_feb2021/*a9*flc.fits'):\n",
    "    print(f)\n",
    "    d = fits.getdata(f, 3)\n",
    "    #t = fits.getheader(f, 0)['EXPTIME']\n",
    "    n = (len(d[d&4096!=0]) / (4096*2048)) * 100\n",
    "    print(np.nanmedian(n))"
   ]
  },
  {
   "cell_type": "code",
   "execution_count": 162,
   "metadata": {},
   "outputs": [
    {
     "name": "stdout",
     "output_type": "stream",
     "text": [
      "./test_feb2021_new_code/jdxfa9i0q_flc.fits\n",
      "3.7476420402526855\n",
      "./test_feb2021_new_code/jdxfa9iaq_flc.fits\n",
      "11.153948307037354\n",
      "./test_feb2021_new_code/jdxfa9hoq_flc.fits\n",
      "12.427759170532227\n",
      "./test_feb2021_new_code/jdxfa9ikq_flc.fits\n",
      "2.2089481353759766\n",
      "./test_feb2021_new_code/jdxfa9i7q_flc.fits\n",
      "4.911541938781738\n",
      "./test_feb2021_new_code/jdxfa9isq_flc.fits\n",
      "4.180479049682617\n",
      "./test_feb2021_new_code/jdxfa9ihq_flc.fits\n",
      "11.049211025238037\n",
      "./test_feb2021_new_code/jdxfa9ieq_flc.fits\n",
      "11.513876914978027\n",
      "./test_feb2021_new_code/jdxfa9inq_flc.fits\n",
      "1.390695571899414\n",
      "./test_feb2021_new_code/jdxfa9hrq_flc.fits\n",
      "13.071560859680176\n",
      "./test_feb2021_new_code/jdxfa9hxq_flc.fits\n",
      "1.2973666191101074\n",
      "./test_feb2021_new_code/jdxfa9iqq_flc.fits\n",
      "4.049563407897949\n"
     ]
    }
   ],
   "source": [
    "for f in glob.glob('./test_feb2021_new_code/*a9*flc.fits'):\n",
    "    print(f)\n",
    "    d = fits.getdata(f, 3)\n",
    "    #t = fits.getheader(f, 0)['EXPTIME']\n",
    "    n = (len(d[d&4096!=0]) / (4096*2048)) * 100\n",
    "    print(np.nanmedian(n))"
   ]
  },
  {
   "cell_type": "code",
   "execution_count": 163,
   "metadata": {},
   "outputs": [
    {
     "name": "stdout",
     "output_type": "stream",
     "text": [
      "./jdxfa9i0q_flc.fits\n",
      "3.4206271171569824\n",
      "./jdxfa9iaq_flc.fits\n",
      "7.924890518188477\n",
      "./jdxfa9hoq_flc.fits\n",
      "8.943426609039307\n",
      "./jdxfa9ikq_flc.fits\n",
      "2.096879482269287\n",
      "./jdxfa9i7q_flc.fits\n",
      "3.9365053176879883\n",
      "./jdxfa9isq_flc.fits\n",
      "3.5384774208068848\n",
      "./jdxfa9ihq_flc.fits\n",
      "8.138704299926758\n",
      "./jdxfa9ieq_flc.fits\n",
      "8.711099624633789\n",
      "./jdxfa9inq_flc.fits\n",
      "1.5570521354675293\n",
      "./jdxfa9hrq_flc.fits\n",
      "9.390771389007568\n",
      "./jdxfa9hxq_flc.fits\n",
      "1.4177441596984863\n",
      "./jdxfa9iqq_flc.fits\n",
      "3.700268268585205\n"
     ]
    }
   ],
   "source": [
    "for f in glob.glob('./*a9*flc.fits'):\n",
    "    print(f)\n",
    "    d = fits.getdata(f, 3)\n",
    "    #t = fits.getheader(f, 0)['EXPTIME']\n",
    "    n = (len(d[d&4096!=0]) / (4096*2048)) * 100\n",
    "    print(np.nanmedian(n))"
   ]
  },
  {
   "cell_type": "code",
   "execution_count": 165,
   "metadata": {},
   "outputs": [
    {
     "name": "stdout",
     "output_type": "stream",
     "text": [
      "./jdxfa9i0q_flc.fits\n",
      "71.613525\n",
      "./jdxfa9iaq_flc.fits\n",
      "17.363825\n",
      "./jdxfa9hoq_flc.fits\n",
      "13.707466\n",
      "./jdxfa9ikq_flc.fits\n",
      "63.209267\n",
      "./jdxfa9i7q_flc.fits\n",
      "35.688866\n",
      "./jdxfa9isq_flc.fits\n",
      "30.954384\n",
      "./jdxfa9ihq_flc.fits\n",
      "9.823201\n",
      "./jdxfa9ieq_flc.fits\n",
      "10.132814\n",
      "./jdxfa9inq_flc.fits\n",
      "228.12245\n",
      "./jdxfa9hrq_flc.fits\n",
      "12.226781\n",
      "./jdxfa9hxq_flc.fits\n",
      "261.86084\n",
      "./jdxfa9iqq_flc.fits\n",
      "43.820576\n"
     ]
    }
   ],
   "source": [
    "for f in glob.glob('./*a9*flc.fits'):\n",
    "    print(f)\n",
    "    d = fits.getdata(f, 1)\n",
    "    #t = fits.getheader(f, 0)['EXPTIME']\n",
    "    #n = (len(d[d&4096!=0]) / (4096*2048)) * 100\n",
    "    print(np.nanmedian(d))"
   ]
  },
  {
   "cell_type": "code",
   "execution_count": null,
   "metadata": {},
   "outputs": [],
   "source": []
  },
  {
   "cell_type": "code",
   "execution_count": null,
   "metadata": {},
   "outputs": [],
   "source": []
  },
  {
   "cell_type": "code",
   "execution_count": 147,
   "metadata": {},
   "outputs": [
    {
     "name": "stdout",
     "output_type": "stream",
     "text": [
      "./MAST_flcs/jdxfa9i0q_flc.fits\n",
      "2.117788791656494\n",
      "./MAST_flcs/jdxfa9iaq_flc.fits\n",
      "2.450680732727051\n",
      "./MAST_flcs/jdxfa9hoq_flc.fits\n",
      "2.644073963165283\n",
      "./MAST_flcs/jdxfa9ikq_flc.fits\n",
      "1.1105775833129883\n",
      "./MAST_flcs/jdxfa9i7q_flc.fits\n",
      "1.803910732269287\n",
      "./MAST_flcs/jdxfa9isq_flc.fits\n",
      "1.6469717025756836\n",
      "./MAST_flcs/jdxfa9ihq_flc.fits\n",
      "2.454686164855957\n",
      "./MAST_flcs/jdxfa9ieq_flc.fits\n",
      "2.855658531188965\n",
      "./MAST_flcs/jdxfa9inq_flc.fits\n",
      "1.1486172676086426\n",
      "./MAST_flcs/jdxfa9hrq_flc.fits\n",
      "2.5183558464050293\n",
      "./MAST_flcs/jdxfa9hxq_flc.fits\n",
      "1.0412335395812988\n",
      "./MAST_flcs/jdxfa9iqq_flc.fits\n",
      "2.223086357116699\n"
     ]
    }
   ],
   "source": [
    "for f in glob.glob('./MAST_flcs/*a9*flc.fits'):\n",
    "    print(f)\n",
    "    d = fits.getdata(f, 3)\n",
    "    #t = fits.getheader(f, 0)['EXPTIME']\n",
    "    n = (len(d[d&4096!=0]) / (4096*2048)) * 100\n",
    "    print(np.nanmedian(n))"
   ]
  },
  {
   "cell_type": "code",
   "execution_count": 146,
   "metadata": {},
   "outputs": [
    {
     "name": "stdout",
     "output_type": "stream",
     "text": [
      "./MAST_flcs/jdxfa9i0q_flc.fits\n",
      "177653.0\n",
      "./MAST_flcs/jdxfa9iaq_flc.fits\n",
      "205578.0\n",
      "./MAST_flcs/jdxfa9hoq_flc.fits\n",
      "221801.0\n",
      "./MAST_flcs/jdxfa9ikq_flc.fits\n",
      "93162.0\n",
      "./MAST_flcs/jdxfa9i7q_flc.fits\n",
      "151323.0\n",
      "./MAST_flcs/jdxfa9isq_flc.fits\n",
      "138158.0\n",
      "./MAST_flcs/jdxfa9ihq_flc.fits\n",
      "205914.0\n",
      "./MAST_flcs/jdxfa9ieq_flc.fits\n",
      "239550.0\n",
      "./MAST_flcs/jdxfa9inq_flc.fits\n",
      "96353.0\n",
      "./MAST_flcs/jdxfa9hrq_flc.fits\n",
      "211255.0\n",
      "./MAST_flcs/jdxfa9hxq_flc.fits\n",
      "87345.0\n",
      "./MAST_flcs/jdxfa9iqq_flc.fits\n",
      "186486.0\n"
     ]
    }
   ],
   "source": [
    "for f in glob.glob('./MAST_flcs/*a9*flc.fits'):\n",
    "    print(f)\n",
    "    d = fits.getdata(f, 3)\n",
    "    #t = fits.getheader(f, 0)['EXPTIME']\n",
    "    n = len(d[d&4096!=0])\n",
    "    print(np.nanmedian(n))"
   ]
  },
  {
   "cell_type": "code",
   "execution_count": 66,
   "metadata": {},
   "outputs": [
    {
     "data": {
      "text/plain": [
       "2.117788791656494"
      ]
     },
     "execution_count": 66,
     "metadata": {},
     "output_type": "execute_result"
    }
   ],
   "source": [
    "(177653 / (2048*4096)) * 100"
   ]
  },
  {
   "cell_type": "code",
   "execution_count": 62,
   "metadata": {},
   "outputs": [
    {
     "data": {
      "text/plain": [
       "(2048, 4096)"
      ]
     },
     "execution_count": 62,
     "metadata": {},
     "output_type": "execute_result"
    }
   ],
   "source": [
    "d.shape"
   ]
  },
  {
   "cell_type": "code",
   "execution_count": 60,
   "metadata": {},
   "outputs": [
    {
     "data": {
      "text/plain": [
       "array([[4096,    0,    0, ...,    0,    0,    0],\n",
       "       [4096,    0,    0, ...,    0,    0,    0],\n",
       "       [4096, 4096, 4096, ...,    0,    0,    0],\n",
       "       ...,\n",
       "       [4096,    0,    0, ..., 4096,    0,    0],\n",
       "       [4096, 4096,    0, ..., 4096, 4096,    0],\n",
       "       [4096, 4096, 4096, ..., 4096, 4096, 4096]], dtype=uint16)"
      ]
     },
     "execution_count": 60,
     "metadata": {},
     "output_type": "execute_result"
    }
   ],
   "source": [
    "d"
   ]
  },
  {
   "cell_type": "code",
   "execution_count": 19,
   "metadata": {},
   "outputs": [
    {
     "data": {
      "text/plain": [
       "'ELECTRONS/S'"
      ]
     },
     "execution_count": 19,
     "metadata": {},
     "output_type": "execute_result"
    }
   ],
   "source": [
    "fits.getheader('./test_feb2021/final_drc.fits', 'SCI')['BUNIT']"
   ]
  },
  {
   "cell_type": "code",
   "execution_count": 27,
   "metadata": {},
   "outputs": [
    {
     "data": {
      "text/plain": [
       "('ELECTRONS', 773.0)"
      ]
     },
     "execution_count": 27,
     "metadata": {},
     "output_type": "execute_result"
    }
   ],
   "source": [
    "fits.getheader('./test_feb2021/jdxfa9hoq_flc.fits', 'SCI')['BUNIT'],\\\n",
    "fits.getheader('./test_feb2021/jdxfa9hoq_flc.fits', 'PRIMARY')['EXPTIME']"
   ]
  },
  {
   "cell_type": "code",
   "execution_count": 50,
   "metadata": {},
   "outputs": [
    {
     "data": {
      "text/plain": [
       "'./test_feb2021/jdxfa9iqq_flc.fits'"
      ]
     },
     "execution_count": 50,
     "metadata": {},
     "output_type": "execute_result"
    }
   ],
   "source": [
    "f"
   ]
  },
  {
   "cell_type": "code",
   "execution_count": null,
   "metadata": {},
   "outputs": [],
   "source": []
  },
  {
   "cell_type": "code",
   "execution_count": 25,
   "metadata": {},
   "outputs": [
    {
     "data": {
      "text/plain": [
       "16.0"
      ]
     },
     "execution_count": 25,
     "metadata": {},
     "output_type": "execute_result"
    }
   ],
   "source": [
    "2048/128"
   ]
  },
  {
   "cell_type": "code",
   "execution_count": null,
   "metadata": {},
   "outputs": [],
   "source": []
  },
  {
   "cell_type": "code",
   "execution_count": 20,
   "metadata": {},
   "outputs": [
    {
     "data": {
      "text/plain": [
       "-0.0036967215"
      ]
     },
     "execution_count": 20,
     "metadata": {},
     "output_type": "execute_result"
    }
   ],
   "source": [
    "np.nanmedian(d)"
   ]
  },
  {
   "cell_type": "code",
   "execution_count": null,
   "metadata": {},
   "outputs": [],
   "source": [
    "d = fits.getdata('./test_feb2021/final_drc.fits', 'SCI').flatten()\n"
   ]
  }
 ],
 "metadata": {
  "kernelspec": {
   "display_name": "Python 3",
   "language": "python",
   "name": "python3"
  },
  "language_info": {
   "codemirror_mode": {
    "name": "ipython",
    "version": 3
   },
   "file_extension": ".py",
   "mimetype": "text/x-python",
   "name": "python",
   "nbconvert_exporter": "python",
   "pygments_lexer": "ipython3",
   "version": "3.6.10"
  }
 },
 "nbformat": 4,
 "nbformat_minor": 2
}
