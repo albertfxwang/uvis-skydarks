{
 "cells": [
  {
   "cell_type": "code",
   "execution_count": 67,
   "metadata": {},
   "outputs": [
    {
     "name": "stdout",
     "output_type": "stream",
     "text": [
      "Working on jdxfa9i0q_flc.fits:\n",
      "\tWorking on extension 1:\n"
     ]
    },
    {
     "name": "stderr",
     "output_type": "stream",
     "text": [
      "/Users/bsunnquist/miniconda3/envs/astroconda2020/lib/python3.6/site-packages/numpy/core/fromnumeric.py:746: UserWarning: Warning: 'partition' will ignore the 'mask' of the MaskedArray.\n",
      "  a.partition(kth, axis=axis, kind=kind, order=order)\n"
     ]
    },
    {
     "name": "stdout",
     "output_type": "stream",
     "text": [
      "\tMaking source segmap...\n",
      "\tFinding the background gradient...\n",
      "\tWorking on extension 4:\n"
     ]
    },
    {
     "name": "stderr",
     "output_type": "stream",
     "text": [
      "/Users/bsunnquist/miniconda3/envs/astroconda2020/lib/python3.6/site-packages/numpy/core/fromnumeric.py:746: UserWarning: Warning: 'partition' will ignore the 'mask' of the MaskedArray.\n",
      "  a.partition(kth, axis=axis, kind=kind, order=order)\n"
     ]
    },
    {
     "name": "stdout",
     "output_type": "stream",
     "text": [
      "\tMaking source segmap...\n",
      "\tFinding the background gradient...\n",
      "Finished removing background gradient from jdxfa9i0q_flc.fits\n",
      "Working on jdxfa9iaq_flc.fits:\n",
      "\tWorking on extension 1:\n"
     ]
    },
    {
     "name": "stderr",
     "output_type": "stream",
     "text": [
      "/Users/bsunnquist/miniconda3/envs/astroconda2020/lib/python3.6/site-packages/numpy/core/fromnumeric.py:746: UserWarning: Warning: 'partition' will ignore the 'mask' of the MaskedArray.\n",
      "  a.partition(kth, axis=axis, kind=kind, order=order)\n"
     ]
    },
    {
     "name": "stdout",
     "output_type": "stream",
     "text": [
      "\tMaking source segmap...\n",
      "\tFinding the background gradient...\n",
      "\tWorking on extension 4:\n"
     ]
    },
    {
     "name": "stderr",
     "output_type": "stream",
     "text": [
      "/Users/bsunnquist/miniconda3/envs/astroconda2020/lib/python3.6/site-packages/numpy/core/fromnumeric.py:746: UserWarning: Warning: 'partition' will ignore the 'mask' of the MaskedArray.\n",
      "  a.partition(kth, axis=axis, kind=kind, order=order)\n"
     ]
    },
    {
     "name": "stdout",
     "output_type": "stream",
     "text": [
      "\tMaking source segmap...\n",
      "\tFinding the background gradient...\n",
      "Finished removing background gradient from jdxfa9iaq_flc.fits\n",
      "Working on jdxfa9hoq_flc.fits:\n",
      "\tWorking on extension 1:\n"
     ]
    },
    {
     "name": "stderr",
     "output_type": "stream",
     "text": [
      "/Users/bsunnquist/miniconda3/envs/astroconda2020/lib/python3.6/site-packages/numpy/core/fromnumeric.py:746: UserWarning: Warning: 'partition' will ignore the 'mask' of the MaskedArray.\n",
      "  a.partition(kth, axis=axis, kind=kind, order=order)\n"
     ]
    },
    {
     "name": "stdout",
     "output_type": "stream",
     "text": [
      "\tMaking source segmap...\n",
      "\tFinding the background gradient...\n",
      "\tWorking on extension 4:\n"
     ]
    },
    {
     "name": "stderr",
     "output_type": "stream",
     "text": [
      "/Users/bsunnquist/miniconda3/envs/astroconda2020/lib/python3.6/site-packages/numpy/core/fromnumeric.py:746: UserWarning: Warning: 'partition' will ignore the 'mask' of the MaskedArray.\n",
      "  a.partition(kth, axis=axis, kind=kind, order=order)\n"
     ]
    },
    {
     "name": "stdout",
     "output_type": "stream",
     "text": [
      "\tMaking source segmap...\n",
      "\tFinding the background gradient...\n",
      "Finished removing background gradient from jdxfa9hoq_flc.fits\n",
      "Working on jdxfa9ikq_flc.fits:\n",
      "\tWorking on extension 1:\n"
     ]
    },
    {
     "name": "stderr",
     "output_type": "stream",
     "text": [
      "/Users/bsunnquist/miniconda3/envs/astroconda2020/lib/python3.6/site-packages/numpy/core/fromnumeric.py:746: UserWarning: Warning: 'partition' will ignore the 'mask' of the MaskedArray.\n",
      "  a.partition(kth, axis=axis, kind=kind, order=order)\n"
     ]
    },
    {
     "name": "stdout",
     "output_type": "stream",
     "text": [
      "\tMaking source segmap...\n",
      "\tFinding the background gradient...\n",
      "\tWorking on extension 4:\n"
     ]
    },
    {
     "name": "stderr",
     "output_type": "stream",
     "text": [
      "/Users/bsunnquist/miniconda3/envs/astroconda2020/lib/python3.6/site-packages/numpy/core/fromnumeric.py:746: UserWarning: Warning: 'partition' will ignore the 'mask' of the MaskedArray.\n",
      "  a.partition(kth, axis=axis, kind=kind, order=order)\n"
     ]
    },
    {
     "name": "stdout",
     "output_type": "stream",
     "text": [
      "\tMaking source segmap...\n",
      "\tFinding the background gradient...\n",
      "Finished removing background gradient from jdxfa9ikq_flc.fits\n",
      "Working on jdxfa9i7q_flc.fits:\n",
      "\tWorking on extension 1:\n"
     ]
    },
    {
     "name": "stderr",
     "output_type": "stream",
     "text": [
      "/Users/bsunnquist/miniconda3/envs/astroconda2020/lib/python3.6/site-packages/numpy/core/fromnumeric.py:746: UserWarning: Warning: 'partition' will ignore the 'mask' of the MaskedArray.\n",
      "  a.partition(kth, axis=axis, kind=kind, order=order)\n"
     ]
    },
    {
     "name": "stdout",
     "output_type": "stream",
     "text": [
      "\tMaking source segmap...\n",
      "\tFinding the background gradient...\n",
      "\tWorking on extension 4:\n"
     ]
    },
    {
     "name": "stderr",
     "output_type": "stream",
     "text": [
      "/Users/bsunnquist/miniconda3/envs/astroconda2020/lib/python3.6/site-packages/numpy/core/fromnumeric.py:746: UserWarning: Warning: 'partition' will ignore the 'mask' of the MaskedArray.\n",
      "  a.partition(kth, axis=axis, kind=kind, order=order)\n"
     ]
    },
    {
     "name": "stdout",
     "output_type": "stream",
     "text": [
      "\tMaking source segmap...\n",
      "\tFinding the background gradient...\n",
      "Finished removing background gradient from jdxfa9i7q_flc.fits\n",
      "Working on jdxfa9isq_flc.fits:\n",
      "\tWorking on extension 1:\n"
     ]
    },
    {
     "name": "stderr",
     "output_type": "stream",
     "text": [
      "/Users/bsunnquist/miniconda3/envs/astroconda2020/lib/python3.6/site-packages/numpy/core/fromnumeric.py:746: UserWarning: Warning: 'partition' will ignore the 'mask' of the MaskedArray.\n",
      "  a.partition(kth, axis=axis, kind=kind, order=order)\n"
     ]
    },
    {
     "name": "stdout",
     "output_type": "stream",
     "text": [
      "\tMaking source segmap...\n",
      "\tFinding the background gradient...\n",
      "\tWorking on extension 4:\n"
     ]
    },
    {
     "name": "stderr",
     "output_type": "stream",
     "text": [
      "/Users/bsunnquist/miniconda3/envs/astroconda2020/lib/python3.6/site-packages/numpy/core/fromnumeric.py:746: UserWarning: Warning: 'partition' will ignore the 'mask' of the MaskedArray.\n",
      "  a.partition(kth, axis=axis, kind=kind, order=order)\n"
     ]
    },
    {
     "name": "stdout",
     "output_type": "stream",
     "text": [
      "\tMaking source segmap...\n",
      "\tFinding the background gradient...\n",
      "Finished removing background gradient from jdxfa9isq_flc.fits\n",
      "Working on jdxfa9ihq_flc.fits:\n",
      "\tWorking on extension 1:\n"
     ]
    },
    {
     "name": "stderr",
     "output_type": "stream",
     "text": [
      "/Users/bsunnquist/miniconda3/envs/astroconda2020/lib/python3.6/site-packages/numpy/core/fromnumeric.py:746: UserWarning: Warning: 'partition' will ignore the 'mask' of the MaskedArray.\n",
      "  a.partition(kth, axis=axis, kind=kind, order=order)\n"
     ]
    },
    {
     "name": "stdout",
     "output_type": "stream",
     "text": [
      "\tMaking source segmap...\n",
      "\tFinding the background gradient...\n",
      "\tWorking on extension 4:\n"
     ]
    },
    {
     "name": "stderr",
     "output_type": "stream",
     "text": [
      "/Users/bsunnquist/miniconda3/envs/astroconda2020/lib/python3.6/site-packages/numpy/core/fromnumeric.py:746: UserWarning: Warning: 'partition' will ignore the 'mask' of the MaskedArray.\n",
      "  a.partition(kth, axis=axis, kind=kind, order=order)\n"
     ]
    },
    {
     "name": "stdout",
     "output_type": "stream",
     "text": [
      "\tMaking source segmap...\n",
      "\tFinding the background gradient...\n",
      "Finished removing background gradient from jdxfa9ihq_flc.fits\n",
      "Working on jdxfa9ieq_flc.fits:\n",
      "\tWorking on extension 1:\n"
     ]
    },
    {
     "name": "stderr",
     "output_type": "stream",
     "text": [
      "/Users/bsunnquist/miniconda3/envs/astroconda2020/lib/python3.6/site-packages/numpy/core/fromnumeric.py:746: UserWarning: Warning: 'partition' will ignore the 'mask' of the MaskedArray.\n",
      "  a.partition(kth, axis=axis, kind=kind, order=order)\n"
     ]
    },
    {
     "name": "stdout",
     "output_type": "stream",
     "text": [
      "\tMaking source segmap...\n",
      "\tFinding the background gradient...\n",
      "\tWorking on extension 4:\n"
     ]
    },
    {
     "name": "stderr",
     "output_type": "stream",
     "text": [
      "/Users/bsunnquist/miniconda3/envs/astroconda2020/lib/python3.6/site-packages/numpy/core/fromnumeric.py:746: UserWarning: Warning: 'partition' will ignore the 'mask' of the MaskedArray.\n",
      "  a.partition(kth, axis=axis, kind=kind, order=order)\n"
     ]
    },
    {
     "name": "stdout",
     "output_type": "stream",
     "text": [
      "\tMaking source segmap...\n",
      "\tFinding the background gradient...\n",
      "Finished removing background gradient from jdxfa9ieq_flc.fits\n",
      "Working on jdxfa9inq_flc.fits:\n",
      "\tWorking on extension 1:\n"
     ]
    },
    {
     "name": "stderr",
     "output_type": "stream",
     "text": [
      "/Users/bsunnquist/miniconda3/envs/astroconda2020/lib/python3.6/site-packages/numpy/core/fromnumeric.py:746: UserWarning: Warning: 'partition' will ignore the 'mask' of the MaskedArray.\n",
      "  a.partition(kth, axis=axis, kind=kind, order=order)\n"
     ]
    },
    {
     "name": "stdout",
     "output_type": "stream",
     "text": [
      "\tMaking source segmap...\n",
      "\tFinding the background gradient...\n",
      "\tWorking on extension 4:\n"
     ]
    },
    {
     "name": "stderr",
     "output_type": "stream",
     "text": [
      "/Users/bsunnquist/miniconda3/envs/astroconda2020/lib/python3.6/site-packages/numpy/core/fromnumeric.py:746: UserWarning: Warning: 'partition' will ignore the 'mask' of the MaskedArray.\n",
      "  a.partition(kth, axis=axis, kind=kind, order=order)\n"
     ]
    },
    {
     "name": "stdout",
     "output_type": "stream",
     "text": [
      "\tMaking source segmap...\n",
      "\tFinding the background gradient...\n",
      "Finished removing background gradient from jdxfa9inq_flc.fits\n",
      "Working on jdxfa9hrq_flc.fits:\n",
      "\tWorking on extension 1:\n"
     ]
    },
    {
     "name": "stderr",
     "output_type": "stream",
     "text": [
      "/Users/bsunnquist/miniconda3/envs/astroconda2020/lib/python3.6/site-packages/numpy/core/fromnumeric.py:746: UserWarning: Warning: 'partition' will ignore the 'mask' of the MaskedArray.\n",
      "  a.partition(kth, axis=axis, kind=kind, order=order)\n"
     ]
    },
    {
     "name": "stdout",
     "output_type": "stream",
     "text": [
      "\tMaking source segmap...\n",
      "\tFinding the background gradient...\n",
      "\tWorking on extension 4:\n"
     ]
    },
    {
     "name": "stderr",
     "output_type": "stream",
     "text": [
      "/Users/bsunnquist/miniconda3/envs/astroconda2020/lib/python3.6/site-packages/numpy/core/fromnumeric.py:746: UserWarning: Warning: 'partition' will ignore the 'mask' of the MaskedArray.\n",
      "  a.partition(kth, axis=axis, kind=kind, order=order)\n"
     ]
    },
    {
     "name": "stdout",
     "output_type": "stream",
     "text": [
      "\tMaking source segmap...\n",
      "\tFinding the background gradient...\n",
      "Finished removing background gradient from jdxfa9hrq_flc.fits\n",
      "Working on jdxfa9hxq_flc.fits:\n",
      "\tWorking on extension 1:\n"
     ]
    },
    {
     "name": "stderr",
     "output_type": "stream",
     "text": [
      "/Users/bsunnquist/miniconda3/envs/astroconda2020/lib/python3.6/site-packages/numpy/core/fromnumeric.py:746: UserWarning: Warning: 'partition' will ignore the 'mask' of the MaskedArray.\n",
      "  a.partition(kth, axis=axis, kind=kind, order=order)\n"
     ]
    },
    {
     "name": "stdout",
     "output_type": "stream",
     "text": [
      "\tMaking source segmap...\n",
      "\tFinding the background gradient...\n",
      "\tWorking on extension 4:\n"
     ]
    },
    {
     "name": "stderr",
     "output_type": "stream",
     "text": [
      "/Users/bsunnquist/miniconda3/envs/astroconda2020/lib/python3.6/site-packages/numpy/core/fromnumeric.py:746: UserWarning: Warning: 'partition' will ignore the 'mask' of the MaskedArray.\n",
      "  a.partition(kth, axis=axis, kind=kind, order=order)\n"
     ]
    },
    {
     "name": "stdout",
     "output_type": "stream",
     "text": [
      "\tMaking source segmap...\n",
      "\tFinding the background gradient...\n",
      "Finished removing background gradient from jdxfa9hxq_flc.fits\n",
      "Working on jdxfa9iqq_flc.fits:\n",
      "\tWorking on extension 1:\n"
     ]
    },
    {
     "name": "stderr",
     "output_type": "stream",
     "text": [
      "/Users/bsunnquist/miniconda3/envs/astroconda2020/lib/python3.6/site-packages/numpy/core/fromnumeric.py:746: UserWarning: Warning: 'partition' will ignore the 'mask' of the MaskedArray.\n",
      "  a.partition(kth, axis=axis, kind=kind, order=order)\n"
     ]
    },
    {
     "name": "stdout",
     "output_type": "stream",
     "text": [
      "\tMaking source segmap...\n",
      "\tFinding the background gradient...\n",
      "\tWorking on extension 4:\n"
     ]
    },
    {
     "name": "stderr",
     "output_type": "stream",
     "text": [
      "/Users/bsunnquist/miniconda3/envs/astroconda2020/lib/python3.6/site-packages/numpy/core/fromnumeric.py:746: UserWarning: Warning: 'partition' will ignore the 'mask' of the MaskedArray.\n",
      "  a.partition(kth, axis=axis, kind=kind, order=order)\n"
     ]
    },
    {
     "name": "stdout",
     "output_type": "stream",
     "text": [
      "\tMaking source segmap...\n",
      "\tFinding the background gradient...\n",
      "Finished removing background gradient from jdxfa9iqq_flc.fits\n"
     ]
    }
   ],
   "source": [
    "# Removes large-scale background gradients from the input flc files\n",
    "\n",
    "from astropy.convolution import Gaussian2DKernel\n",
    "from astropy.io import fits\n",
    "from astropy.stats import gaussian_fwhm_to_sigma, SigmaClip, sigma_clip\n",
    "import glob\n",
    "import numpy as np\n",
    "from photutils import Background2D, detect_sources, detect_threshold, MedianBackground\n",
    "\n",
    "################################# USER INPUTS #################################\n",
    "\n",
    "# The files to remove the background gradient from\n",
    "files = glob.glob('./test_feb2021_orig_code/*flc.fits')\n",
    "\n",
    "# The box size to use when creating the 2D background image\n",
    "box_size = (128, 128)\n",
    "\n",
    "# Option to mask sources when finding the background gradient\n",
    "mask_sources = True\n",
    "\n",
    "###############################################################################\n",
    "\n",
    "for f in files:\n",
    "    basename = os.path.basename(f)\n",
    "    print('Working on {}:'.format(basename))\n",
    "    h = fits.open(f)\n",
    "    for ext in [1,4]:\n",
    "        print('\\tWorking on extension {}:'.format(ext))\n",
    "        data_orig = np.copy(h[ext].data)\n",
    "        data = h[ext].data\n",
    "\n",
    "        # Subtract off median\n",
    "        clipped = sigma_clip(data, sigma=3, maxiters=5)\n",
    "        data = data - np.nanmedian(clipped)\n",
    "\n",
    "        # Find sources in the gradient-removed image\n",
    "        if mask_sources:\n",
    "            print('\\tMaking source segmap...')\n",
    "            s = SigmaClip(sigma=3.)\n",
    "            bkg_estimator = MedianBackground()\n",
    "            bkg = Background2D(data, box_size=box_size, filter_size=(10, 10), \n",
    "                               sigma_clip=s, bkg_estimator=bkg_estimator)\n",
    "            skydark = bkg.background\n",
    "            data_flat = data_orig - skydark\n",
    "            threshold = detect_threshold(data_flat, nsigma=1.0)\n",
    "            sigma = 3.0 * gaussian_fwhm_to_sigma\n",
    "            kernel = Gaussian2DKernel(sigma, x_size=3, y_size=3)\n",
    "            kernel.normalize()\n",
    "            segm = detect_sources(data_flat, threshold, npixels=5, filter_kernel=kernel)\n",
    "            segmap = segm.data\n",
    "            fits.writeto(f.replace('_flc.fits', '_segmap_ext{}.fits'.format(ext)), \n",
    "                         segmap, overwrite=True)\n",
    "        else:\n",
    "            segmap = np.zeros(data.shape).astype(int)\n",
    "        \n",
    "        # Find the background gradient, incorporating the source mask\n",
    "        print('\\tFinding the background gradient...')\n",
    "        s = SigmaClip(sigma=3.)\n",
    "        bkg_estimator = MedianBackground()\n",
    "        mask = (segmap > 0)\n",
    "        bkg = Background2D(data, box_size=box_size, filter_size=(10, 10), \n",
    "                           sigma_clip=s, bkg_estimator=bkg_estimator, mask=mask)\n",
    "        skydark = bkg.background\n",
    "        fits.writeto(f.replace('_flc.fits', '_bkg_ext{}.fits'.format(ext)), \n",
    "                     skydark, overwrite=True)\n",
    "\n",
    "        # Subtract the background gradient from the original image\n",
    "        data_new = data_orig - skydark\n",
    "        h[ext].data = data_new.astype('float32')\n",
    "\n",
    "    h.writeto(f, overwrite=True)\n",
    "    h.close()\n",
    "    print('Finished removing background gradient from {}'.format(basename))\n"
   ]
  },
  {
   "cell_type": "code",
   "execution_count": null,
   "metadata": {},
   "outputs": [],
   "source": []
  },
  {
   "cell_type": "code",
   "execution_count": 129,
   "metadata": {},
   "outputs": [
    {
     "name": "stdout",
     "output_type": "stream",
     "text": [
      "STEP 1: Removing 2D gradients from input FLCs...\n",
      "Working on jdxfa9i0q_flc.fits:\n",
      "\tWorking on extension 1:\n",
      "\tMaking source segmap...\n",
      "\tFinding the background gradient...\n",
      "\tWorking on extension 4:\n",
      "\tMaking source segmap...\n",
      "\tFinding the background gradient...\n",
      "Finished removing background gradient from jdxfa9i0q_flc.fits\n",
      "Working on jdxfa9iaq_flc.fits:\n",
      "\tWorking on extension 1:\n",
      "\tMaking source segmap...\n",
      "\tFinding the background gradient...\n",
      "\tWorking on extension 4:\n",
      "\tMaking source segmap...\n",
      "\tFinding the background gradient...\n",
      "Finished removing background gradient from jdxfa9iaq_flc.fits\n",
      "Working on jdxfa9hoq_flc.fits:\n",
      "\tWorking on extension 1:\n",
      "\tMaking source segmap...\n",
      "\tFinding the background gradient...\n",
      "\tWorking on extension 4:\n",
      "\tMaking source segmap...\n",
      "\tFinding the background gradient...\n",
      "Finished removing background gradient from jdxfa9hoq_flc.fits\n",
      "Working on jdxfa9ikq_flc.fits:\n",
      "\tWorking on extension 1:\n",
      "\tMaking source segmap...\n",
      "\tFinding the background gradient...\n",
      "\tWorking on extension 4:\n",
      "\tMaking source segmap...\n",
      "\tFinding the background gradient...\n",
      "Finished removing background gradient from jdxfa9ikq_flc.fits\n",
      "Working on jdxfa9i7q_flc.fits:\n",
      "\tWorking on extension 1:\n",
      "\tMaking source segmap...\n",
      "\tFinding the background gradient...\n",
      "\tWorking on extension 4:\n",
      "\tMaking source segmap...\n",
      "\tFinding the background gradient...\n",
      "Finished removing background gradient from jdxfa9i7q_flc.fits\n",
      "Working on jdxfa9isq_flc.fits:\n",
      "\tWorking on extension 1:\n",
      "\tMaking source segmap...\n",
      "\tFinding the background gradient...\n",
      "\tWorking on extension 4:\n",
      "\tMaking source segmap...\n",
      "\tFinding the background gradient...\n",
      "Finished removing background gradient from jdxfa9isq_flc.fits\n",
      "Working on jdxfa9ihq_flc.fits:\n",
      "\tWorking on extension 1:\n",
      "\tMaking source segmap...\n",
      "\tFinding the background gradient...\n",
      "\tWorking on extension 4:\n",
      "\tMaking source segmap...\n",
      "\tFinding the background gradient...\n",
      "Finished removing background gradient from jdxfa9ihq_flc.fits\n",
      "Working on jdxfa9ieq_flc.fits:\n",
      "\tWorking on extension 1:\n",
      "\tMaking source segmap...\n",
      "\tFinding the background gradient...\n",
      "\tWorking on extension 4:\n",
      "\tMaking source segmap...\n",
      "\tFinding the background gradient...\n",
      "Finished removing background gradient from jdxfa9ieq_flc.fits\n",
      "Working on jdxfa9inq_flc.fits:\n",
      "\tWorking on extension 1:\n",
      "\tMaking source segmap...\n",
      "\tFinding the background gradient...\n",
      "\tWorking on extension 4:\n",
      "\tMaking source segmap...\n",
      "\tFinding the background gradient...\n",
      "Finished removing background gradient from jdxfa9inq_flc.fits\n",
      "Working on jdxfa9hrq_flc.fits:\n",
      "\tWorking on extension 1:\n",
      "\tMaking source segmap...\n",
      "\tFinding the background gradient...\n",
      "\tWorking on extension 4:\n",
      "\tMaking source segmap...\n",
      "\tFinding the background gradient...\n",
      "Finished removing background gradient from jdxfa9hrq_flc.fits\n",
      "Working on jdxfa9hxq_flc.fits:\n",
      "\tWorking on extension 1:\n",
      "\tMaking source segmap...\n",
      "\tFinding the background gradient...\n",
      "\tWorking on extension 4:\n",
      "\tMaking source segmap...\n",
      "\tFinding the background gradient...\n",
      "Finished removing background gradient from jdxfa9hxq_flc.fits\n",
      "Working on jdxfa9iqq_flc.fits:\n",
      "\tWorking on extension 1:\n",
      "\tMaking source segmap...\n",
      "\tFinding the background gradient...\n",
      "\tWorking on extension 4:\n",
      "\tMaking source segmap...\n",
      "\tFinding the background gradient...\n",
      "Finished removing background gradient from jdxfa9iqq_flc.fits\n",
      "\n",
      "STEP 2: Equalizing overall backgroud levels in input FLCs...\n",
      "Working on jdxfa9i0q_flc.fits:\n"
     ]
    },
    {
     "name": "stderr",
     "output_type": "stream",
     "text": [
      "WARNING: Input data contains invalid values (NaNs or infs), which were automatically clipped. [astropy.stats.sigma_clipping]\n"
     ]
    },
    {
     "name": "stdout",
     "output_type": "stream",
     "text": [
      "\tBackground in ext 1 = 71.18622\n"
     ]
    },
    {
     "name": "stderr",
     "output_type": "stream",
     "text": [
      "WARNING: Input data contains invalid values (NaNs or infs), which were automatically clipped. [astropy.stats.sigma_clipping]\n"
     ]
    },
    {
     "name": "stdout",
     "output_type": "stream",
     "text": [
      "\tBackground in ext 4 = 70.67460\n",
      "Finished equalizing background levels between chips in jdxfa9i0q_flc.fits\n",
      "Working on jdxfa9iaq_flc.fits:\n"
     ]
    },
    {
     "name": "stderr",
     "output_type": "stream",
     "text": [
      "WARNING: Input data contains invalid values (NaNs or infs), which were automatically clipped. [astropy.stats.sigma_clipping]\n"
     ]
    },
    {
     "name": "stdout",
     "output_type": "stream",
     "text": [
      "\tBackground in ext 1 = 17.14062\n"
     ]
    },
    {
     "name": "stderr",
     "output_type": "stream",
     "text": [
      "WARNING: Input data contains invalid values (NaNs or infs), which were automatically clipped. [astropy.stats.sigma_clipping]\n"
     ]
    },
    {
     "name": "stdout",
     "output_type": "stream",
     "text": [
      "\tBackground in ext 4 = 16.84923\n",
      "Finished equalizing background levels between chips in jdxfa9iaq_flc.fits\n",
      "Working on jdxfa9hoq_flc.fits:\n"
     ]
    },
    {
     "name": "stderr",
     "output_type": "stream",
     "text": [
      "WARNING: Input data contains invalid values (NaNs or infs), which were automatically clipped. [astropy.stats.sigma_clipping]\n"
     ]
    },
    {
     "name": "stdout",
     "output_type": "stream",
     "text": [
      "\tBackground in ext 1 = 13.53846\n"
     ]
    },
    {
     "name": "stderr",
     "output_type": "stream",
     "text": [
      "WARNING: Input data contains invalid values (NaNs or infs), which were automatically clipped. [astropy.stats.sigma_clipping]\n"
     ]
    },
    {
     "name": "stdout",
     "output_type": "stream",
     "text": [
      "\tBackground in ext 4 = 13.33498\n",
      "Finished equalizing background levels between chips in jdxfa9hoq_flc.fits\n",
      "Working on jdxfa9ikq_flc.fits:\n"
     ]
    },
    {
     "name": "stderr",
     "output_type": "stream",
     "text": [
      "WARNING: Input data contains invalid values (NaNs or infs), which were automatically clipped. [astropy.stats.sigma_clipping]\n"
     ]
    },
    {
     "name": "stdout",
     "output_type": "stream",
     "text": [
      "\tBackground in ext 1 = 62.53671\n"
     ]
    },
    {
     "name": "stderr",
     "output_type": "stream",
     "text": [
      "WARNING: Input data contains invalid values (NaNs or infs), which were automatically clipped. [astropy.stats.sigma_clipping]\n"
     ]
    },
    {
     "name": "stdout",
     "output_type": "stream",
     "text": [
      "\tBackground in ext 4 = 61.62503\n",
      "Finished equalizing background levels between chips in jdxfa9ikq_flc.fits\n",
      "Working on jdxfa9i7q_flc.fits:\n"
     ]
    },
    {
     "name": "stderr",
     "output_type": "stream",
     "text": [
      "WARNING: Input data contains invalid values (NaNs or infs), which were automatically clipped. [astropy.stats.sigma_clipping]\n"
     ]
    },
    {
     "name": "stdout",
     "output_type": "stream",
     "text": [
      "\tBackground in ext 1 = 35.40672\n"
     ]
    },
    {
     "name": "stderr",
     "output_type": "stream",
     "text": [
      "WARNING: Input data contains invalid values (NaNs or infs), which were automatically clipped. [astropy.stats.sigma_clipping]\n"
     ]
    },
    {
     "name": "stdout",
     "output_type": "stream",
     "text": [
      "\tBackground in ext 4 = 34.96312\n",
      "Finished equalizing background levels between chips in jdxfa9i7q_flc.fits\n",
      "Working on jdxfa9isq_flc.fits:\n"
     ]
    },
    {
     "name": "stderr",
     "output_type": "stream",
     "text": [
      "WARNING: Input data contains invalid values (NaNs or infs), which were automatically clipped. [astropy.stats.sigma_clipping]\n"
     ]
    },
    {
     "name": "stdout",
     "output_type": "stream",
     "text": [
      "\tBackground in ext 1 = 30.71472\n"
     ]
    },
    {
     "name": "stderr",
     "output_type": "stream",
     "text": [
      "WARNING: Input data contains invalid values (NaNs or infs), which were automatically clipped. [astropy.stats.sigma_clipping]\n"
     ]
    },
    {
     "name": "stdout",
     "output_type": "stream",
     "text": [
      "\tBackground in ext 4 = 30.37632\n",
      "Finished equalizing background levels between chips in jdxfa9isq_flc.fits\n",
      "Working on jdxfa9ihq_flc.fits:\n"
     ]
    },
    {
     "name": "stderr",
     "output_type": "stream",
     "text": [
      "WARNING: Input data contains invalid values (NaNs or infs), which were automatically clipped. [astropy.stats.sigma_clipping]\n"
     ]
    },
    {
     "name": "stdout",
     "output_type": "stream",
     "text": [
      "\tBackground in ext 1 = 9.68675\n"
     ]
    },
    {
     "name": "stderr",
     "output_type": "stream",
     "text": [
      "WARNING: Input data contains invalid values (NaNs or infs), which were automatically clipped. [astropy.stats.sigma_clipping]\n"
     ]
    },
    {
     "name": "stdout",
     "output_type": "stream",
     "text": [
      "\tBackground in ext 4 = 9.64453\n",
      "Finished equalizing background levels between chips in jdxfa9ihq_flc.fits\n",
      "Working on jdxfa9ieq_flc.fits:\n"
     ]
    },
    {
     "name": "stderr",
     "output_type": "stream",
     "text": [
      "WARNING: Input data contains invalid values (NaNs or infs), which were automatically clipped. [astropy.stats.sigma_clipping]\n"
     ]
    },
    {
     "name": "stdout",
     "output_type": "stream",
     "text": [
      "\tBackground in ext 1 = 9.95506\n"
     ]
    },
    {
     "name": "stderr",
     "output_type": "stream",
     "text": [
      "WARNING: Input data contains invalid values (NaNs or infs), which were automatically clipped. [astropy.stats.sigma_clipping]\n"
     ]
    },
    {
     "name": "stdout",
     "output_type": "stream",
     "text": [
      "\tBackground in ext 4 = 9.83364\n",
      "Finished equalizing background levels between chips in jdxfa9ieq_flc.fits\n",
      "Working on jdxfa9inq_flc.fits:\n"
     ]
    },
    {
     "name": "stderr",
     "output_type": "stream",
     "text": [
      "WARNING: Input data contains invalid values (NaNs or infs), which were automatically clipped. [astropy.stats.sigma_clipping]\n"
     ]
    },
    {
     "name": "stdout",
     "output_type": "stream",
     "text": [
      "\tBackground in ext 1 = 227.07214\n"
     ]
    },
    {
     "name": "stderr",
     "output_type": "stream",
     "text": [
      "WARNING: Input data contains invalid values (NaNs or infs), which were automatically clipped. [astropy.stats.sigma_clipping]\n"
     ]
    },
    {
     "name": "stdout",
     "output_type": "stream",
     "text": [
      "\tBackground in ext 4 = 217.93314\n",
      "Finished equalizing background levels between chips in jdxfa9inq_flc.fits\n",
      "Working on jdxfa9hrq_flc.fits:\n"
     ]
    },
    {
     "name": "stderr",
     "output_type": "stream",
     "text": [
      "WARNING: Input data contains invalid values (NaNs or infs), which were automatically clipped. [astropy.stats.sigma_clipping]\n"
     ]
    },
    {
     "name": "stdout",
     "output_type": "stream",
     "text": [
      "\tBackground in ext 1 = 12.11603\n"
     ]
    },
    {
     "name": "stderr",
     "output_type": "stream",
     "text": [
      "WARNING: Input data contains invalid values (NaNs or infs), which were automatically clipped. [astropy.stats.sigma_clipping]\n"
     ]
    },
    {
     "name": "stdout",
     "output_type": "stream",
     "text": [
      "\tBackground in ext 4 = 11.94860\n",
      "Finished equalizing background levels between chips in jdxfa9hrq_flc.fits\n",
      "Working on jdxfa9hxq_flc.fits:\n"
     ]
    },
    {
     "name": "stderr",
     "output_type": "stream",
     "text": [
      "WARNING: Input data contains invalid values (NaNs or infs), which were automatically clipped. [astropy.stats.sigma_clipping]\n"
     ]
    },
    {
     "name": "stdout",
     "output_type": "stream",
     "text": [
      "\tBackground in ext 1 = 260.81134\n"
     ]
    },
    {
     "name": "stderr",
     "output_type": "stream",
     "text": [
      "WARNING: Input data contains invalid values (NaNs or infs), which were automatically clipped. [astropy.stats.sigma_clipping]\n"
     ]
    },
    {
     "name": "stdout",
     "output_type": "stream",
     "text": [
      "\tBackground in ext 4 = 252.19611\n",
      "Finished equalizing background levels between chips in jdxfa9hxq_flc.fits\n",
      "Working on jdxfa9iqq_flc.fits:\n"
     ]
    },
    {
     "name": "stderr",
     "output_type": "stream",
     "text": [
      "WARNING: Input data contains invalid values (NaNs or infs), which were automatically clipped. [astropy.stats.sigma_clipping]\n"
     ]
    },
    {
     "name": "stdout",
     "output_type": "stream",
     "text": [
      "\tBackground in ext 1 = 43.47594\n"
     ]
    },
    {
     "name": "stderr",
     "output_type": "stream",
     "text": [
      "WARNING: Input data contains invalid values (NaNs or infs), which were automatically clipped. [astropy.stats.sigma_clipping]\n"
     ]
    },
    {
     "name": "stdout",
     "output_type": "stream",
     "text": [
      "\tBackground in ext 4 = 42.94551\n",
      "Finished equalizing background levels between chips in jdxfa9iqq_flc.fits\n"
     ]
    }
   ],
   "source": [
    "# Removes large-scale background gradients from the input flc files, and equalizes the overall\n",
    "# background levels between chips\n",
    "\n",
    "from astropy.convolution import Gaussian2DKernel\n",
    "from astropy.io import fits\n",
    "from astropy.stats import gaussian_fwhm_to_sigma, SigmaClip, sigma_clip\n",
    "import glob\n",
    "import numpy as np\n",
    "from photutils import Background2D, detect_sources, detect_threshold, MedianBackground\n",
    "\n",
    "################################# USER INPUTS #################################\n",
    "\n",
    "# The files to remove the background gradient from\n",
    "files = glob.glob('./test_feb2021_new_code/*flc.fits')\n",
    "\n",
    "# The box size to use when creating the 2D background image\n",
    "box_size = (128, 128)\n",
    "\n",
    "# Option to mask sources when finding the background gradient/pedestal level\n",
    "mask_sources = True\n",
    "\n",
    "###############################################################################\n",
    "\n",
    "\n",
    "# STEP 1: Remove the large-scale 2D background gradient from each chip\n",
    "print('STEP 1: Removing 2D gradients from input FLCs...')\n",
    "for f in files:\n",
    "    basename = os.path.basename(f)\n",
    "    print('Working on {}:'.format(basename))\n",
    "    h = fits.open(f)\n",
    "    for ext in [1,4]:\n",
    "        print('\\tWorking on extension {}:'.format(ext))\n",
    "        data_orig = np.copy(h[ext].data)\n",
    "        data = h[ext].data\n",
    "\n",
    "        # Subtract off median\n",
    "        clipped = sigma_clip(data, sigma=3, maxiters=5)\n",
    "        data = data - np.nanmedian(clipped.data[clipped.mask==False])\n",
    "\n",
    "        # Find sources in the gradient-removed image\n",
    "        if mask_sources:\n",
    "            print('\\tMaking source segmap...')\n",
    "            s = SigmaClip(sigma=3.)\n",
    "            bkg_estimator = MedianBackground()\n",
    "            bkg = Background2D(data, box_size=box_size, filter_size=(10, 10), \n",
    "                               sigma_clip=s, bkg_estimator=bkg_estimator)\n",
    "            skydark = bkg.background\n",
    "            data_flat = data_orig - skydark\n",
    "            threshold = detect_threshold(data_flat, nsigma=1.0)\n",
    "            sigma = 3.0 * gaussian_fwhm_to_sigma\n",
    "            kernel = Gaussian2DKernel(sigma, x_size=3, y_size=3)\n",
    "            kernel.normalize()\n",
    "            segm = detect_sources(data_flat, threshold, npixels=5, filter_kernel=kernel)\n",
    "            segmap = segm.data\n",
    "            fits.writeto(f.replace('_flc.fits', '_segmap_ext{}.fits'.format(ext)), \n",
    "                         segmap, overwrite=True)\n",
    "        else:\n",
    "            segmap = np.zeros(data.shape).astype(int)\n",
    "        \n",
    "        # Find the background gradient, incorporating the source mask\n",
    "        print('\\tFinding the background gradient...')\n",
    "        s = SigmaClip(sigma=3.)\n",
    "        bkg_estimator = MedianBackground()\n",
    "        mask = (segmap > 0)\n",
    "        bkg = Background2D(data, box_size=box_size, filter_size=(10, 10), \n",
    "                           sigma_clip=s, bkg_estimator=bkg_estimator, mask=mask)\n",
    "        skydark = bkg.background\n",
    "        fits.writeto(f.replace('_flc.fits', '_bkg_ext{}.fits'.format(ext)), \n",
    "                     skydark, overwrite=True)\n",
    "\n",
    "        # Subtract the background gradient from the original image\n",
    "        data_new = data_orig - skydark\n",
    "        h[ext].data = data_new.astype('float32')\n",
    "\n",
    "    h.writeto(f, overwrite=True)\n",
    "    h.close()\n",
    "    print('Finished removing background gradient from {}'.format(basename))\n",
    "    \n",
    "\n",
    "# STEP 2: equalize the overall background/pedestal level between chips\n",
    "print('\\nSTEP 2: Equalizing overall backgroud levels in the input FLCs...')\n",
    "for f in files:\n",
    "    basename = os.path.basename(f)\n",
    "    print('Working on {}:'.format(basename))\n",
    "    h = fits.open(f)\n",
    "    \n",
    "    # Find the overall background levels in each chip\n",
    "    background_levels = []\n",
    "    for ext in [1,4]:\n",
    "        data = np.copy(h[ext].data)\n",
    "        \n",
    "        # Mask sources using the previous segmap\n",
    "        if mask_sources:\n",
    "            segmap = fits.getdata(f.replace('_flc.fits', '_segmap_ext{}.fits'.format(ext)))\n",
    "        else:\n",
    "            segmap = np.zeros(data.shape).astype(int)\n",
    "        data[segmap > 0] = np.nan\n",
    "        \n",
    "        # Calculate the background level\n",
    "        clipped = sigma_clip(data, sigma=3, maxiters=5)\n",
    "        background_levels.append(np.nanmedian(clipped.data[clipped.mask==False]))\n",
    "        print('\\tBackground in ext {} = {:.5f}'.format(ext, np.nanmedian(clipped.data[clipped.mask==False])))\n",
    "        \n",
    "    # Equalize the background levels between chips to the lower of the two\n",
    "    background_levels = np.array(background_levels)\n",
    "    bkg_diff = abs(background_levels[0] - background_levels[1])\n",
    "    highest_idx = np.where(background_levels == max(background_levels))[0][0]\n",
    "    if highest_idx == 0:\n",
    "        ext_to_fix = 1\n",
    "    else:\n",
    "        ext_to_fix = 4\n",
    "    data_orig = np.copy(h[ext_to_fix].data)\n",
    "    data_new = data_orig - bkg_diff\n",
    "    h[ext_to_fix].data = data_new.astype('float32')\n",
    "    \n",
    "    # Write out the equalized file\n",
    "    h.writeto(f, overwrite=True)\n",
    "    h.close()\n",
    "    print('Finished equalizing background levels between chips in {}'.format(basename))\n"
   ]
  },
  {
   "cell_type": "code",
   "execution_count": null,
   "metadata": {},
   "outputs": [],
   "source": []
  },
  {
   "cell_type": "code",
   "execution_count": 137,
   "metadata": {},
   "outputs": [
    {
     "name": "stdout",
     "output_type": "stream",
     "text": [
      "Setting up logfile :  astrodrizzle.log\n",
      "AstroDrizzle Version 3.1.6 (2020-02-19 16:16:30 -0500) started at: 14:23:16.084 (02/02/2021)\n",
      "\n",
      "==== Processing Step  Initialization  started at  14:23:16.086 (02/02/2021)\n",
      "\n",
      "Preserving original of:  jdxfa9i0q_flc.fits as  OrIg_files/jdxfa9i0q_flc.fits\n",
      "Preserving original of:  jdxfa9iaq_flc.fits as  OrIg_files/jdxfa9iaq_flc.fits\n",
      "Preserving original of:  jdxfa9hoq_flc.fits as  OrIg_files/jdxfa9hoq_flc.fits\n",
      "Preserving original of:  jdxfa9ikq_flc.fits as  OrIg_files/jdxfa9ikq_flc.fits\n",
      "Preserving original of:  jdxfa9i7q_flc.fits as  OrIg_files/jdxfa9i7q_flc.fits\n",
      "Preserving original of:  jdxfa9isq_flc.fits as  OrIg_files/jdxfa9isq_flc.fits\n",
      "Preserving original of:  jdxfa9ihq_flc.fits as  OrIg_files/jdxfa9ihq_flc.fits\n",
      "Preserving original of:  jdxfa9ieq_flc.fits as  OrIg_files/jdxfa9ieq_flc.fits\n",
      "Preserving original of:  jdxfa9inq_flc.fits as  OrIg_files/jdxfa9inq_flc.fits\n",
      "Preserving original of:  jdxfa9hrq_flc.fits as  OrIg_files/jdxfa9hrq_flc.fits\n",
      "Preserving original of:  jdxfa9hxq_flc.fits as  OrIg_files/jdxfa9hxq_flc.fits\n",
      "Preserving original of:  jdxfa9iqq_flc.fits as  OrIg_files/jdxfa9iqq_flc.fits\n",
      "##############################################################################\n",
      "#                                                                            #\n",
      "# “minmed” is highly recommended for three images,                           #\n",
      "#  and is good for four to six images,                                       #\n",
      "#  but should be avoided for ten or more images.                             #\n",
      "#                                                                            #\n",
      "##############################################################################\n",
      "WCS Keywords\n",
      "\n",
      "Number of WCS axes: 2\n",
      "CTYPE : 'RA---TAN'  'DEC--TAN'  \n",
      "CRVAL : 189.1469847562453  62.293978429327  \n",
      "CRPIX : 2108.0  2122.5  \n",
      "CD1_1 CD1_2  : -1.3881105408369651e-05  4.649163469184382e-07  \n",
      "CD2_1 CD2_2  : 4.649163469184382e-07  1.3881105408369651e-05  \n",
      "NAXIS : 4216  4245\n",
      "********************************************************************************\n",
      "*\n",
      "*  Estimated memory usage:  up to 4301 Mb.\n",
      "*  Output image size:       4216 X 4245 pixels. \n",
      "*  Output image file:       ~ 204 Mb. \n",
      "*  Cores available:         16\n",
      "*\n",
      "********************************************************************************\n",
      "==== Processing Step Initialization finished at 14:23:22.325 (02/02/2021)\n",
      "==== Processing Step  Static Mask  started at  14:23:22.328 (02/02/2021)\n",
      "\n",
      "==== Processing Step Static Mask finished at 14:23:26.690 (02/02/2021)\n",
      "==== Processing Step  Subtract Sky  started at  14:23:26.69 (02/02/2021)\n",
      "\n",
      "***** skymatch started on 2021-02-02 14:23:27.755503\n",
      "      Version 1.0.5\n",
      "\n",
      "'skymatch' task will apply computed sky differences to input image file(s).\n",
      "\n",
      "NOTE: Computed sky values WILL NOT be subtracted from image data ('subtractsky'=False).\n",
      "'MDRIZSKY' header keyword will represent sky value *computed* from data.\n",
      "\n",
      "-----  User specified keywords:  -----\n",
      "       Sky Value Keyword:  'MDRIZSKY'\n",
      "       Data Units Keyword: 'BUNIT'\n",
      "\n",
      "\n",
      "-----  Input file list:  -----\n",
      "\n",
      "   **  Input image: 'jdxfa9i0q_flc.fits'\n",
      "       EXT: 'SCI',1;\tMASK: jdxfa9i0q_skymatch_mask_sci1.fits[0]\n",
      "       EXT: 'SCI',2;\tMASK: jdxfa9i0q_skymatch_mask_sci2.fits[0]\n",
      "\n",
      "   **  Input image: 'jdxfa9iaq_flc.fits'\n",
      "       EXT: 'SCI',1;\tMASK: jdxfa9iaq_skymatch_mask_sci1.fits[0]\n",
      "       EXT: 'SCI',2;\tMASK: jdxfa9iaq_skymatch_mask_sci2.fits[0]\n",
      "\n",
      "   **  Input image: 'jdxfa9hoq_flc.fits'\n",
      "       EXT: 'SCI',1;\tMASK: jdxfa9hoq_skymatch_mask_sci1.fits[0]\n",
      "       EXT: 'SCI',2;\tMASK: jdxfa9hoq_skymatch_mask_sci2.fits[0]\n",
      "\n",
      "   **  Input image: 'jdxfa9ikq_flc.fits'\n",
      "       EXT: 'SCI',1;\tMASK: jdxfa9ikq_skymatch_mask_sci1.fits[0]\n",
      "       EXT: 'SCI',2;\tMASK: jdxfa9ikq_skymatch_mask_sci2.fits[0]\n",
      "\n",
      "   **  Input image: 'jdxfa9i7q_flc.fits'\n",
      "       EXT: 'SCI',1;\tMASK: jdxfa9i7q_skymatch_mask_sci1.fits[0]\n",
      "       EXT: 'SCI',2;\tMASK: jdxfa9i7q_skymatch_mask_sci2.fits[0]\n",
      "\n",
      "   **  Input image: 'jdxfa9isq_flc.fits'\n",
      "       EXT: 'SCI',1;\tMASK: jdxfa9isq_skymatch_mask_sci1.fits[0]\n",
      "       EXT: 'SCI',2;\tMASK: jdxfa9isq_skymatch_mask_sci2.fits[0]\n",
      "\n",
      "   **  Input image: 'jdxfa9ihq_flc.fits'\n",
      "       EXT: 'SCI',1;\tMASK: jdxfa9ihq_skymatch_mask_sci1.fits[0]\n",
      "       EXT: 'SCI',2;\tMASK: jdxfa9ihq_skymatch_mask_sci2.fits[0]\n",
      "\n",
      "   **  Input image: 'jdxfa9ieq_flc.fits'\n",
      "       EXT: 'SCI',1;\tMASK: jdxfa9ieq_skymatch_mask_sci1.fits[0]\n",
      "       EXT: 'SCI',2;\tMASK: jdxfa9ieq_skymatch_mask_sci2.fits[0]\n",
      "\n",
      "   **  Input image: 'jdxfa9inq_flc.fits'\n",
      "       EXT: 'SCI',1;\tMASK: jdxfa9inq_skymatch_mask_sci1.fits[0]\n",
      "       EXT: 'SCI',2;\tMASK: jdxfa9inq_skymatch_mask_sci2.fits[0]\n",
      "\n",
      "   **  Input image: 'jdxfa9hrq_flc.fits'\n",
      "       EXT: 'SCI',1;\tMASK: jdxfa9hrq_skymatch_mask_sci1.fits[0]\n",
      "       EXT: 'SCI',2;\tMASK: jdxfa9hrq_skymatch_mask_sci2.fits[0]\n",
      "\n",
      "   **  Input image: 'jdxfa9hxq_flc.fits'\n",
      "       EXT: 'SCI',1;\tMASK: jdxfa9hxq_skymatch_mask_sci1.fits[0]\n",
      "       EXT: 'SCI',2;\tMASK: jdxfa9hxq_skymatch_mask_sci2.fits[0]\n",
      "\n",
      "   **  Input image: 'jdxfa9iqq_flc.fits'\n",
      "       EXT: 'SCI',1;\tMASK: jdxfa9iqq_skymatch_mask_sci1.fits[0]\n",
      "       EXT: 'SCI',2;\tMASK: jdxfa9iqq_skymatch_mask_sci2.fits[0]\n",
      "\n",
      "-----  Sky statistics parameters:  -----\n",
      "       statistics function: 'median'\n",
      "       lower = None\n",
      "       upper = None\n",
      "       nclip = 5\n",
      "       lsigma = 4.0\n",
      "       usigma = 4.0\n",
      "       binwidth = 0.1\n",
      "\n",
      "-----  Data->Brightness conversion parameters for input files:  -----\n",
      "\n",
      "   *   Image: jdxfa9i0q_flc.fits\n",
      "       EXT = 'SCI',1\n",
      "             Data units type: COUNTS\n",
      "             EXPTIME: 800.0 [s]\n",
      "             Conversion factor (data->brightness):  0.49999999999999994\n",
      "       EXT = 'SCI',2\n",
      "             Data units type: COUNTS\n",
      "             EXPTIME: 800.0 [s]\n",
      "             Conversion factor (data->brightness):  0.49999999999999994\n",
      "\n",
      "   *   Image: jdxfa9iaq_flc.fits\n",
      "       EXT = 'SCI',1\n",
      "             Data units type: COUNTS\n",
      "             EXPTIME: 799.0 [s]\n",
      "             Conversion factor (data->brightness):  0.5006257822277846\n",
      "       EXT = 'SCI',2\n",
      "             Data units type: COUNTS\n",
      "             EXPTIME: 799.0 [s]\n",
      "             Conversion factor (data->brightness):  0.5006257822277846\n",
      "\n",
      "   *   Image: jdxfa9hoq_flc.fits\n",
      "       EXT = 'SCI',1\n",
      "             Data units type: COUNTS\n",
      "             EXPTIME: 773.0 [s]\n",
      "             Conversion factor (data->brightness):  0.5174644243208278\n",
      "       EXT = 'SCI',2\n",
      "             Data units type: COUNTS\n",
      "             EXPTIME: 773.0 [s]\n",
      "             Conversion factor (data->brightness):  0.5174644243208278\n",
      "\n",
      "   *   Image: jdxfa9ikq_flc.fits\n",
      "       EXT = 'SCI',1\n",
      "             Data units type: COUNTS\n",
      "             EXPTIME: 635.0 [s]\n",
      "             Conversion factor (data->brightness):  0.6299212598425196\n",
      "       EXT = 'SCI',2\n",
      "             Data units type: COUNTS\n",
      "             EXPTIME: 635.0 [s]\n",
      "             Conversion factor (data->brightness):  0.6299212598425196\n",
      "\n",
      "   *   Image: jdxfa9i7q_flc.fits\n",
      "       EXT = 'SCI',1\n",
      "             Data units type: COUNTS\n",
      "             EXPTIME: 799.0 [s]\n",
      "             Conversion factor (data->brightness):  0.5006257822277846\n",
      "       EXT = 'SCI',2\n",
      "             Data units type: COUNTS\n",
      "             EXPTIME: 799.0 [s]\n",
      "             Conversion factor (data->brightness):  0.5006257822277846\n",
      "\n",
      "   *   Image: jdxfa9isq_flc.fits\n",
      "       EXT = 'SCI',1\n",
      "             Data units type: COUNTS\n",
      "             EXPTIME: 645.0 [s]\n",
      "             Conversion factor (data->brightness):  0.6201550387596898\n",
      "       EXT = 'SCI',2\n",
      "             Data units type: COUNTS\n",
      "             EXPTIME: 645.0 [s]\n",
      "             Conversion factor (data->brightness):  0.6201550387596898\n",
      "\n",
      "   *   Image: jdxfa9ihq_flc.fits\n",
      "       EXT = 'SCI',1\n",
      "             Data units type: COUNTS\n",
      "             EXPTIME: 635.0 [s]\n",
      "             Conversion factor (data->brightness):  0.6299212598425196\n",
      "       EXT = 'SCI',2\n",
      "             Data units type: COUNTS\n",
      "             EXPTIME: 635.0 [s]\n",
      "             Conversion factor (data->brightness):  0.6299212598425196\n",
      "\n",
      "   *   Image: jdxfa9ieq_flc.fits\n",
      "       EXT = 'SCI',1\n",
      "             Data units type: COUNTS\n",
      "             EXPTIME: 635.0 [s]\n",
      "             Conversion factor (data->brightness):  0.6299212598425196\n",
      "       EXT = 'SCI',2\n",
      "             Data units type: COUNTS\n",
      "             EXPTIME: 635.0 [s]\n",
      "             Conversion factor (data->brightness):  0.6299212598425196\n"
     ]
    },
    {
     "name": "stdout",
     "output_type": "stream",
     "text": [
      "\n",
      "   *   Image: jdxfa9inq_flc.fits\n",
      "       EXT = 'SCI',1\n",
      "             Data units type: COUNTS\n",
      "             EXPTIME: 635.0 [s]\n",
      "             Conversion factor (data->brightness):  0.6299212598425196\n",
      "       EXT = 'SCI',2\n",
      "             Data units type: COUNTS\n",
      "             EXPTIME: 635.0 [s]\n",
      "             Conversion factor (data->brightness):  0.6299212598425196\n",
      "\n",
      "   *   Image: jdxfa9hrq_flc.fits\n",
      "       EXT = 'SCI',1\n",
      "             Data units type: COUNTS\n",
      "             EXPTIME: 773.0 [s]\n",
      "             Conversion factor (data->brightness):  0.5174644243208278\n",
      "       EXT = 'SCI',2\n",
      "             Data units type: COUNTS\n",
      "             EXPTIME: 773.0 [s]\n",
      "             Conversion factor (data->brightness):  0.5174644243208278\n",
      "\n",
      "   *   Image: jdxfa9hxq_flc.fits\n",
      "       EXT = 'SCI',1\n",
      "             Data units type: COUNTS\n",
      "             EXPTIME: 800.0 [s]\n",
      "             Conversion factor (data->brightness):  0.49999999999999994\n",
      "       EXT = 'SCI',2\n",
      "             Data units type: COUNTS\n",
      "             EXPTIME: 800.0 [s]\n",
      "             Conversion factor (data->brightness):  0.49999999999999994\n",
      "\n",
      "   *   Image: jdxfa9iqq_flc.fits\n",
      "       EXT = 'SCI',1\n",
      "             Data units type: COUNTS\n",
      "             EXPTIME: 645.0 [s]\n",
      "             Conversion factor (data->brightness):  0.6201550387596898\n",
      "       EXT = 'SCI',2\n",
      "             Data units type: COUNTS\n",
      "             EXPTIME: 645.0 [s]\n",
      "             Conversion factor (data->brightness):  0.6201550387596898\n",
      "\n",
      "\n",
      "-----  Computing sky values requested image extensions (detector chips):  -----\n",
      "\n",
      "   *   Image:   'jdxfa9i0q_flc.fits['SCI',1,2]'  --  SKY = 35.22000122070312 (brightness units)\n",
      "       Sky change (data units):\n",
      "      - EXT = 'SCI',1   delta(MDRIZSKY) = 70.44   NEW MDRIZSKY = 70.44\n",
      "      - EXT = 'SCI',2   delta(MDRIZSKY) = 70.44   NEW MDRIZSKY = 70.44\n",
      "   *   Image:   'jdxfa9iaq_flc.fits['SCI',1,2]'  --  SKY = 8.580540357453652 (brightness units)\n",
      "       Sky change (data units):\n",
      "      - EXT = 'SCI',1   delta(MDRIZSKY) = 17.1396   NEW MDRIZSKY = 17.1396\n",
      "      - EXT = 'SCI',2   delta(MDRIZSKY) = 17.1396   NEW MDRIZSKY = 17.1396\n",
      "   *   Image:   'jdxfa9hoq_flc.fits['SCI',1,2]'  --  SKY = 7.05486460459957 (brightness units)\n",
      "       Sky change (data units):\n",
      "      - EXT = 'SCI',1   delta(MDRIZSKY) = 13.6335   NEW MDRIZSKY = 13.6335\n",
      "      - EXT = 'SCI',2   delta(MDRIZSKY) = 13.6335   NEW MDRIZSKY = 13.6335\n",
      "   *   Image:   'jdxfa9ikq_flc.fits['SCI',1,2]'  --  SKY = 38.80678432194266 (brightness units)\n",
      "       Sky change (data units):\n",
      "      - EXT = 'SCI',1   delta(MDRIZSKY) = 61.6058   NEW MDRIZSKY = 61.6058\n",
      "      - EXT = 'SCI',2   delta(MDRIZSKY) = 61.6058   NEW MDRIZSKY = 61.6058\n",
      "   *   Image:   'jdxfa9i7q_flc.fits['SCI',1,2]'  --  SKY = 17.645750654504653 (brightness units)\n",
      "       Sky change (data units):\n",
      "      - EXT = 'SCI',1   delta(MDRIZSKY) = 35.2474   NEW MDRIZSKY = 35.2474\n",
      "      - EXT = 'SCI',2   delta(MDRIZSKY) = 35.2474   NEW MDRIZSKY = 35.2474\n",
      "   *   Image:   'jdxfa9isq_flc.fits['SCI',1,2]'  --  SKY = 19.00822602501211 (brightness units)\n",
      "       Sky change (data units):\n",
      "      - EXT = 'SCI',1   delta(MDRIZSKY) = 30.6508   NEW MDRIZSKY = 30.6508\n",
      "      - EXT = 'SCI',2   delta(MDRIZSKY) = 30.6508   NEW MDRIZSKY = 30.6508\n",
      "   *   Image:   'jdxfa9ihq_flc.fits['SCI',1,2]'  --  SKY = 6.2406464824526315 (brightness units)\n",
      "       Sky change (data units):\n",
      "      - EXT = 'SCI',1   delta(MDRIZSKY) = 9.90703   NEW MDRIZSKY = 9.90703\n",
      "      - EXT = 'SCI',2   delta(MDRIZSKY) = 9.90703   NEW MDRIZSKY = 9.90703\n",
      "   *   Image:   'jdxfa9ieq_flc.fits['SCI',1,2]'  --  SKY = 6.380067359744094 (brightness units)\n",
      "       Sky change (data units):\n",
      "      - EXT = 'SCI',1   delta(MDRIZSKY) = 10.1284   NEW MDRIZSKY = 10.1284\n",
      "      - EXT = 'SCI',2   delta(MDRIZSKY) = 10.1284   NEW MDRIZSKY = 10.1284\n",
      "   *   Image:   'jdxfa9inq_flc.fits['SCI',1,2]'  --  SKY = 137.56397637795274 (brightness units)\n",
      "       Sky change (data units):\n",
      "      - EXT = 'SCI',1   delta(MDRIZSKY) = 218.383   NEW MDRIZSKY = 218.383\n",
      "      - EXT = 'SCI',2   delta(MDRIZSKY) = 218.383   NEW MDRIZSKY = 218.383\n",
      "   *   Image:   'jdxfa9hrq_flc.fits['SCI',1,2]'  --  SKY = 6.328678994715444 (brightness units)\n",
      "       Sky change (data units):\n",
      "      - EXT = 'SCI',1   delta(MDRIZSKY) = 12.2302   NEW MDRIZSKY = 12.2302\n",
      "      - EXT = 'SCI',2   delta(MDRIZSKY) = 12.2302   NEW MDRIZSKY = 12.2302\n",
      "   *   Image:   'jdxfa9hxq_flc.fits['SCI',1,2]'  --  SKY = 126.33953857421874 (brightness units)\n",
      "       Sky change (data units):\n",
      "      - EXT = 'SCI',1   delta(MDRIZSKY) = 252.679   NEW MDRIZSKY = 252.679\n",
      "      - EXT = 'SCI',2   delta(MDRIZSKY) = 252.679   NEW MDRIZSKY = 252.679\n",
      "   *   Image:   'jdxfa9iqq_flc.fits['SCI',1,2]'  --  SKY = 26.84335634689922 (brightness units)\n",
      "       Sky change (data units):\n",
      "      - EXT = 'SCI',1   delta(MDRIZSKY) = 43.2849   NEW MDRIZSKY = 43.2849\n",
      "      - EXT = 'SCI',2   delta(MDRIZSKY) = 43.2849   NEW MDRIZSKY = 43.2849\n",
      "***** skymatch ended on 2021-02-02 14:23:36.060621\n",
      "TOTAL RUN TIME: 0:00:08.305118\n",
      "==== Processing Step Subtract Sky finished at 14:23:37.218 (02/02/2021)\n",
      "==== Processing Step  Separate Drizzle  started at  14:23:37.219 (02/02/2021)\n",
      "\n",
      "WCS Keywords\n",
      "\n",
      "Number of WCS axes: 2\n",
      "CTYPE : 'RA---TAN'  'DEC--TAN'  \n",
      "CRVAL : 189.1469847562453  62.293978429327  \n",
      "CRPIX : 2108.0  2122.5  \n",
      "CD1_1 CD1_2  : -1.3881105408369651e-05  4.649163469184382e-07  \n",
      "CD2_1 CD2_2  : 4.649163469184382e-07  1.3881105408369651e-05  \n",
      "NAXIS : 4216  4245\n",
      "-Generating simple FITS output: jdxfa9hoq_single_sci.fits\n",
      "-Generating simple FITS output: jdxfa9hrq_single_sci.fits\n",
      "-Generating simple FITS output: jdxfa9i0q_single_sci.fits\n",
      "-Generating simple FITS output: jdxfa9ihq_single_sci.fits\n",
      "-Generating simple FITS output: jdxfa9iaq_single_sci.fits\n",
      "-Generating simple FITS output: jdxfa9ikq_single_sci.fits\n",
      "-Generating simple FITS output: jdxfa9i7q_single_sci.fits\n",
      "-Generating simple FITS output: jdxfa9isq_single_sci.fits\n",
      "-Generating simple FITS output: jdxfa9inq_single_sci.fits\n",
      "-Generating simple FITS output: jdxfa9ieq_single_sci.fits\n",
      "-Generating simple FITS output: jdxfa9iqq_single_sci.fits\n",
      "-Generating simple FITS output: jdxfa9hxq_single_sci.fits\n",
      "Writing out image to disk: jdxfa9hoq_single_sci.fits\n",
      "Writing out image to disk: jdxfa9ikq_single_sci.fits\n",
      "Writing out image to disk: jdxfa9i0q_single_sci.fits\n",
      "Writing out image to disk: jdxfa9hrq_single_sci.fits\n",
      "Writing out image to disk: jdxfa9ihq_single_sci.fits\n",
      "Writing out image to disk: jdxfa9iaq_single_sci.fits\n",
      "Writing out image to disk: jdxfa9i7q_single_sci.fits\n",
      "Writing out image to disk: jdxfa9inq_single_sci.fits\n",
      "Writing out image to disk: jdxfa9isq_single_sci.fits\n",
      "Writing out image to disk: jdxfa9ieq_single_sci.fits\n",
      "Writing out image to disk: jdxfa9hxq_single_sci.fits\n",
      "Writing out image to disk: jdxfa9iqq_single_sci.fits\n",
      "Writing out image to disk: jdxfa9hoq_single_wht.fits\n",
      "Writing out image to disk: jdxfa9ikq_single_wht.fits\n",
      "Writing out image to disk: jdxfa9i0q_single_wht.fits\n",
      "Writing out image to disk: jdxfa9ihq_single_wht.fits\n",
      "Writing out image to disk: jdxfa9hrq_single_wht.fits\n",
      "Writing out image to disk: jdxfa9i7q_single_wht.fits\n",
      "Writing out image to disk: jdxfa9inq_single_wht.fits\n",
      "Writing out image to disk: jdxfa9iaq_single_wht.fits\n",
      "Writing out image to disk: jdxfa9isq_single_wht.fits\n",
      "Writing out image to disk: jdxfa9ieq_single_wht.fits\n",
      "Writing out image to disk: jdxfa9iqq_single_wht.fits\n",
      "Writing out image to disk: jdxfa9hxq_single_wht.fits\n",
      "==== Processing Step Separate Drizzle finished at 14:23:43.637 (02/02/2021)\n",
      "==== Processing Step  Create Median  started at  14:23:43.643 (02/02/2021)\n",
      "\n",
      "reference sky value for image 'jdxfa9i0q_flc.fits' is 70.44000244140625\n",
      "reference sky value for image 'jdxfa9iaq_flc.fits' is 17.139629364013672\n",
      "reference sky value for image 'jdxfa9hoq_flc.fits' is 13.633525848388672\n",
      "reference sky value for image 'jdxfa9ikq_flc.fits' is 61.605770111083984\n",
      "reference sky value for image 'jdxfa9i7q_flc.fits' is 35.24738693237305\n",
      "reference sky value for image 'jdxfa9isq_flc.fits' is 30.650764465332035\n",
      "reference sky value for image 'jdxfa9ihq_flc.fits' is 9.907026290893555\n",
      "reference sky value for image 'jdxfa9ieq_flc.fits' is 10.12835693359375\n",
      "reference sky value for image 'jdxfa9inq_flc.fits' is 218.38281250000003\n",
      "reference sky value for image 'jdxfa9hrq_flc.fits' is 12.230172157287598\n"
     ]
    },
    {
     "name": "stdout",
     "output_type": "stream",
     "text": [
      "reference sky value for image 'jdxfa9hxq_flc.fits' is 252.6790771484375\n",
      "reference sky value for image 'jdxfa9iqq_flc.fits' is 43.284912109375\n",
      "Saving output median image to: 'final_med.fits'\n",
      "==== Processing Step Create Median finished at 14:24:05.941 (02/02/2021)\n",
      "==== Processing Step  Blot  started at  14:24:05.942 (02/02/2021)\n",
      "\n",
      "    Blot: creating blotted image:  jdxfa9i0q_flc.fits[sci,1]\n",
      "Using default C-based coordinate transformation...\n",
      "-Generating simple FITS output: jdxfa9i0q_sci1_blt.fits\n",
      "Writing out image to disk: jdxfa9i0q_sci1_blt.fits\n",
      "    Blot: creating blotted image:  jdxfa9i0q_flc.fits[sci,2]\n",
      "Using default C-based coordinate transformation...\n",
      "-Generating simple FITS output: jdxfa9i0q_sci2_blt.fits\n",
      "Writing out image to disk: jdxfa9i0q_sci2_blt.fits\n",
      "    Blot: creating blotted image:  jdxfa9iaq_flc.fits[sci,1]\n",
      "Using default C-based coordinate transformation...\n",
      "-Generating simple FITS output: jdxfa9iaq_sci1_blt.fits\n",
      "Writing out image to disk: jdxfa9iaq_sci1_blt.fits\n",
      "    Blot: creating blotted image:  jdxfa9iaq_flc.fits[sci,2]\n",
      "Using default C-based coordinate transformation...\n",
      "-Generating simple FITS output: jdxfa9iaq_sci2_blt.fits\n",
      "Writing out image to disk: jdxfa9iaq_sci2_blt.fits\n",
      "    Blot: creating blotted image:  jdxfa9hoq_flc.fits[sci,1]\n",
      "Using default C-based coordinate transformation...\n",
      "-Generating simple FITS output: jdxfa9hoq_sci1_blt.fits\n",
      "Writing out image to disk: jdxfa9hoq_sci1_blt.fits\n",
      "    Blot: creating blotted image:  jdxfa9hoq_flc.fits[sci,2]\n",
      "Using default C-based coordinate transformation...\n",
      "-Generating simple FITS output: jdxfa9hoq_sci2_blt.fits\n",
      "Writing out image to disk: jdxfa9hoq_sci2_blt.fits\n",
      "    Blot: creating blotted image:  jdxfa9ikq_flc.fits[sci,1]\n",
      "Using default C-based coordinate transformation...\n",
      "-Generating simple FITS output: jdxfa9ikq_sci1_blt.fits\n",
      "Writing out image to disk: jdxfa9ikq_sci1_blt.fits\n",
      "    Blot: creating blotted image:  jdxfa9ikq_flc.fits[sci,2]\n",
      "Using default C-based coordinate transformation...\n",
      "-Generating simple FITS output: jdxfa9ikq_sci2_blt.fits\n",
      "Writing out image to disk: jdxfa9ikq_sci2_blt.fits\n",
      "    Blot: creating blotted image:  jdxfa9i7q_flc.fits[sci,1]\n",
      "Using default C-based coordinate transformation...\n",
      "-Generating simple FITS output: jdxfa9i7q_sci1_blt.fits\n",
      "Writing out image to disk: jdxfa9i7q_sci1_blt.fits\n",
      "    Blot: creating blotted image:  jdxfa9i7q_flc.fits[sci,2]\n",
      "Using default C-based coordinate transformation...\n",
      "-Generating simple FITS output: jdxfa9i7q_sci2_blt.fits\n",
      "Writing out image to disk: jdxfa9i7q_sci2_blt.fits\n",
      "    Blot: creating blotted image:  jdxfa9isq_flc.fits[sci,1]\n",
      "Using default C-based coordinate transformation...\n",
      "-Generating simple FITS output: jdxfa9isq_sci1_blt.fits\n",
      "Writing out image to disk: jdxfa9isq_sci1_blt.fits\n",
      "    Blot: creating blotted image:  jdxfa9isq_flc.fits[sci,2]\n",
      "Using default C-based coordinate transformation...\n",
      "-Generating simple FITS output: jdxfa9isq_sci2_blt.fits\n",
      "Writing out image to disk: jdxfa9isq_sci2_blt.fits\n",
      "    Blot: creating blotted image:  jdxfa9ihq_flc.fits[sci,1]\n",
      "Using default C-based coordinate transformation...\n",
      "-Generating simple FITS output: jdxfa9ihq_sci1_blt.fits\n",
      "Writing out image to disk: jdxfa9ihq_sci1_blt.fits\n",
      "    Blot: creating blotted image:  jdxfa9ihq_flc.fits[sci,2]\n",
      "Using default C-based coordinate transformation...\n",
      "-Generating simple FITS output: jdxfa9ihq_sci2_blt.fits\n",
      "Writing out image to disk: jdxfa9ihq_sci2_blt.fits\n",
      "    Blot: creating blotted image:  jdxfa9ieq_flc.fits[sci,1]\n",
      "Using default C-based coordinate transformation...\n",
      "-Generating simple FITS output: jdxfa9ieq_sci1_blt.fits\n",
      "Writing out image to disk: jdxfa9ieq_sci1_blt.fits\n",
      "    Blot: creating blotted image:  jdxfa9ieq_flc.fits[sci,2]\n",
      "Using default C-based coordinate transformation...\n",
      "-Generating simple FITS output: jdxfa9ieq_sci2_blt.fits\n",
      "Writing out image to disk: jdxfa9ieq_sci2_blt.fits\n",
      "    Blot: creating blotted image:  jdxfa9inq_flc.fits[sci,1]\n",
      "Using default C-based coordinate transformation...\n",
      "-Generating simple FITS output: jdxfa9inq_sci1_blt.fits\n",
      "Writing out image to disk: jdxfa9inq_sci1_blt.fits\n",
      "    Blot: creating blotted image:  jdxfa9inq_flc.fits[sci,2]\n",
      "Using default C-based coordinate transformation...\n",
      "-Generating simple FITS output: jdxfa9inq_sci2_blt.fits\n",
      "Writing out image to disk: jdxfa9inq_sci2_blt.fits\n",
      "    Blot: creating blotted image:  jdxfa9hrq_flc.fits[sci,1]\n",
      "Using default C-based coordinate transformation...\n",
      "-Generating simple FITS output: jdxfa9hrq_sci1_blt.fits\n",
      "Writing out image to disk: jdxfa9hrq_sci1_blt.fits\n",
      "    Blot: creating blotted image:  jdxfa9hrq_flc.fits[sci,2]\n",
      "Using default C-based coordinate transformation...\n",
      "-Generating simple FITS output: jdxfa9hrq_sci2_blt.fits\n",
      "Writing out image to disk: jdxfa9hrq_sci2_blt.fits\n",
      "    Blot: creating blotted image:  jdxfa9hxq_flc.fits[sci,1]\n",
      "Using default C-based coordinate transformation...\n",
      "-Generating simple FITS output: jdxfa9hxq_sci1_blt.fits\n",
      "Writing out image to disk: jdxfa9hxq_sci1_blt.fits\n",
      "    Blot: creating blotted image:  jdxfa9hxq_flc.fits[sci,2]\n",
      "Using default C-based coordinate transformation...\n",
      "-Generating simple FITS output: jdxfa9hxq_sci2_blt.fits\n",
      "Writing out image to disk: jdxfa9hxq_sci2_blt.fits\n",
      "    Blot: creating blotted image:  jdxfa9iqq_flc.fits[sci,1]\n",
      "Using default C-based coordinate transformation...\n",
      "-Generating simple FITS output: jdxfa9iqq_sci1_blt.fits\n",
      "Writing out image to disk: jdxfa9iqq_sci1_blt.fits\n",
      "    Blot: creating blotted image:  jdxfa9iqq_flc.fits[sci,2]\n",
      "Using default C-based coordinate transformation...\n",
      "-Generating simple FITS output: jdxfa9iqq_sci2_blt.fits\n",
      "Writing out image to disk: jdxfa9iqq_sci2_blt.fits\n",
      "==== Processing Step Blot finished at 14:24:37.549 (02/02/2021)\n",
      "==== Processing Step  Driz_CR  started at  14:24:37.550 (02/02/2021)\n",
      "\n",
      "Creating output: jdxfa9i0q_sci1_crmask.fits\n",
      "Creating output: jdxfa9iaq_sci1_crmask.fits\n",
      "Creating output: jdxfa9hoq_sci1_crmask.fits\n",
      "Creating output: jdxfa9isq_sci1_crmask.fits\n",
      "Creating output: jdxfa9ikq_sci1_crmask.fits\n",
      "Creating output: jdxfa9ieq_sci1_crmask.fits\n",
      "Creating output: jdxfa9inq_sci1_crmask.fits\n",
      "Creating output: jdxfa9iqq_sci1_crmask.fits\n",
      "Creating output: jdxfa9hrq_sci1_crmask.fits\n",
      "Creating output: jdxfa9hxq_sci1_crmask.fits\n",
      "Creating output: jdxfa9ihq_sci1_crmask.fits\n",
      "Creating output: jdxfa9i7q_sci1_crmask.fits\n",
      "Creating output: jdxfa9i0q_sci2_crmask.fits\n",
      "Creating output: jdxfa9iaq_sci2_crmask.fits\n",
      "Creating output: jdxfa9hoq_sci2_crmask.fits\n",
      "Creating output: jdxfa9isq_sci2_crmask.fits\n",
      "Creating output: jdxfa9ikq_sci2_crmask.fits\n",
      "Creating output: jdxfa9iqq_sci2_crmask.fits\n",
      "Creating output: jdxfa9i7q_sci2_crmask.fits\n",
      "Creating output: jdxfa9inq_sci2_crmask.fits\n",
      "Created CR corrected file: 'jdxfa9i0q_crclean.fits'\n",
      "Creating output: jdxfa9ihq_sci2_crmask.fits\n",
      "Creating output: jdxfa9hxq_sci2_crmask.fits\n",
      "Creating output: jdxfa9ieq_sci2_crmask.fits\n",
      "Creating output: jdxfa9hrq_sci2_crmask.fits\n",
      "Created CR corrected file: 'jdxfa9iaq_crclean.fits'\n",
      "Created CR corrected file: 'jdxfa9hoq_crclean.fits'\n",
      "Created CR corrected file: 'jdxfa9ikq_crclean.fits'\n",
      "Created CR corrected file: 'jdxfa9isq_crclean.fits'\n",
      "Created CR corrected file: 'jdxfa9iqq_crclean.fits'\n",
      "Created CR corrected file: 'jdxfa9i7q_crclean.fits'\n",
      "Created CR corrected file: 'jdxfa9inq_crclean.fits'\n",
      "Created CR corrected file: 'jdxfa9ihq_crclean.fits'\n",
      "Created CR corrected file: 'jdxfa9hxq_crclean.fits'\n",
      "Created CR corrected file: 'jdxfa9hrq_crclean.fits'\n",
      "Created CR corrected file: 'jdxfa9ieq_crclean.fits'\n",
      "==== Processing Step Driz_CR finished at 14:24:49.957 (02/02/2021)\n",
      "==== Processing Step  Final Drizzle  started at  14:24:49.979 (02/02/2021)\n",
      "\n",
      "WCS Keywords\n",
      "\n",
      "Number of WCS axes: 2\n",
      "CTYPE : 'RA---TAN'  'DEC--TAN'  \n",
      "CRVAL : 189.1469847562453  62.293978429327  \n",
      "CRPIX : 2108.0  2122.5  \n",
      "CD1_1 CD1_2  : -1.3881105408369651e-05  4.649163469184382e-07  \n",
      "CD2_1 CD2_2  : 4.649163469184382e-07  1.3881105408369651e-05  \n",
      "NAXIS : 4216  4245\n",
      "-Generating multi-extension output file:  final_drc.fits\n",
      "Deleted all instances of WCS with key A in extensions [1]\n",
      "Writing out to disk: final_drc.fits\n",
      "==== Processing Step Final Drizzle finished at 14:25:45.777 (02/02/2021)\n",
      "\n",
      "AstroDrizzle Version 3.1.6 is finished processing at 14:25:45.779 (02/02/2021).\n",
      "\n",
      "\n",
      "\n",
      "   --------------------          --------------------\n",
      "                   Step          Elapsed time\n"
     ]
    },
    {
     "name": "stdout",
     "output_type": "stream",
     "text": [
      "   --------------------          --------------------\n",
      "\n",
      "         Initialization          6.2391 sec.\n",
      "            Static Mask          4.3619 sec.\n",
      "           Subtract Sky          10.5265 sec.\n",
      "       Separate Drizzle          6.4184 sec.\n",
      "          Create Median          22.2978 sec.\n",
      "                   Blot          31.6077 sec.\n",
      "                Driz_CR          12.4061 sec.\n",
      "          Final Drizzle          55.7988 sec.\n",
      "   ====================          ====================\n",
      "                  Total          149.6563 sec.\n",
      "\n",
      "Trailer file written to:  astrodrizzle.log\n"
     ]
    }
   ],
   "source": [
    "# Drizzle check\n",
    "\n",
    "from drizzlepac import astrodrizzle as ad\n",
    "import glob\n",
    "from stsci.tools import teal\n",
    "teal.unlearn('astrodrizzle')\n",
    "import os\n",
    "\n",
    "os.chdir('./test_feb2021_new_code/')\n",
    "\n",
    "files = glob.glob('*_flc.fits')\n",
    "ad.AstroDrizzle(files, driz_cr_corr=True, driz_combine=True, clean=True, build=True, driz_cr_snr='3.5 3.0')\n",
    "\n",
    "os.chdir('../')"
   ]
  },
  {
   "cell_type": "code",
   "execution_count": 7,
   "metadata": {},
   "outputs": [
    {
     "data": {
      "text/plain": [
       "Text(0, 0.5, 'Number of Pixels')"
      ]
     },
     "execution_count": 7,
     "metadata": {},
     "output_type": "execute_result"
    },
    {
     "data": {
      "image/png": "[encoded data removed]",
      "text/plain": [
       "<Figure size 432x288 with 1 Axes>"
      ]
     },
     "metadata": {
      "needs_background": "light"
     },
     "output_type": "display_data"
    }
   ],
   "source": [
    "from astropy.io import fits\n",
    "import matplotlib\n",
    "import matplotlib.pyplot as plt\n",
    "import numpy as np\n",
    "%matplotlib inline\n",
    "\n",
    "\n",
    "d = fits.getdata('../test_feb2021_new_code/final_drc.fits', 'SCI').flatten()\n",
    "a = plt.hist(d, bins=100, range=(-.015,.015))\n",
    "plt.axvline(np.nanmedian(d), color='red', ls='--')\n",
    "#plt.yscale('log')\n",
    "plt.xlabel('Signal [e/s]')\n",
    "plt.ylabel('Number of Pixels')\n",
    "#plt.title('New Visit A9 Drizzle')"
   ]
  },
  {
   "cell_type": "code",
   "execution_count": 141,
   "metadata": {},
   "outputs": [
    {
     "data": {
      "text/plain": [
       "Text(0, 0.5, 'Number of Pixels')"
      ]
     },
     "execution_count": 141,
     "metadata": {},
     "output_type": "execute_result"
    },
    {
     "data": {
      "image/png": "[encoded data removed]",
      "text/plain": [
       "<Figure size 432x288 with 1 Axes>"
      ]
     },
     "metadata": {
      "needs_background": "light"
     },
     "output_type": "display_data"
    }
   ],
   "source": [
    "d = fits.getdata('./test_feb2021_orig_code/final_drc.fits', 'SCI').flatten()\n",
    "a = plt.hist(d, bins=100, range=(-.015,.015))\n",
    "plt.axvline(np.nanmedian(d), color='red', ls='--')\n",
    "#plt.yscale('log')\n",
    "plt.xlabel('Signal [e/s]')\n",
    "plt.ylabel('Number of Pixels')\n",
    "#plt.title('New Visit A9 Drizzle')"
   ]
  },
  {
   "cell_type": "code",
   "execution_count": 145,
   "metadata": {},
   "outputs": [
    {
     "data": {
      "text/plain": [
       "Text(0.5, 1.0, 'Current Visit A9 Drizzle')"
      ]
     },
     "execution_count": 145,
     "metadata": {},
     "output_type": "execute_result"
    },
    {
     "data": {
      "image/png": "[encoded data removed]",
      "text/plain": [
       "<Figure size 432x288 with 1 Axes>"
      ]
     },
     "metadata": {
      "needs_background": "light"
     },
     "output_type": "display_data"
    }
   ],
   "source": [
    "d = fits.getdata('./test_feb2021/final_drc.fits', 'SCI').flatten()\n",
    "a = plt.hist(d, bins=100, range=(-.015,.015))\n",
    "plt.axvline(np.nanmedian(d), color='red', ls='--')\n",
    "#plt.yscale('log')\n",
    "plt.xlabel('Signal [e/s]')\n",
    "plt.ylabel('Number of Pixels')\n",
    "plt.title('Current Visit A9 Drizzle')"
   ]
  },
  {
   "cell_type": "code",
   "execution_count": 143,
   "metadata": {},
   "outputs": [
    {
     "data": {
      "text/plain": [
       "Text(0, 0.5, 'Number of Pixels')"
      ]
     },
     "execution_count": 143,
     "metadata": {},
     "output_type": "execute_result"
    },
    {
     "data": {
      "image/png": "[encoded data removed]",
      "text/plain": [
       "<Figure size 432x288 with 1 Axes>"
      ]
     },
     "metadata": {
      "needs_background": "light"
     },
     "output_type": "display_data"
    }
   ],
   "source": [
    "d = fits.getdata('./final_drc_old.fits', 'SCI').flatten()\n",
    "a = plt.hist(d, bins=100, range=(-.015,.015))\n",
    "plt.axvline(np.nanmedian(d), color='red', ls='--')\n",
    "#plt.yscale('log')\n",
    "plt.xlabel('Signal [e/s]')\n",
    "plt.ylabel('Number of Pixels')\n",
    "#plt.title('New Visit A9 Drizzle')"
   ]
  },
  {
   "cell_type": "code",
   "execution_count": 144,
   "metadata": {},
   "outputs": [
    {
     "data": {
      "text/plain": [
       "Text(0.5, 1.0, 'jdxfa9ihq_flc.fits')"
      ]
     },
     "execution_count": 144,
     "metadata": {},
     "output_type": "execute_result"
    },
    {
     "data": {
      "image/png": "[encoded data removed]",
      "text/plain": [
       "<Figure size 432x288 with 1 Axes>"
      ]
     },
     "metadata": {
      "needs_background": "light"
     },
     "output_type": "display_data"
    }
   ],
   "source": [
    "d = fits.getdata('./test_feb2021/jdxfa9ihq_flc.fits', 1).flatten()\n",
    "t = fits.getheader('./test_feb2021/jdxfa9ihq_flc.fits', 'PRIMARY')['EXPTIME']\n",
    "d = d/t\n",
    "a = plt.hist(d, bins=100, range=(-.03,.03))\n",
    "plt.axvline(np.nanmedian(d), color='red', ls='--')\n",
    "plt.xlabel('Signal [e/s]')\n",
    "plt.ylabel('Number of Pixels')\n",
    "plt.title('jdxfa9ihq_flc.fits')"
   ]
  },
  {
   "cell_type": "code",
   "execution_count": 49,
   "metadata": {},
   "outputs": [
    {
     "name": "stdout",
     "output_type": "stream",
     "text": [
      "0.0010628448\n",
      "0.0006169926\n",
      "0.0005666024\n",
      "0.000693424\n",
      "0.00060098025\n",
      "0.00070452003\n",
      "0.0005291895\n",
      "0.00072976376\n",
      "0.0015389442\n",
      "0.0005088779\n",
      "0.0012763393\n",
      "0.0010708232\n"
     ]
    }
   ],
   "source": [
    "for f in glob.glob('./test_feb2021/*flc.fits'):\n",
    "    d = fits.getdata(f, 1)\n",
    "    t = fits.getheader(f, 0)['EXPTIME']\n",
    "    print(np.nanmedian(d/t))"
   ]
  },
  {
   "cell_type": "code",
   "execution_count": 161,
   "metadata": {},
   "outputs": [
    {
     "name": "stdout",
     "output_type": "stream",
     "text": [
      "./test_feb2021/jdxfa9i0q_flc.fits\n",
      "22.262871265411377\n",
      "./test_feb2021/jdxfa9iaq_flc.fits\n",
      "14.739930629730225\n",
      "./test_feb2021/jdxfa9hoq_flc.fits\n",
      "13.615155220031738\n",
      "./test_feb2021/jdxfa9ikq_flc.fits\n",
      "17.16151237487793\n",
      "./test_feb2021/jdxfa9i7q_flc.fits\n",
      "16.644775867462158\n",
      "./test_feb2021/jdxfa9isq_flc.fits\n",
      "13.75417709350586\n",
      "./test_feb2021/jdxfa9ihq_flc.fits\n",
      "10.982000827789307\n",
      "./test_feb2021/jdxfa9ieq_flc.fits\n",
      "11.699402332305908\n",
      "./test_feb2021/jdxfa9inq_flc.fits\n",
      "28.15157175064087\n",
      "./test_feb2021/jdxfa9hrq_flc.fits\n",
      "13.078510761260986\n",
      "./test_feb2021/jdxfa9hxq_flc.fits\n",
      "30.581271648406982\n",
      "./test_feb2021/jdxfa9iqq_flc.fits\n",
      "16.42019748687744\n"
     ]
    }
   ],
   "source": [
    "for f in glob.glob('./test_feb2021/*a9*flc.fits'):\n",
    "    print(f)\n",
    "    d = fits.getdata(f, 3)\n",
    "    #t = fits.getheader(f, 0)['EXPTIME']\n",
    "    n = (len(d[d&4096!=0]) / (4096*2048)) * 100\n",
    "    print(np.nanmedian(n))"
   ]
  },
  {
   "cell_type": "code",
   "execution_count": 162,
   "metadata": {},
   "outputs": [
    {
     "name": "stdout",
     "output_type": "stream",
     "text": [
      "./test_feb2021_new_code/jdxfa9i0q_flc.fits\n",
      "3.7476420402526855\n",
      "./test_feb2021_new_code/jdxfa9iaq_flc.fits\n",
      "11.153948307037354\n",
      "./test_feb2021_new_code/jdxfa9hoq_flc.fits\n",
      "12.427759170532227\n",
      "./test_feb2021_new_code/jdxfa9ikq_flc.fits\n",
      "2.2089481353759766\n",
      "./test_feb2021_new_code/jdxfa9i7q_flc.fits\n",
      "4.911541938781738\n",
      "./test_feb2021_new_code/jdxfa9isq_flc.fits\n",
      "4.180479049682617\n",
      "./test_feb2021_new_code/jdxfa9ihq_flc.fits\n",
      "11.049211025238037\n",
      "./test_feb2021_new_code/jdxfa9ieq_flc.fits\n",
      "11.513876914978027\n",
      "./test_feb2021_new_code/jdxfa9inq_flc.fits\n",
      "1.390695571899414\n",
      "./test_feb2021_new_code/jdxfa9hrq_flc.fits\n",
      "13.071560859680176\n",
      "./test_feb2021_new_code/jdxfa9hxq_flc.fits\n",
      "1.2973666191101074\n",
      "./test_feb2021_new_code/jdxfa9iqq_flc.fits\n",
      "4.049563407897949\n"
     ]
    }
   ],
   "source": [
    "for f in glob.glob('./test_feb2021_new_code/*a9*flc.fits'):\n",
    "    print(f)\n",
    "    d = fits.getdata(f, 3)\n",
    "    #t = fits.getheader(f, 0)['EXPTIME']\n",
    "    n = (len(d[d&4096!=0]) / (4096*2048)) * 100\n",
    "    print(np.nanmedian(n))"
   ]
  },
  {
   "cell_type": "code",
   "execution_count": 163,
   "metadata": {},
   "outputs": [
    {
     "name": "stdout",
     "output_type": "stream",
     "text": [
      "./jdxfa9i0q_flc.fits\n",
      "3.4206271171569824\n",
      "./jdxfa9iaq_flc.fits\n",
      "7.924890518188477\n",
      "./jdxfa9hoq_flc.fits\n",
      "8.943426609039307\n",
      "./jdxfa9ikq_flc.fits\n",
      "2.096879482269287\n",
      "./jdxfa9i7q_flc.fits\n",
      "3.9365053176879883\n",
      "./jdxfa9isq_flc.fits\n",
      "3.5384774208068848\n",
      "./jdxfa9ihq_flc.fits\n",
      "8.138704299926758\n",
      "./jdxfa9ieq_flc.fits\n",
      "8.711099624633789\n",
      "./jdxfa9inq_flc.fits\n",
      "1.5570521354675293\n",
      "./jdxfa9hrq_flc.fits\n",
      "9.390771389007568\n",
      "./jdxfa9hxq_flc.fits\n",
      "1.4177441596984863\n",
      "./jdxfa9iqq_flc.fits\n",
      "3.700268268585205\n"
     ]
    }
   ],
   "source": [
    "for f in glob.glob('./*a9*flc.fits'):\n",
    "    print(f)\n",
    "    d = fits.getdata(f, 3)\n",
    "    #t = fits.getheader(f, 0)['EXPTIME']\n",
    "    n = (len(d[d&4096!=0]) / (4096*2048)) * 100\n",
    "    print(np.nanmedian(n))"
   ]
  },
  {
   "cell_type": "code",
   "execution_count": 165,
   "metadata": {},
   "outputs": [
    {
     "name": "stdout",
     "output_type": "stream",
     "text": [
      "./jdxfa9i0q_flc.fits\n",
      "71.613525\n",
      "./jdxfa9iaq_flc.fits\n",
      "17.363825\n",
      "./jdxfa9hoq_flc.fits\n",
      "13.707466\n",
      "./jdxfa9ikq_flc.fits\n",
      "63.209267\n",
      "./jdxfa9i7q_flc.fits\n",
      "35.688866\n",
      "./jdxfa9isq_flc.fits\n",
      "30.954384\n",
      "./jdxfa9ihq_flc.fits\n",
      "9.823201\n",
      "./jdxfa9ieq_flc.fits\n",
      "10.132814\n",
      "./jdxfa9inq_flc.fits\n",
      "228.12245\n",
      "./jdxfa9hrq_flc.fits\n",
      "12.226781\n",
      "./jdxfa9hxq_flc.fits\n",
      "261.86084\n",
      "./jdxfa9iqq_flc.fits\n",
      "43.820576\n"
     ]
    }
   ],
   "source": [
    "for f in glob.glob('./*a9*flc.fits'):\n",
    "    print(f)\n",
    "    d = fits.getdata(f, 1)\n",
    "    #t = fits.getheader(f, 0)['EXPTIME']\n",
    "    #n = (len(d[d&4096!=0]) / (4096*2048)) * 100\n",
    "    print(np.nanmedian(d))"
   ]
  },
  {
   "cell_type": "code",
   "execution_count": null,
   "metadata": {},
   "outputs": [],
   "source": []
  },
  {
   "cell_type": "code",
   "execution_count": null,
   "metadata": {},
   "outputs": [],
   "source": []
  },
  {
   "cell_type": "code",
   "execution_count": 147,
   "metadata": {},
   "outputs": [
    {
     "name": "stdout",
     "output_type": "stream",
     "text": [
      "./MAST_flcs/jdxfa9i0q_flc.fits\n",
      "2.117788791656494\n",
      "./MAST_flcs/jdxfa9iaq_flc.fits\n",
      "2.450680732727051\n",
      "./MAST_flcs/jdxfa9hoq_flc.fits\n",
      "2.644073963165283\n",
      "./MAST_flcs/jdxfa9ikq_flc.fits\n",
      "1.1105775833129883\n",
      "./MAST_flcs/jdxfa9i7q_flc.fits\n",
      "1.803910732269287\n",
      "./MAST_flcs/jdxfa9isq_flc.fits\n",
      "1.6469717025756836\n",
      "./MAST_flcs/jdxfa9ihq_flc.fits\n",
      "2.454686164855957\n",
      "./MAST_flcs/jdxfa9ieq_flc.fits\n",
      "2.855658531188965\n",
      "./MAST_flcs/jdxfa9inq_flc.fits\n",
      "1.1486172676086426\n",
      "./MAST_flcs/jdxfa9hrq_flc.fits\n",
      "2.5183558464050293\n",
      "./MAST_flcs/jdxfa9hxq_flc.fits\n",
      "1.0412335395812988\n",
      "./MAST_flcs/jdxfa9iqq_flc.fits\n",
      "2.223086357116699\n"
     ]
    }
   ],
   "source": [
    "for f in glob.glob('./MAST_flcs/*a9*flc.fits'):\n",
    "    print(f)\n",
    "    d = fits.getdata(f, 3)\n",
    "    #t = fits.getheader(f, 0)['EXPTIME']\n",
    "    n = (len(d[d&4096!=0]) / (4096*2048)) * 100\n",
    "    print(np.nanmedian(n))"
   ]
  },
  {
   "cell_type": "code",
   "execution_count": 146,
   "metadata": {},
   "outputs": [
    {
     "name": "stdout",
     "output_type": "stream",
     "text": [
      "./MAST_flcs/jdxfa9i0q_flc.fits\n",
      "177653.0\n",
      "./MAST_flcs/jdxfa9iaq_flc.fits\n",
      "205578.0\n",
      "./MAST_flcs/jdxfa9hoq_flc.fits\n",
      "221801.0\n",
      "./MAST_flcs/jdxfa9ikq_flc.fits\n",
      "93162.0\n",
      "./MAST_flcs/jdxfa9i7q_flc.fits\n",
      "151323.0\n",
      "./MAST_flcs/jdxfa9isq_flc.fits\n",
      "138158.0\n",
      "./MAST_flcs/jdxfa9ihq_flc.fits\n",
      "205914.0\n",
      "./MAST_flcs/jdxfa9ieq_flc.fits\n",
      "239550.0\n",
      "./MAST_flcs/jdxfa9inq_flc.fits\n",
      "96353.0\n",
      "./MAST_flcs/jdxfa9hrq_flc.fits\n",
      "211255.0\n",
      "./MAST_flcs/jdxfa9hxq_flc.fits\n",
      "87345.0\n",
      "./MAST_flcs/jdxfa9iqq_flc.fits\n",
      "186486.0\n"
     ]
    }
   ],
   "source": [
    "for f in glob.glob('./MAST_flcs/*a9*flc.fits'):\n",
    "    print(f)\n",
    "    d = fits.getdata(f, 3)\n",
    "    #t = fits.getheader(f, 0)['EXPTIME']\n",
    "    n = len(d[d&4096!=0])\n",
    "    print(np.nanmedian(n))"
   ]
  },
  {
   "cell_type": "code",
   "execution_count": 66,
   "metadata": {},
   "outputs": [
    {
     "data": {
      "text/plain": [
       "2.117788791656494"
      ]
     },
     "execution_count": 66,
     "metadata": {},
     "output_type": "execute_result"
    }
   ],
   "source": [
    "(177653 / (2048*4096)) * 100"
   ]
  },
  {
   "cell_type": "code",
   "execution_count": 62,
   "metadata": {},
   "outputs": [
    {
     "data": {
      "text/plain": [
       "(2048, 4096)"
      ]
     },
     "execution_count": 62,
     "metadata": {},
     "output_type": "execute_result"
    }
   ],
   "source": [
    "d.shape"
   ]
  },
  {
   "cell_type": "code",
   "execution_count": 60,
   "metadata": {},
   "outputs": [
    {
     "data": {
      "text/plain": [
       "array([[4096,    0,    0, ...,    0,    0,    0],\n",
       "       [4096,    0,    0, ...,    0,    0,    0],\n",
       "       [4096, 4096, 4096, ...,    0,    0,    0],\n",
       "       ...,\n",
       "       [4096,    0,    0, ..., 4096,    0,    0],\n",
       "       [4096, 4096,    0, ..., 4096, 4096,    0],\n",
       "       [4096, 4096, 4096, ..., 4096, 4096, 4096]], dtype=uint16)"
      ]
     },
     "execution_count": 60,
     "metadata": {},
     "output_type": "execute_result"
    }
   ],
   "source": [
    "d"
   ]
  },
  {
   "cell_type": "code",
   "execution_count": 19,
   "metadata": {},
   "outputs": [
    {
     "data": {
      "text/plain": [
       "'ELECTRONS/S'"
      ]
     },
     "execution_count": 19,
     "metadata": {},
     "output_type": "execute_result"
    }
   ],
   "source": [
    "fits.getheader('./test_feb2021/final_drc.fits', 'SCI')['BUNIT']"
   ]
  },
  {
   "cell_type": "code",
   "execution_count": 27,
   "metadata": {},
   "outputs": [
    {
     "data": {
      "text/plain": [
       "('ELECTRONS', 773.0)"
      ]
     },
     "execution_count": 27,
     "metadata": {},
     "output_type": "execute_result"
    }
   ],
   "source": [
    "fits.getheader('./test_feb2021/jdxfa9hoq_flc.fits', 'SCI')['BUNIT'],\\\n",
    "fits.getheader('./test_feb2021/jdxfa9hoq_flc.fits', 'PRIMARY')['EXPTIME']"
   ]
  },
  {
   "cell_type": "code",
   "execution_count": 50,
   "metadata": {},
   "outputs": [
    {
     "data": {
      "text/plain": [
       "'./test_feb2021/jdxfa9iqq_flc.fits'"
      ]
     },
     "execution_count": 50,
     "metadata": {},
     "output_type": "execute_result"
    }
   ],
   "source": [
    "f"
   ]
  },
  {
   "cell_type": "code",
   "execution_count": null,
   "metadata": {},
   "outputs": [],
   "source": []
  },
  {
   "cell_type": "code",
   "execution_count": 25,
   "metadata": {},
   "outputs": [
    {
     "data": {
      "text/plain": [
       "16.0"
      ]
     },
     "execution_count": 25,
     "metadata": {},
     "output_type": "execute_result"
    }
   ],
   "source": [
    "2048/128"
   ]
  },
  {
   "cell_type": "code",
   "execution_count": null,
   "metadata": {},
   "outputs": [],
   "source": []
  },
  {
   "cell_type": "code",
   "execution_count": 20,
   "metadata": {},
   "outputs": [
    {
     "data": {
      "text/plain": [
       "-0.0036967215"
      ]
     },
     "execution_count": 20,
     "metadata": {},
     "output_type": "execute_result"
    }
   ],
   "source": [
    "np.nanmedian(d)"
   ]
  },
  {
   "cell_type": "code",
   "execution_count": null,
   "metadata": {},
   "outputs": [],
   "source": [
    "d = fits.getdata('./test_feb2021/final_drc.fits', 'SCI').flatten()\n"
   ]
  }
 ],
 "metadata": {
  "kernelspec": {
   "display_name": "Python 3",
   "language": "python",
   "name": "python3"
  },
  "language_info": {
   "codemirror_mode": {
    "name": "ipython",
    "version": 3
   },
   "file_extension": ".py",
   "mimetype": "text/x-python",
   "name": "python",
   "nbconvert_exporter": "python",
   "pygments_lexer": "ipython3",
   "version": "3.6.10"
  }
 },
 "nbformat": 4,
 "nbformat_minor": 2
}
