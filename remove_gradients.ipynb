{
 "cells": [
  {
   "cell_type": "code",
   "execution_count": 10,
   "metadata": {},
   "outputs": [
    {
     "name": "stdout",
     "output_type": "stream",
     "text": [
      "Working on jdxfa9inq_flc.fits ...\n",
      "\tWorking on extension 1...\n"
     ]
    },
    {
     "name": "stderr",
     "output_type": "stream",
     "text": [
      "/Users/bsunnquist/miniconda3/envs/astroconda/lib/python3.5/site-packages/numpy/core/fromnumeric.py:639: UserWarning: Warning: 'partition' will ignore the 'mask' of the MaskedArray.\n",
      "  a.partition(kth, axis=axis, kind=kind, order=order)\n"
     ]
    },
    {
     "name": "stdout",
     "output_type": "stream",
     "text": [
      "\tFinding the background gradient...\n",
      "\tSubtracting the background gradient\n",
      "\tWorking on extension 4...\n",
      "\tFinding the background gradient...\n",
      "\tSubtracting the background gradient\n",
      "Finished removing background gradient from jdxfa9inq_flc.fits\n",
      "Working on jdxfa9hxq_flc.fits ...\n",
      "\tWorking on extension 1...\n",
      "\tFinding the background gradient...\n",
      "\tSubtracting the background gradient\n",
      "\tWorking on extension 4...\n",
      "\tFinding the background gradient...\n",
      "\tSubtracting the background gradient\n",
      "Finished removing background gradient from jdxfa9hxq_flc.fits\n",
      "Working on jdxfa9ikq_flc.fits ...\n",
      "\tWorking on extension 1...\n",
      "\tFinding the background gradient...\n",
      "\tSubtracting the background gradient\n",
      "\tWorking on extension 4...\n",
      "\tFinding the background gradient...\n",
      "\tSubtracting the background gradient\n",
      "Finished removing background gradient from jdxfa9ikq_flc.fits\n"
     ]
    }
   ],
   "source": [
    "# Removes large-scale background gradients from the input flc files\n",
    "\n",
    "import glob\n",
    "\n",
    "from astropy.io import fits\n",
    "from astropy.stats import SigmaClip, sigma_clip\n",
    "import numpy as np\n",
    "from photutils import Background2D, MedianBackground\n",
    "\n",
    "# The files to remove the background gradient from\n",
    "files = ['jdxfa9inq_flc.fits', 'jdxfa9hxq_flc.fits', 'jdxfa9ikq_flc.fits']\n",
    "\n",
    "# Subtract the background gradient from each of the above files\n",
    "for f in files:\n",
    "    print('Working on {} ...'.format(os.path.basename(f)))\n",
    "    h = fits.open(f)\n",
    "    for ext in [1,4]:\n",
    "        print('\\tWorking on extension {}...'.format(ext))\n",
    "        data_orig = np.copy(h[ext].data)\n",
    "        data = h[ext].data\n",
    "\n",
    "        # Subtract off median\n",
    "        clipped = sigma_clip(data, sigma=3, iters=5)\n",
    "        data = data - np.nanmedian(clipped)\n",
    "\n",
    "        # Find the background gradient\n",
    "        print('\\tFinding the background gradient...')\n",
    "        s = SigmaClip(sigma=3.)\n",
    "        bkg_estimator = MedianBackground()\n",
    "        bkg = Background2D(data, (150, 150), filter_size=(10, 10), \n",
    "                           sigma_clip=s, bkg_estimator=bkg_estimator)\n",
    "        skydark = bkg.background\n",
    "        fits.writeto('{}_bkg_ext{}.fits'.format(os.path.basename(f).split('_')[0], ext), \n",
    "                     skydark, overwrite=True)\n",
    "\n",
    "        # Subtract the background gradient from the image\n",
    "        print('\\tSubtracting the background gradient')\n",
    "        data_new = data_orig - skydark\n",
    "        h[ext].data = data_new.astype('float32')\n",
    "\n",
    "    h.writeto(f, overwrite=True)\n",
    "    print('Finished removing background gradient from {}'.format(os.path.basename(f)))\n"
   ]
  },
  {
   "cell_type": "code",
   "execution_count": null,
   "metadata": {
    "collapsed": true
   },
   "outputs": [],
   "source": []
  },
  {
   "cell_type": "code",
   "execution_count": 8,
   "metadata": {},
   "outputs": [
    {
     "name": "stdout",
     "output_type": "stream",
     "text": [
      "Filename: jdxfa9ikq_flc.fits\n",
      "No.    Name      Ver    Type      Cards   Dimensions   Format\n",
      "  0  PRIMARY       1 PrimaryHDU     285   ()      \n",
      "  1  SCI           1 ImageHDU       228   (4096, 2048)   float32   \n",
      "  2  ERR           1 ImageHDU        56   (4096, 2048)   float32   \n",
      "  3  DQ            1 ImageHDU        48   (4096, 2048)   int16   \n",
      "  4  SCI           2 ImageHDU       224   (4096, 2048)   float32   \n",
      "  5  ERR           2 ImageHDU        56   (4096, 2048)   float32   \n",
      "  6  DQ            2 ImageHDU        48   (4096, 2048)   int16   \n",
      "  7  WCSCORR       1 BinTableHDU     59   14R x 24C   [40A, I, A, 24A, 24A, 24A, 24A, D, D, D, D, D, D, D, D, 24A, 24A, D, D, D, D, J, 40A, 128A]   \n",
      "  8  WCSDVARR      1 ImageHDU        15   (64, 32)   float32   \n",
      "  9  WCSDVARR      2 ImageHDU        15   (64, 32)   float32   \n",
      " 10  D2IMARR       1 ImageHDU        15   (64, 32)   float32   \n",
      " 11  D2IMARR       2 ImageHDU        15   (64, 32)   float32   \n",
      " 12  WCSDVARR      3 ImageHDU        15   (64, 32)   float32   \n",
      " 13  WCSDVARR      4 ImageHDU        15   (64, 32)   float32   \n",
      " 14  D2IMARR       3 ImageHDU        15   (64, 32)   float32   \n",
      " 15  D2IMARR       4 ImageHDU        15   (64, 32)   float32   \n",
      " 16  HDRLET        1 NonstandardExtHDU     26   ()      \n",
      " 17  HDRLET        2 NonstandardExtHDU     26   ()      \n"
     ]
    }
   ],
   "source": [
    "fits.info(f)"
   ]
  },
  {
   "cell_type": "code",
   "execution_count": 9,
   "metadata": {},
   "outputs": [
    {
     "name": "stdout",
     "output_type": "stream",
     "text": [
      "Filename: ./MAST_flcs/jdxfa9ikq_flc.fits\n",
      "No.    Name      Ver    Type      Cards   Dimensions   Format\n",
      "  0  PRIMARY       1 PrimaryHDU     285   ()      \n",
      "  1  SCI           1 ImageHDU       228   (4096, 2048)   float32   \n",
      "  2  ERR           1 ImageHDU        56   (4096, 2048)   float32   \n",
      "  3  DQ            1 ImageHDU        48   (4096, 2048)   int16   \n",
      "  4  SCI           2 ImageHDU       224   (4096, 2048)   float32   \n",
      "  5  ERR           2 ImageHDU        56   (4096, 2048)   float32   \n",
      "  6  DQ            2 ImageHDU        48   (4096, 2048)   int16   \n",
      "  7  WCSCORR       1 BinTableHDU     59   14R x 24C   [40A, I, A, 24A, 24A, 24A, 24A, D, D, D, D, D, D, D, D, 24A, 24A, D, D, D, D, J, 40A, 128A]   \n",
      "  8  WCSDVARR      1 ImageHDU        15   (64, 32)   float32   \n",
      "  9  WCSDVARR      2 ImageHDU        15   (64, 32)   float32   \n",
      " 10  D2IMARR       1 ImageHDU        15   (64, 32)   float32   \n",
      " 11  D2IMARR       2 ImageHDU        15   (64, 32)   float32   \n",
      " 12  WCSDVARR      3 ImageHDU        15   (64, 32)   float32   \n",
      " 13  WCSDVARR      4 ImageHDU        15   (64, 32)   float32   \n",
      " 14  D2IMARR       3 ImageHDU        15   (64, 32)   float32   \n",
      " 15  D2IMARR       4 ImageHDU        15   (64, 32)   float32   \n",
      " 16  HDRLET        1 NonstandardExtHDU     26   ()      \n",
      " 17  HDRLET        2 NonstandardExtHDU     26   ()      \n"
     ]
    }
   ],
   "source": [
    "fits.info('./MAST_flcs/jdxfa9ikq_flc.fits')"
   ]
  },
  {
   "cell_type": "code",
   "execution_count": null,
   "metadata": {
    "collapsed": true
   },
   "outputs": [],
   "source": []
  }
 ],
 "metadata": {
  "kernelspec": {
   "display_name": "Python 3",
   "language": "python",
   "name": "python3"
  },
  "language_info": {
   "codemirror_mode": {
    "name": "ipython",
    "version": 3
   },
   "file_extension": ".py",
   "mimetype": "text/x-python",
   "name": "python",
   "nbconvert_exporter": "python",
   "pygments_lexer": "ipython3",
   "version": "3.5.4"
  }
 },
 "nbformat": 4,
 "nbformat_minor": 2
}
